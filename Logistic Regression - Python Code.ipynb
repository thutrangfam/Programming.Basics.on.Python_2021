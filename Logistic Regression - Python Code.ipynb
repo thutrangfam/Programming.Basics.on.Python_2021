{
 "cells": [
  {
   "cell_type": "markdown",
   "id": "f465c619",
   "metadata": {},
   "source": [
    "# PROJECT: TOBACCO KILLS\n",
    "\n",
    "**Фам Тху Чанг**"
   ]
  },
  {
   "cell_type": "code",
   "execution_count": 1,
   "id": "038b1a44",
   "metadata": {},
   "outputs": [],
   "source": [
    "import pandas as pd\n",
    "import numpy as np\n",
    "import matplotlib.pyplot as plt \n",
    "import seaborn as sns "
   ]
  },
  {
   "cell_type": "code",
   "execution_count": 2,
   "id": "6a73b77a",
   "metadata": {
    "scrolled": false
   },
   "outputs": [
    {
     "data": {
      "text/html": [
       "<div>\n",
       "<style scoped>\n",
       "    .dataframe tbody tr th:only-of-type {\n",
       "        vertical-align: middle;\n",
       "    }\n",
       "\n",
       "    .dataframe tbody tr th {\n",
       "        vertical-align: top;\n",
       "    }\n",
       "\n",
       "    .dataframe thead th {\n",
       "        text-align: right;\n",
       "    }\n",
       "</style>\n",
       "<table border=\"1\" class=\"dataframe\">\n",
       "  <thead>\n",
       "    <tr style=\"text-align: right;\">\n",
       "      <th></th>\n",
       "      <th>HeartDisease</th>\n",
       "      <th>BMI</th>\n",
       "      <th>Smoking</th>\n",
       "      <th>AlcoholDrinking</th>\n",
       "      <th>Stroke</th>\n",
       "      <th>PhysicalHealth</th>\n",
       "      <th>MentalHealth</th>\n",
       "      <th>DiffWalking</th>\n",
       "      <th>Sex</th>\n",
       "      <th>AgeCategory</th>\n",
       "      <th>Race</th>\n",
       "      <th>Diabetic</th>\n",
       "      <th>PhysicalActivity</th>\n",
       "      <th>GenHealth</th>\n",
       "      <th>SleepTime</th>\n",
       "      <th>Asthma</th>\n",
       "      <th>KidneyDisease</th>\n",
       "      <th>SkinCancer</th>\n",
       "    </tr>\n",
       "  </thead>\n",
       "  <tbody>\n",
       "    <tr>\n",
       "      <th>0</th>\n",
       "      <td>No</td>\n",
       "      <td>16.60</td>\n",
       "      <td>Yes</td>\n",
       "      <td>No</td>\n",
       "      <td>No</td>\n",
       "      <td>3</td>\n",
       "      <td>30</td>\n",
       "      <td>No</td>\n",
       "      <td>Female</td>\n",
       "      <td>55-59</td>\n",
       "      <td>White</td>\n",
       "      <td>Yes</td>\n",
       "      <td>Yes</td>\n",
       "      <td>Very good</td>\n",
       "      <td>5</td>\n",
       "      <td>Yes</td>\n",
       "      <td>No</td>\n",
       "      <td>Yes</td>\n",
       "    </tr>\n",
       "    <tr>\n",
       "      <th>1</th>\n",
       "      <td>No</td>\n",
       "      <td>20.34</td>\n",
       "      <td>No</td>\n",
       "      <td>No</td>\n",
       "      <td>Yes</td>\n",
       "      <td>0</td>\n",
       "      <td>0</td>\n",
       "      <td>No</td>\n",
       "      <td>Female</td>\n",
       "      <td>80 or older</td>\n",
       "      <td>White</td>\n",
       "      <td>No</td>\n",
       "      <td>Yes</td>\n",
       "      <td>Very good</td>\n",
       "      <td>7</td>\n",
       "      <td>No</td>\n",
       "      <td>No</td>\n",
       "      <td>No</td>\n",
       "    </tr>\n",
       "    <tr>\n",
       "      <th>2</th>\n",
       "      <td>No</td>\n",
       "      <td>26.58</td>\n",
       "      <td>Yes</td>\n",
       "      <td>No</td>\n",
       "      <td>No</td>\n",
       "      <td>20</td>\n",
       "      <td>30</td>\n",
       "      <td>No</td>\n",
       "      <td>Male</td>\n",
       "      <td>65-69</td>\n",
       "      <td>White</td>\n",
       "      <td>Yes</td>\n",
       "      <td>Yes</td>\n",
       "      <td>Fair</td>\n",
       "      <td>8</td>\n",
       "      <td>Yes</td>\n",
       "      <td>No</td>\n",
       "      <td>No</td>\n",
       "    </tr>\n",
       "    <tr>\n",
       "      <th>3</th>\n",
       "      <td>No</td>\n",
       "      <td>24.21</td>\n",
       "      <td>No</td>\n",
       "      <td>No</td>\n",
       "      <td>No</td>\n",
       "      <td>0</td>\n",
       "      <td>0</td>\n",
       "      <td>No</td>\n",
       "      <td>Female</td>\n",
       "      <td>75-79</td>\n",
       "      <td>White</td>\n",
       "      <td>No</td>\n",
       "      <td>No</td>\n",
       "      <td>Good</td>\n",
       "      <td>6</td>\n",
       "      <td>No</td>\n",
       "      <td>No</td>\n",
       "      <td>Yes</td>\n",
       "    </tr>\n",
       "    <tr>\n",
       "      <th>4</th>\n",
       "      <td>No</td>\n",
       "      <td>23.71</td>\n",
       "      <td>No</td>\n",
       "      <td>No</td>\n",
       "      <td>No</td>\n",
       "      <td>28</td>\n",
       "      <td>0</td>\n",
       "      <td>Yes</td>\n",
       "      <td>Female</td>\n",
       "      <td>40-44</td>\n",
       "      <td>White</td>\n",
       "      <td>No</td>\n",
       "      <td>Yes</td>\n",
       "      <td>Very good</td>\n",
       "      <td>8</td>\n",
       "      <td>No</td>\n",
       "      <td>No</td>\n",
       "      <td>No</td>\n",
       "    </tr>\n",
       "  </tbody>\n",
       "</table>\n",
       "</div>"
      ],
      "text/plain": [
       "  HeartDisease    BMI Smoking AlcoholDrinking Stroke  PhysicalHealth  \\\n",
       "0           No  16.60     Yes              No     No               3   \n",
       "1           No  20.34      No              No    Yes               0   \n",
       "2           No  26.58     Yes              No     No              20   \n",
       "3           No  24.21      No              No     No               0   \n",
       "4           No  23.71      No              No     No              28   \n",
       "\n",
       "   MentalHealth DiffWalking     Sex  AgeCategory   Race Diabetic  \\\n",
       "0            30          No  Female        55-59  White      Yes   \n",
       "1             0          No  Female  80 or older  White       No   \n",
       "2            30          No    Male        65-69  White      Yes   \n",
       "3             0          No  Female        75-79  White       No   \n",
       "4             0         Yes  Female        40-44  White       No   \n",
       "\n",
       "  PhysicalActivity  GenHealth  SleepTime Asthma KidneyDisease SkinCancer  \n",
       "0              Yes  Very good          5    Yes            No        Yes  \n",
       "1              Yes  Very good          7     No            No         No  \n",
       "2              Yes       Fair          8    Yes            No         No  \n",
       "3               No       Good          6     No            No        Yes  \n",
       "4              Yes  Very good          8     No            No         No  "
      ]
     },
     "execution_count": 2,
     "metadata": {},
     "output_type": "execute_result"
    }
   ],
   "source": [
    "tbckills = pd.read_csv('heart_2020.csv')\n",
    "tbckills.head()"
   ]
  },
  {
   "cell_type": "markdown",
   "id": "f216a840",
   "metadata": {},
   "source": [
    "# Stage 2: Preliminary processing"
   ]
  },
  {
   "cell_type": "markdown",
   "id": "08f76b16",
   "metadata": {},
   "source": [
    "**Step 1: Number of participants & NaN values**\n",
    "\n",
    "**Result**: The research involves 319795 participants and contains 18 variables. There is no NaN value, which means all participants give full answers."
   ]
  },
  {
   "cell_type": "code",
   "execution_count": 3,
   "id": "ef1fa45c",
   "metadata": {},
   "outputs": [
    {
     "name": "stdout",
     "output_type": "stream",
     "text": [
      "The number of participants in the research is: 319795\n",
      "The number of variables in the research is: 18\n"
     ]
    }
   ],
   "source": [
    "print(f'The number of participants in the research is: {tbckills.shape[0]}')\n",
    "print(f'The number of variables in the research is: {tbckills.shape[1]}')\n"
   ]
  },
  {
   "cell_type": "code",
   "execution_count": 4,
   "id": "086dec1e",
   "metadata": {},
   "outputs": [
    {
     "data": {
      "text/plain": [
       "HeartDisease        0\n",
       "BMI                 0\n",
       "Smoking             0\n",
       "AlcoholDrinking     0\n",
       "Stroke              0\n",
       "PhysicalHealth      0\n",
       "MentalHealth        0\n",
       "DiffWalking         0\n",
       "Sex                 0\n",
       "AgeCategory         0\n",
       "Race                0\n",
       "Diabetic            0\n",
       "PhysicalActivity    0\n",
       "GenHealth           0\n",
       "SleepTime           0\n",
       "Asthma              0\n",
       "KidneyDisease       0\n",
       "SkinCancer          0\n",
       "dtype: int64"
      ]
     },
     "execution_count": 4,
     "metadata": {},
     "output_type": "execute_result"
    }
   ],
   "source": [
    "tbckills_NaN = tbckills.isnull().sum()\n",
    "tbckills_NaN"
   ]
  },
  {
   "cell_type": "markdown",
   "id": "e2d7e199",
   "metadata": {},
   "source": [
    "\n",
    "**Step 2: Remove 5 unnecessary/irrelevant factors**\n",
    "\n",
    "- **Physical Health**: The number of days in the last month where the physical health has not been good\n",
    "- **Mental Health**: The number of days in the last month where mental health has not been good\n",
    "- **Race**: Race has little to do with health conditions, and white people account for more than 76% of the participants, so this factor is removed.\n",
    "- **Diff Walking**: Walking difficulty\n",
    "- **Skin Cancer**"
   ]
  },
  {
   "cell_type": "code",
   "execution_count": 5,
   "id": "fe97f945",
   "metadata": {},
   "outputs": [
    {
     "data": {
      "text/html": [
       "<div>\n",
       "<style scoped>\n",
       "    .dataframe tbody tr th:only-of-type {\n",
       "        vertical-align: middle;\n",
       "    }\n",
       "\n",
       "    .dataframe tbody tr th {\n",
       "        vertical-align: top;\n",
       "    }\n",
       "\n",
       "    .dataframe thead th {\n",
       "        text-align: right;\n",
       "    }\n",
       "</style>\n",
       "<table border=\"1\" class=\"dataframe\">\n",
       "  <thead>\n",
       "    <tr style=\"text-align: right;\">\n",
       "      <th></th>\n",
       "      <th>HeartDisease</th>\n",
       "      <th>BMI</th>\n",
       "      <th>Smoking</th>\n",
       "      <th>AlcoholDrinking</th>\n",
       "      <th>Stroke</th>\n",
       "      <th>Sex</th>\n",
       "      <th>AgeCategory</th>\n",
       "      <th>Race</th>\n",
       "      <th>Diabetic</th>\n",
       "      <th>PhysicalActivity</th>\n",
       "      <th>GenHealth</th>\n",
       "      <th>SleepTime</th>\n",
       "      <th>Asthma</th>\n",
       "      <th>KidneyDisease</th>\n",
       "    </tr>\n",
       "  </thead>\n",
       "  <tbody>\n",
       "    <tr>\n",
       "      <th>0</th>\n",
       "      <td>No</td>\n",
       "      <td>16.60</td>\n",
       "      <td>Yes</td>\n",
       "      <td>No</td>\n",
       "      <td>No</td>\n",
       "      <td>Female</td>\n",
       "      <td>55-59</td>\n",
       "      <td>White</td>\n",
       "      <td>Yes</td>\n",
       "      <td>Yes</td>\n",
       "      <td>Very good</td>\n",
       "      <td>5</td>\n",
       "      <td>Yes</td>\n",
       "      <td>No</td>\n",
       "    </tr>\n",
       "    <tr>\n",
       "      <th>1</th>\n",
       "      <td>No</td>\n",
       "      <td>20.34</td>\n",
       "      <td>No</td>\n",
       "      <td>No</td>\n",
       "      <td>Yes</td>\n",
       "      <td>Female</td>\n",
       "      <td>80 or older</td>\n",
       "      <td>White</td>\n",
       "      <td>No</td>\n",
       "      <td>Yes</td>\n",
       "      <td>Very good</td>\n",
       "      <td>7</td>\n",
       "      <td>No</td>\n",
       "      <td>No</td>\n",
       "    </tr>\n",
       "    <tr>\n",
       "      <th>2</th>\n",
       "      <td>No</td>\n",
       "      <td>26.58</td>\n",
       "      <td>Yes</td>\n",
       "      <td>No</td>\n",
       "      <td>No</td>\n",
       "      <td>Male</td>\n",
       "      <td>65-69</td>\n",
       "      <td>White</td>\n",
       "      <td>Yes</td>\n",
       "      <td>Yes</td>\n",
       "      <td>Fair</td>\n",
       "      <td>8</td>\n",
       "      <td>Yes</td>\n",
       "      <td>No</td>\n",
       "    </tr>\n",
       "    <tr>\n",
       "      <th>3</th>\n",
       "      <td>No</td>\n",
       "      <td>24.21</td>\n",
       "      <td>No</td>\n",
       "      <td>No</td>\n",
       "      <td>No</td>\n",
       "      <td>Female</td>\n",
       "      <td>75-79</td>\n",
       "      <td>White</td>\n",
       "      <td>No</td>\n",
       "      <td>No</td>\n",
       "      <td>Good</td>\n",
       "      <td>6</td>\n",
       "      <td>No</td>\n",
       "      <td>No</td>\n",
       "    </tr>\n",
       "    <tr>\n",
       "      <th>4</th>\n",
       "      <td>No</td>\n",
       "      <td>23.71</td>\n",
       "      <td>No</td>\n",
       "      <td>No</td>\n",
       "      <td>No</td>\n",
       "      <td>Female</td>\n",
       "      <td>40-44</td>\n",
       "      <td>White</td>\n",
       "      <td>No</td>\n",
       "      <td>Yes</td>\n",
       "      <td>Very good</td>\n",
       "      <td>8</td>\n",
       "      <td>No</td>\n",
       "      <td>No</td>\n",
       "    </tr>\n",
       "  </tbody>\n",
       "</table>\n",
       "</div>"
      ],
      "text/plain": [
       "  HeartDisease    BMI Smoking AlcoholDrinking Stroke     Sex  AgeCategory  \\\n",
       "0           No  16.60     Yes              No     No  Female        55-59   \n",
       "1           No  20.34      No              No    Yes  Female  80 or older   \n",
       "2           No  26.58     Yes              No     No    Male        65-69   \n",
       "3           No  24.21      No              No     No  Female        75-79   \n",
       "4           No  23.71      No              No     No  Female        40-44   \n",
       "\n",
       "    Race Diabetic PhysicalActivity  GenHealth  SleepTime Asthma KidneyDisease  \n",
       "0  White      Yes              Yes  Very good          5    Yes            No  \n",
       "1  White       No              Yes  Very good          7     No            No  \n",
       "2  White      Yes              Yes       Fair          8    Yes            No  \n",
       "3  White       No               No       Good          6     No            No  \n",
       "4  White       No              Yes  Very good          8     No            No  "
      ]
     },
     "execution_count": 5,
     "metadata": {},
     "output_type": "execute_result"
    }
   ],
   "source": [
    "# Remove colustamns PhysicalHealth and MentalHealth\n",
    "tbckills.drop(['PhysicalHealth', 'MentalHealth','DiffWalking', 'SkinCancer'], axis=1, inplace = True)\n",
    "tbckills.head()"
   ]
  },
  {
   "cell_type": "code",
   "execution_count": 6,
   "id": "d37c751d",
   "metadata": {},
   "outputs": [
    {
     "data": {
      "text/html": [
       "<div>\n",
       "<style scoped>\n",
       "    .dataframe tbody tr th:only-of-type {\n",
       "        vertical-align: middle;\n",
       "    }\n",
       "\n",
       "    .dataframe tbody tr th {\n",
       "        vertical-align: top;\n",
       "    }\n",
       "\n",
       "    .dataframe thead th {\n",
       "        text-align: right;\n",
       "    }\n",
       "</style>\n",
       "<table border=\"1\" class=\"dataframe\">\n",
       "  <thead>\n",
       "    <tr style=\"text-align: right;\">\n",
       "      <th></th>\n",
       "      <th>Race</th>\n",
       "      <th>Number of people</th>\n",
       "      <th>Percentage</th>\n",
       "    </tr>\n",
       "  </thead>\n",
       "  <tbody>\n",
       "    <tr>\n",
       "      <th>0</th>\n",
       "      <td>White</td>\n",
       "      <td>245212</td>\n",
       "      <td>76.677872</td>\n",
       "    </tr>\n",
       "    <tr>\n",
       "      <th>1</th>\n",
       "      <td>Hispanic</td>\n",
       "      <td>27446</td>\n",
       "      <td>8.582373</td>\n",
       "    </tr>\n",
       "    <tr>\n",
       "      <th>2</th>\n",
       "      <td>Black</td>\n",
       "      <td>22939</td>\n",
       "      <td>7.173033</td>\n",
       "    </tr>\n",
       "    <tr>\n",
       "      <th>3</th>\n",
       "      <td>Other</td>\n",
       "      <td>10928</td>\n",
       "      <td>3.417189</td>\n",
       "    </tr>\n",
       "    <tr>\n",
       "      <th>4</th>\n",
       "      <td>Asian</td>\n",
       "      <td>8068</td>\n",
       "      <td>2.522866</td>\n",
       "    </tr>\n",
       "    <tr>\n",
       "      <th>5</th>\n",
       "      <td>American Indian/Alaskan Native</td>\n",
       "      <td>5202</td>\n",
       "      <td>1.626667</td>\n",
       "    </tr>\n",
       "  </tbody>\n",
       "</table>\n",
       "</div>"
      ],
      "text/plain": [
       "                             Race  Number of people  Percentage\n",
       "0                           White            245212   76.677872\n",
       "1                        Hispanic             27446    8.582373\n",
       "2                           Black             22939    7.173033\n",
       "3                           Other             10928    3.417189\n",
       "4                           Asian              8068    2.522866\n",
       "5  American Indian/Alaskan Native              5202    1.626667"
      ]
     },
     "execution_count": 6,
     "metadata": {},
     "output_type": "execute_result"
    }
   ],
   "source": [
    "# Study and remove column Race\n",
    "\n",
    "tbckills_race = tbckills['Race'].value_counts().to_frame().reset_index()\n",
    "tbckills_race.columns = ['Race', \"Number of people\"]\n",
    "tbckills_race['Percentage'] = (tbckills_race['Number of people']/tbckills_race['Number of people'].sum())*100\n",
    "tbckills_race"
   ]
  },
  {
   "cell_type": "code",
   "execution_count": 7,
   "id": "68fcc1cc",
   "metadata": {},
   "outputs": [
    {
     "data": {
      "text/html": [
       "<div>\n",
       "<style scoped>\n",
       "    .dataframe tbody tr th:only-of-type {\n",
       "        vertical-align: middle;\n",
       "    }\n",
       "\n",
       "    .dataframe tbody tr th {\n",
       "        vertical-align: top;\n",
       "    }\n",
       "\n",
       "    .dataframe thead th {\n",
       "        text-align: right;\n",
       "    }\n",
       "</style>\n",
       "<table border=\"1\" class=\"dataframe\">\n",
       "  <thead>\n",
       "    <tr style=\"text-align: right;\">\n",
       "      <th></th>\n",
       "      <th>HeartDisease</th>\n",
       "      <th>BMI</th>\n",
       "      <th>Smoking</th>\n",
       "      <th>AlcoholDrinking</th>\n",
       "      <th>Stroke</th>\n",
       "      <th>Sex</th>\n",
       "      <th>AgeCategory</th>\n",
       "      <th>Diabetic</th>\n",
       "      <th>PhysicalActivity</th>\n",
       "      <th>GenHealth</th>\n",
       "      <th>SleepTime</th>\n",
       "      <th>Asthma</th>\n",
       "      <th>KidneyDisease</th>\n",
       "    </tr>\n",
       "  </thead>\n",
       "  <tbody>\n",
       "    <tr>\n",
       "      <th>0</th>\n",
       "      <td>No</td>\n",
       "      <td>16.60</td>\n",
       "      <td>Yes</td>\n",
       "      <td>No</td>\n",
       "      <td>No</td>\n",
       "      <td>Female</td>\n",
       "      <td>55-59</td>\n",
       "      <td>Yes</td>\n",
       "      <td>Yes</td>\n",
       "      <td>Very good</td>\n",
       "      <td>5</td>\n",
       "      <td>Yes</td>\n",
       "      <td>No</td>\n",
       "    </tr>\n",
       "    <tr>\n",
       "      <th>1</th>\n",
       "      <td>No</td>\n",
       "      <td>20.34</td>\n",
       "      <td>No</td>\n",
       "      <td>No</td>\n",
       "      <td>Yes</td>\n",
       "      <td>Female</td>\n",
       "      <td>80 or older</td>\n",
       "      <td>No</td>\n",
       "      <td>Yes</td>\n",
       "      <td>Very good</td>\n",
       "      <td>7</td>\n",
       "      <td>No</td>\n",
       "      <td>No</td>\n",
       "    </tr>\n",
       "  </tbody>\n",
       "</table>\n",
       "</div>"
      ],
      "text/plain": [
       "  HeartDisease    BMI Smoking AlcoholDrinking Stroke     Sex  AgeCategory  \\\n",
       "0           No  16.60     Yes              No     No  Female        55-59   \n",
       "1           No  20.34      No              No    Yes  Female  80 or older   \n",
       "\n",
       "  Diabetic PhysicalActivity  GenHealth  SleepTime Asthma KidneyDisease  \n",
       "0      Yes              Yes  Very good          5    Yes            No  \n",
       "1       No              Yes  Very good          7     No            No  "
      ]
     },
     "execution_count": 7,
     "metadata": {},
     "output_type": "execute_result"
    }
   ],
   "source": [
    "tbckills.drop(['Race'], axis=1, inplace = True)\n",
    "tbckills.head(2)"
   ]
  },
  {
   "cell_type": "markdown",
   "id": "ee20b3e3",
   "metadata": {},
   "source": [
    "**Unimportant step: Rename some variables**\n"
   ]
  },
  {
   "cell_type": "code",
   "execution_count": 8,
   "id": "886deb16",
   "metadata": {},
   "outputs": [
    {
     "data": {
      "text/html": [
       "<div>\n",
       "<style scoped>\n",
       "    .dataframe tbody tr th:only-of-type {\n",
       "        vertical-align: middle;\n",
       "    }\n",
       "\n",
       "    .dataframe tbody tr th {\n",
       "        vertical-align: top;\n",
       "    }\n",
       "\n",
       "    .dataframe thead th {\n",
       "        text-align: right;\n",
       "    }\n",
       "</style>\n",
       "<table border=\"1\" class=\"dataframe\">\n",
       "  <thead>\n",
       "    <tr style=\"text-align: right;\">\n",
       "      <th></th>\n",
       "      <th>HeartDisease</th>\n",
       "      <th>BMI</th>\n",
       "      <th>Smoking</th>\n",
       "      <th>Alcohol</th>\n",
       "      <th>Stroke</th>\n",
       "      <th>Sex</th>\n",
       "      <th>AgeCategory</th>\n",
       "      <th>Diabetic</th>\n",
       "      <th>PhysicalActivity</th>\n",
       "      <th>GenHealth</th>\n",
       "      <th>SleepTime</th>\n",
       "      <th>Asthma</th>\n",
       "      <th>KidneyDisease</th>\n",
       "    </tr>\n",
       "  </thead>\n",
       "  <tbody>\n",
       "    <tr>\n",
       "      <th>0</th>\n",
       "      <td>No</td>\n",
       "      <td>16.60</td>\n",
       "      <td>Yes</td>\n",
       "      <td>No</td>\n",
       "      <td>No</td>\n",
       "      <td>Female</td>\n",
       "      <td>55-59</td>\n",
       "      <td>Yes</td>\n",
       "      <td>Yes</td>\n",
       "      <td>Very good</td>\n",
       "      <td>5</td>\n",
       "      <td>Yes</td>\n",
       "      <td>No</td>\n",
       "    </tr>\n",
       "    <tr>\n",
       "      <th>1</th>\n",
       "      <td>No</td>\n",
       "      <td>20.34</td>\n",
       "      <td>No</td>\n",
       "      <td>No</td>\n",
       "      <td>Yes</td>\n",
       "      <td>Female</td>\n",
       "      <td>80 or older</td>\n",
       "      <td>No</td>\n",
       "      <td>Yes</td>\n",
       "      <td>Very good</td>\n",
       "      <td>7</td>\n",
       "      <td>No</td>\n",
       "      <td>No</td>\n",
       "    </tr>\n",
       "  </tbody>\n",
       "</table>\n",
       "</div>"
      ],
      "text/plain": [
       "  HeartDisease    BMI Smoking Alcohol Stroke     Sex  AgeCategory Diabetic  \\\n",
       "0           No  16.60     Yes      No     No  Female        55-59      Yes   \n",
       "1           No  20.34      No      No    Yes  Female  80 or older       No   \n",
       "\n",
       "  PhysicalActivity  GenHealth  SleepTime Asthma KidneyDisease  \n",
       "0              Yes  Very good          5    Yes            No  \n",
       "1              Yes  Very good          7     No            No  "
      ]
     },
     "execution_count": 8,
     "metadata": {},
     "output_type": "execute_result"
    }
   ],
   "source": [
    "\n",
    "tbckills.rename(columns={\"AlcoholDrinking\": \"Alcohol\"}, inplace=True)\n",
    "tbckills.head(2)"
   ]
  },
  {
   "cell_type": "markdown",
   "id": "65e8003d",
   "metadata": {},
   "source": [
    "**Step 3: Categorize the remaining 15 variables based on their fuctions**\n",
    "- **Category 1 = Information (Independent variables)**\n",
    "    + **BMI**: Body Mass Index indicates the level of body fatness\n",
    "    + **Sex**\n",
    "    + **Age**: From 25\n",
    "- **Category 2 = Conditions (Independent variables)**\n",
    "    + **Smoking**\n",
    "    + **Alcohol**: Heavy drinker or not\n",
    "    + **PhysicalActivity**: Exercises\n",
    "    + **Sleeptime**: Hours of sleep per day\n",
    "- **Category 3 = Consequences (Dependent variables)** \n",
    "    + **HeartDisease**: Usually deathly\n",
    "    + **Stroke**: Mostly deathly, caused by poor blood flow to the brain\n",
    "    + **Diabetic**: The body functions badly to turn blood sugar into energy, leaving too much blood sugar in bloodstream.\n",
    "    + **GenHealth**: Health status in general\n",
    "    + **KidneyDisease**: Damaged kidney\n",
    "    + **Asthma**: Difficulty in breathing, causing cough, wheeze"
   ]
  },
  {
   "cell_type": "markdown",
   "id": "216ceaa0",
   "metadata": {},
   "source": [
    "# Stage 3: Creating new features"
   ]
  },
  {
   "cell_type": "markdown",
   "id": "79c668bc",
   "metadata": {},
   "source": [
    "**Step 1**: Create a new column called \"Age\" from the original column AgeCategory. AgeCategory has 12 unique values indicating 12 age ranges, so now they are narrowed down to only 6 age ranges. \n"
   ]
  },
  {
   "cell_type": "code",
   "execution_count": 9,
   "id": "9af7a8c0",
   "metadata": {},
   "outputs": [
    {
     "data": {
      "text/html": [
       "<div>\n",
       "<style scoped>\n",
       "    .dataframe tbody tr th:only-of-type {\n",
       "        vertical-align: middle;\n",
       "    }\n",
       "\n",
       "    .dataframe tbody tr th {\n",
       "        vertical-align: top;\n",
       "    }\n",
       "\n",
       "    .dataframe thead th {\n",
       "        text-align: right;\n",
       "    }\n",
       "</style>\n",
       "<table border=\"1\" class=\"dataframe\">\n",
       "  <thead>\n",
       "    <tr style=\"text-align: right;\">\n",
       "      <th></th>\n",
       "      <th>HeartDisease</th>\n",
       "      <th>BMI</th>\n",
       "      <th>Smoking</th>\n",
       "      <th>Alcohol</th>\n",
       "      <th>Stroke</th>\n",
       "      <th>Sex</th>\n",
       "      <th>Diabetic</th>\n",
       "      <th>PhysicalActivity</th>\n",
       "      <th>GenHealth</th>\n",
       "      <th>SleepTime</th>\n",
       "      <th>Asthma</th>\n",
       "      <th>KidneyDisease</th>\n",
       "      <th>Age</th>\n",
       "    </tr>\n",
       "  </thead>\n",
       "  <tbody>\n",
       "    <tr>\n",
       "      <th>0</th>\n",
       "      <td>No</td>\n",
       "      <td>16.60</td>\n",
       "      <td>Yes</td>\n",
       "      <td>No</td>\n",
       "      <td>No</td>\n",
       "      <td>Female</td>\n",
       "      <td>Yes</td>\n",
       "      <td>Yes</td>\n",
       "      <td>Very good</td>\n",
       "      <td>5</td>\n",
       "      <td>Yes</td>\n",
       "      <td>No</td>\n",
       "      <td>55-64</td>\n",
       "    </tr>\n",
       "    <tr>\n",
       "      <th>1</th>\n",
       "      <td>No</td>\n",
       "      <td>20.34</td>\n",
       "      <td>No</td>\n",
       "      <td>No</td>\n",
       "      <td>Yes</td>\n",
       "      <td>Female</td>\n",
       "      <td>No</td>\n",
       "      <td>Yes</td>\n",
       "      <td>Very good</td>\n",
       "      <td>7</td>\n",
       "      <td>No</td>\n",
       "      <td>No</td>\n",
       "      <td>80+</td>\n",
       "    </tr>\n",
       "  </tbody>\n",
       "</table>\n",
       "</div>"
      ],
      "text/plain": [
       "  HeartDisease    BMI Smoking Alcohol Stroke     Sex Diabetic  \\\n",
       "0           No  16.60     Yes      No     No  Female      Yes   \n",
       "1           No  20.34      No      No    Yes  Female       No   \n",
       "\n",
       "  PhysicalActivity  GenHealth  SleepTime Asthma KidneyDisease    Age  \n",
       "0              Yes  Very good          5    Yes            No  55-64  \n",
       "1              Yes  Very good          7     No            No    80+  "
      ]
     },
     "execution_count": 9,
     "metadata": {},
     "output_type": "execute_result"
    }
   ],
   "source": [
    "tbckills['Age'] = tbckills['AgeCategory'].apply(lambda x: (x=='25-29' and '25-34') or \n",
    "                                  (x=='25-29' and '25-34') or\n",
    "                                  (x=='35-39' and '35-44') or \n",
    "                                  (x=='40-44' and '35-44') or\n",
    "                                  (x=='45-49' and '45-54') or\n",
    "                                  (x=='50-49' and '45-54') or\n",
    "                                  (x=='55-59' and '55-64') or\n",
    "                                  (x=='60-64' and '55-64') or  \n",
    "                                  (x=='65-69' and '65-79') or\n",
    "                                  (x=='70-74' and '65-79') or\n",
    "                                  (x=='75-79' and '65-79') or '80+')\n",
    "\n",
    "tbckills.drop(['AgeCategory'], axis = 1, inplace = True)\n",
    "\n",
    "tbckills.head(2)"
   ]
  },
  {
   "cell_type": "markdown",
   "id": "dc275e30",
   "metadata": {},
   "source": [
    "**Step 2**: Create a new column called \"Life Style\" by combining two independent variables: PhysicalActivity and SleepTime\n",
    "\n",
    "- If PhysicalActivity = Yes & SleepTime from 7-9 hrs => LifeStyle = Healthy +\n",
    "- If PhysicalActivity = No & SleepTime from 7-9 hrs => LifeStyle = Healthy -\n",
    "- If PhysicalActivity = Yes & SleepTime not from 7-9 hrs => LifeStyle = Unhealthy -\n",
    "- If PhysicalActivity = No  & SleepTime not from 7-9 hrs => LifeStyle = Unhealthy +"
   ]
  },
  {
   "cell_type": "code",
   "execution_count": 10,
   "id": "04b49f8f",
   "metadata": {},
   "outputs": [],
   "source": [
    "# Transform values in 'SleepTime'\n",
    "tbckills['SleepTime'] = tbckills['SleepTime'].astype(int)\n"
   ]
  },
  {
   "cell_type": "code",
   "execution_count": 11,
   "id": "5c1f5be9",
   "metadata": {},
   "outputs": [
    {
     "data": {
      "text/html": [
       "<div>\n",
       "<style scoped>\n",
       "    .dataframe tbody tr th:only-of-type {\n",
       "        vertical-align: middle;\n",
       "    }\n",
       "\n",
       "    .dataframe tbody tr th {\n",
       "        vertical-align: top;\n",
       "    }\n",
       "\n",
       "    .dataframe thead th {\n",
       "        text-align: right;\n",
       "    }\n",
       "</style>\n",
       "<table border=\"1\" class=\"dataframe\">\n",
       "  <thead>\n",
       "    <tr style=\"text-align: right;\">\n",
       "      <th></th>\n",
       "      <th>HeartDisease</th>\n",
       "      <th>BMI</th>\n",
       "      <th>Smoking</th>\n",
       "      <th>Alcohol</th>\n",
       "      <th>Stroke</th>\n",
       "      <th>Sex</th>\n",
       "      <th>Diabetic</th>\n",
       "      <th>PhysicalActivity</th>\n",
       "      <th>GenHealth</th>\n",
       "      <th>SleepTime</th>\n",
       "      <th>Asthma</th>\n",
       "      <th>KidneyDisease</th>\n",
       "      <th>Age</th>\n",
       "      <th>LifeStyle</th>\n",
       "    </tr>\n",
       "  </thead>\n",
       "  <tbody>\n",
       "    <tr>\n",
       "      <th>0</th>\n",
       "      <td>No</td>\n",
       "      <td>16.60</td>\n",
       "      <td>Yes</td>\n",
       "      <td>No</td>\n",
       "      <td>No</td>\n",
       "      <td>Female</td>\n",
       "      <td>Yes</td>\n",
       "      <td>Yes</td>\n",
       "      <td>Very good</td>\n",
       "      <td>5</td>\n",
       "      <td>Yes</td>\n",
       "      <td>No</td>\n",
       "      <td>55-64</td>\n",
       "      <td>Unhealthy -</td>\n",
       "    </tr>\n",
       "    <tr>\n",
       "      <th>1</th>\n",
       "      <td>No</td>\n",
       "      <td>20.34</td>\n",
       "      <td>No</td>\n",
       "      <td>No</td>\n",
       "      <td>Yes</td>\n",
       "      <td>Female</td>\n",
       "      <td>No</td>\n",
       "      <td>Yes</td>\n",
       "      <td>Very good</td>\n",
       "      <td>7</td>\n",
       "      <td>No</td>\n",
       "      <td>No</td>\n",
       "      <td>80+</td>\n",
       "      <td>Healthy +</td>\n",
       "    </tr>\n",
       "    <tr>\n",
       "      <th>2</th>\n",
       "      <td>No</td>\n",
       "      <td>26.58</td>\n",
       "      <td>Yes</td>\n",
       "      <td>No</td>\n",
       "      <td>No</td>\n",
       "      <td>Male</td>\n",
       "      <td>Yes</td>\n",
       "      <td>Yes</td>\n",
       "      <td>Fair</td>\n",
       "      <td>8</td>\n",
       "      <td>Yes</td>\n",
       "      <td>No</td>\n",
       "      <td>65-79</td>\n",
       "      <td>Healthy +</td>\n",
       "    </tr>\n",
       "    <tr>\n",
       "      <th>3</th>\n",
       "      <td>No</td>\n",
       "      <td>24.21</td>\n",
       "      <td>No</td>\n",
       "      <td>No</td>\n",
       "      <td>No</td>\n",
       "      <td>Female</td>\n",
       "      <td>No</td>\n",
       "      <td>No</td>\n",
       "      <td>Good</td>\n",
       "      <td>6</td>\n",
       "      <td>No</td>\n",
       "      <td>No</td>\n",
       "      <td>65-79</td>\n",
       "      <td>Unhealthy +</td>\n",
       "    </tr>\n",
       "    <tr>\n",
       "      <th>4</th>\n",
       "      <td>No</td>\n",
       "      <td>23.71</td>\n",
       "      <td>No</td>\n",
       "      <td>No</td>\n",
       "      <td>No</td>\n",
       "      <td>Female</td>\n",
       "      <td>No</td>\n",
       "      <td>Yes</td>\n",
       "      <td>Very good</td>\n",
       "      <td>8</td>\n",
       "      <td>No</td>\n",
       "      <td>No</td>\n",
       "      <td>35-44</td>\n",
       "      <td>Healthy +</td>\n",
       "    </tr>\n",
       "    <tr>\n",
       "      <th>5</th>\n",
       "      <td>Yes</td>\n",
       "      <td>28.87</td>\n",
       "      <td>Yes</td>\n",
       "      <td>No</td>\n",
       "      <td>No</td>\n",
       "      <td>Female</td>\n",
       "      <td>No</td>\n",
       "      <td>No</td>\n",
       "      <td>Fair</td>\n",
       "      <td>12</td>\n",
       "      <td>No</td>\n",
       "      <td>No</td>\n",
       "      <td>65-79</td>\n",
       "      <td>Unhealthy +</td>\n",
       "    </tr>\n",
       "    <tr>\n",
       "      <th>6</th>\n",
       "      <td>No</td>\n",
       "      <td>21.63</td>\n",
       "      <td>No</td>\n",
       "      <td>No</td>\n",
       "      <td>No</td>\n",
       "      <td>Female</td>\n",
       "      <td>No</td>\n",
       "      <td>Yes</td>\n",
       "      <td>Fair</td>\n",
       "      <td>4</td>\n",
       "      <td>Yes</td>\n",
       "      <td>No</td>\n",
       "      <td>65-79</td>\n",
       "      <td>Unhealthy -</td>\n",
       "    </tr>\n",
       "    <tr>\n",
       "      <th>7</th>\n",
       "      <td>No</td>\n",
       "      <td>31.64</td>\n",
       "      <td>Yes</td>\n",
       "      <td>No</td>\n",
       "      <td>No</td>\n",
       "      <td>Female</td>\n",
       "      <td>Yes</td>\n",
       "      <td>No</td>\n",
       "      <td>Good</td>\n",
       "      <td>9</td>\n",
       "      <td>Yes</td>\n",
       "      <td>No</td>\n",
       "      <td>80+</td>\n",
       "      <td>Healthy -</td>\n",
       "    </tr>\n",
       "    <tr>\n",
       "      <th>8</th>\n",
       "      <td>No</td>\n",
       "      <td>26.45</td>\n",
       "      <td>No</td>\n",
       "      <td>No</td>\n",
       "      <td>No</td>\n",
       "      <td>Female</td>\n",
       "      <td>No, borderline diabetes</td>\n",
       "      <td>No</td>\n",
       "      <td>Fair</td>\n",
       "      <td>5</td>\n",
       "      <td>No</td>\n",
       "      <td>Yes</td>\n",
       "      <td>80+</td>\n",
       "      <td>Unhealthy +</td>\n",
       "    </tr>\n",
       "    <tr>\n",
       "      <th>9</th>\n",
       "      <td>No</td>\n",
       "      <td>40.69</td>\n",
       "      <td>No</td>\n",
       "      <td>No</td>\n",
       "      <td>No</td>\n",
       "      <td>Male</td>\n",
       "      <td>No</td>\n",
       "      <td>Yes</td>\n",
       "      <td>Good</td>\n",
       "      <td>10</td>\n",
       "      <td>No</td>\n",
       "      <td>No</td>\n",
       "      <td>65-79</td>\n",
       "      <td>Unhealthy -</td>\n",
       "    </tr>\n",
       "  </tbody>\n",
       "</table>\n",
       "</div>"
      ],
      "text/plain": [
       "  HeartDisease    BMI Smoking Alcohol Stroke     Sex                 Diabetic  \\\n",
       "0           No  16.60     Yes      No     No  Female                      Yes   \n",
       "1           No  20.34      No      No    Yes  Female                       No   \n",
       "2           No  26.58     Yes      No     No    Male                      Yes   \n",
       "3           No  24.21      No      No     No  Female                       No   \n",
       "4           No  23.71      No      No     No  Female                       No   \n",
       "5          Yes  28.87     Yes      No     No  Female                       No   \n",
       "6           No  21.63      No      No     No  Female                       No   \n",
       "7           No  31.64     Yes      No     No  Female                      Yes   \n",
       "8           No  26.45      No      No     No  Female  No, borderline diabetes   \n",
       "9           No  40.69      No      No     No    Male                       No   \n",
       "\n",
       "  PhysicalActivity  GenHealth  SleepTime Asthma KidneyDisease    Age  \\\n",
       "0              Yes  Very good          5    Yes            No  55-64   \n",
       "1              Yes  Very good          7     No            No    80+   \n",
       "2              Yes       Fair          8    Yes            No  65-79   \n",
       "3               No       Good          6     No            No  65-79   \n",
       "4              Yes  Very good          8     No            No  35-44   \n",
       "5               No       Fair         12     No            No  65-79   \n",
       "6              Yes       Fair          4    Yes            No  65-79   \n",
       "7               No       Good          9    Yes            No    80+   \n",
       "8               No       Fair          5     No           Yes    80+   \n",
       "9              Yes       Good         10     No            No  65-79   \n",
       "\n",
       "     LifeStyle  \n",
       "0  Unhealthy -  \n",
       "1    Healthy +  \n",
       "2    Healthy +  \n",
       "3  Unhealthy +  \n",
       "4    Healthy +  \n",
       "5  Unhealthy +  \n",
       "6  Unhealthy -  \n",
       "7    Healthy -  \n",
       "8  Unhealthy +  \n",
       "9  Unhealthy -  "
      ]
     },
     "execution_count": 11,
     "metadata": {},
     "output_type": "execute_result"
    }
   ],
   "source": [
    "# Create 'LifeStyle'\n",
    "def LifeStyle(x):\n",
    "    if x['PhysicalActivity'] == \"Yes\" and 7 <= x['SleepTime'] <= 9:\n",
    "        return 'Healthy +'\n",
    "    elif x['PhysicalActivity'] == \"No\" and 7 <= x['SleepTime'] <= 9:\n",
    "        return 'Healthy -'\n",
    "    elif x['PhysicalActivity'] == \"Yes\" and (7 > x['SleepTime'] or x['SleepTime'] > 9):\n",
    "        return 'Unhealthy -'\n",
    "    else:\n",
    "        return 'Unhealthy +'\n",
    "\n",
    "tbckills = tbckills.assign(LifeStyle = tbckills.apply(LifeStyle, axis = 1))\n",
    "\n",
    "tbckills.head(10)"
   ]
  },
  {
   "cell_type": "markdown",
   "id": "b881a303",
   "metadata": {},
   "source": [
    "# Stage 4: Intelligence Data Analysis"
   ]
  },
  {
   "cell_type": "code",
   "execution_count": 12,
   "id": "06b2d7a2",
   "metadata": {},
   "outputs": [
    {
     "data": {
      "text/html": [
       "<div>\n",
       "<style scoped>\n",
       "    .dataframe tbody tr th:only-of-type {\n",
       "        vertical-align: middle;\n",
       "    }\n",
       "\n",
       "    .dataframe tbody tr th {\n",
       "        vertical-align: top;\n",
       "    }\n",
       "\n",
       "    .dataframe thead th {\n",
       "        text-align: right;\n",
       "    }\n",
       "</style>\n",
       "<table border=\"1\" class=\"dataframe\">\n",
       "  <thead>\n",
       "    <tr style=\"text-align: right;\">\n",
       "      <th></th>\n",
       "      <th>HeartDisease</th>\n",
       "      <th>BMI</th>\n",
       "      <th>Smoking</th>\n",
       "      <th>Alcohol</th>\n",
       "      <th>Stroke</th>\n",
       "      <th>Sex</th>\n",
       "      <th>Diabetic</th>\n",
       "      <th>PhysicalActivity</th>\n",
       "      <th>GenHealth</th>\n",
       "      <th>SleepTime</th>\n",
       "      <th>Asthma</th>\n",
       "      <th>KidneyDisease</th>\n",
       "      <th>Age</th>\n",
       "      <th>LifeStyle</th>\n",
       "    </tr>\n",
       "  </thead>\n",
       "  <tbody>\n",
       "    <tr>\n",
       "      <th>319792</th>\n",
       "      <td>No</td>\n",
       "      <td>24.24</td>\n",
       "      <td>No</td>\n",
       "      <td>No</td>\n",
       "      <td>No</td>\n",
       "      <td>Female</td>\n",
       "      <td>No</td>\n",
       "      <td>Yes</td>\n",
       "      <td>Good</td>\n",
       "      <td>6</td>\n",
       "      <td>No</td>\n",
       "      <td>No</td>\n",
       "      <td>45-54</td>\n",
       "      <td>Unhealthy -</td>\n",
       "    </tr>\n",
       "    <tr>\n",
       "      <th>319793</th>\n",
       "      <td>No</td>\n",
       "      <td>32.81</td>\n",
       "      <td>No</td>\n",
       "      <td>No</td>\n",
       "      <td>No</td>\n",
       "      <td>Female</td>\n",
       "      <td>No</td>\n",
       "      <td>No</td>\n",
       "      <td>Good</td>\n",
       "      <td>12</td>\n",
       "      <td>No</td>\n",
       "      <td>No</td>\n",
       "      <td>25-34</td>\n",
       "      <td>Unhealthy +</td>\n",
       "    </tr>\n",
       "    <tr>\n",
       "      <th>319794</th>\n",
       "      <td>No</td>\n",
       "      <td>46.56</td>\n",
       "      <td>No</td>\n",
       "      <td>No</td>\n",
       "      <td>No</td>\n",
       "      <td>Female</td>\n",
       "      <td>No</td>\n",
       "      <td>Yes</td>\n",
       "      <td>Good</td>\n",
       "      <td>8</td>\n",
       "      <td>No</td>\n",
       "      <td>No</td>\n",
       "      <td>80+</td>\n",
       "      <td>Healthy +</td>\n",
       "    </tr>\n",
       "  </tbody>\n",
       "</table>\n",
       "</div>"
      ],
      "text/plain": [
       "       HeartDisease    BMI Smoking Alcohol Stroke     Sex Diabetic  \\\n",
       "319792           No  24.24      No      No     No  Female       No   \n",
       "319793           No  32.81      No      No     No  Female       No   \n",
       "319794           No  46.56      No      No     No  Female       No   \n",
       "\n",
       "       PhysicalActivity GenHealth  SleepTime Asthma KidneyDisease    Age  \\\n",
       "319792              Yes      Good          6     No            No  45-54   \n",
       "319793               No      Good         12     No            No  25-34   \n",
       "319794              Yes      Good          8     No            No    80+   \n",
       "\n",
       "          LifeStyle  \n",
       "319792  Unhealthy -  \n",
       "319793  Unhealthy +  \n",
       "319794    Healthy +  "
      ]
     },
     "execution_count": 12,
     "metadata": {},
     "output_type": "execute_result"
    }
   ],
   "source": [
    "tbckills.tail(3)"
   ]
  },
  {
   "cell_type": "markdown",
   "id": "d7ecae13",
   "metadata": {},
   "source": [
    "**Step 1: Analyze variable**\n",
    "\n",
    "**Independent variables: Category 1 = Information**\n",
    "\n",
    "**BMI**:\n",
    "- BMI < 18.5: Underweight\n",
    "- BMI from 18.5 to 25.0: Healthy\n",
    "- BMI from 25.0 to 30.0: Overweight\n",
    "- BMI > 30.0: Obesity\n"
   ]
  },
  {
   "cell_type": "code",
   "execution_count": 13,
   "id": "cc049d91",
   "metadata": {},
   "outputs": [
    {
     "data": {
      "text/html": [
       "<div>\n",
       "<style scoped>\n",
       "    .dataframe tbody tr th:only-of-type {\n",
       "        vertical-align: middle;\n",
       "    }\n",
       "\n",
       "    .dataframe tbody tr th {\n",
       "        vertical-align: top;\n",
       "    }\n",
       "\n",
       "    .dataframe thead th {\n",
       "        text-align: right;\n",
       "    }\n",
       "</style>\n",
       "<table border=\"1\" class=\"dataframe\">\n",
       "  <thead>\n",
       "    <tr style=\"text-align: right;\">\n",
       "      <th></th>\n",
       "      <th>BMI</th>\n",
       "      <th>BMI group</th>\n",
       "    </tr>\n",
       "  </thead>\n",
       "  <tbody>\n",
       "    <tr>\n",
       "      <th>0</th>\n",
       "      <td>16.60</td>\n",
       "      <td>Underweight</td>\n",
       "    </tr>\n",
       "    <tr>\n",
       "      <th>1</th>\n",
       "      <td>20.34</td>\n",
       "      <td>Healthy weight</td>\n",
       "    </tr>\n",
       "    <tr>\n",
       "      <th>2</th>\n",
       "      <td>26.58</td>\n",
       "      <td>Overweight</td>\n",
       "    </tr>\n",
       "    <tr>\n",
       "      <th>3</th>\n",
       "      <td>24.21</td>\n",
       "      <td>Healthy weight</td>\n",
       "    </tr>\n",
       "    <tr>\n",
       "      <th>4</th>\n",
       "      <td>23.71</td>\n",
       "      <td>Healthy weight</td>\n",
       "    </tr>\n",
       "  </tbody>\n",
       "</table>\n",
       "</div>"
      ],
      "text/plain": [
       "     BMI       BMI group\n",
       "0  16.60     Underweight\n",
       "1  20.34  Healthy weight\n",
       "2  26.58      Overweight\n",
       "3  24.21  Healthy weight\n",
       "4  23.71  Healthy weight"
      ]
     },
     "execution_count": 13,
     "metadata": {},
     "output_type": "execute_result"
    }
   ],
   "source": [
    "# Grouping participants by BMI\n",
    "tbckills['BMI group'] = tbckills['BMI'].apply(lambda x: (x<18.5 and 'Underweight') or \n",
    "                                  (18.5<=x<25 and 'Healthy weight') or\n",
    "                                  (25<=x<30 and 'Overweight')\n",
    "                                  or 'Obesity')\n",
    "tbckills[['BMI', 'BMI group']].head()"
   ]
  },
  {
   "cell_type": "code",
   "execution_count": 14,
   "id": "56417313",
   "metadata": {},
   "outputs": [
    {
     "data": {
      "text/html": [
       "<div>\n",
       "<style scoped>\n",
       "    .dataframe tbody tr th:only-of-type {\n",
       "        vertical-align: middle;\n",
       "    }\n",
       "\n",
       "    .dataframe tbody tr th {\n",
       "        vertical-align: top;\n",
       "    }\n",
       "\n",
       "    .dataframe thead th {\n",
       "        text-align: right;\n",
       "    }\n",
       "</style>\n",
       "<table border=\"1\" class=\"dataframe\">\n",
       "  <thead>\n",
       "    <tr style=\"text-align: right;\">\n",
       "      <th></th>\n",
       "      <th>BMI group</th>\n",
       "      <th>Number of people</th>\n",
       "      <th>%</th>\n",
       "    </tr>\n",
       "  </thead>\n",
       "  <tbody>\n",
       "    <tr>\n",
       "      <th>0</th>\n",
       "      <td>Overweight</td>\n",
       "      <td>114512</td>\n",
       "      <td>35.807939</td>\n",
       "    </tr>\n",
       "    <tr>\n",
       "      <th>1</th>\n",
       "      <td>Obesity</td>\n",
       "      <td>102842</td>\n",
       "      <td>32.158727</td>\n",
       "    </tr>\n",
       "    <tr>\n",
       "      <th>2</th>\n",
       "      <td>Healthy weight</td>\n",
       "      <td>97331</td>\n",
       "      <td>30.435435</td>\n",
       "    </tr>\n",
       "    <tr>\n",
       "      <th>3</th>\n",
       "      <td>Underweight</td>\n",
       "      <td>5110</td>\n",
       "      <td>1.597899</td>\n",
       "    </tr>\n",
       "  </tbody>\n",
       "</table>\n",
       "</div>"
      ],
      "text/plain": [
       "        BMI group  Number of people          %\n",
       "0      Overweight            114512  35.807939\n",
       "1         Obesity            102842  32.158727\n",
       "2  Healthy weight             97331  30.435435\n",
       "3     Underweight              5110   1.597899"
      ]
     },
     "execution_count": 14,
     "metadata": {},
     "output_type": "execute_result"
    }
   ],
   "source": [
    "tbckills_bmig = tbckills['BMI group'].value_counts().to_frame().reset_index()\n",
    "tbckills_bmig.columns = ['BMI group', 'Number of people']\n",
    "tbckills_bmig['%'] = 100*(tbckills_bmig['Number of people']/tbckills_bmig['Number of people'].sum())\n",
    "tbckills_bmig"
   ]
  },
  {
   "cell_type": "code",
   "execution_count": null,
   "id": "73bd9891",
   "metadata": {},
   "outputs": [],
   "source": []
  },
  {
   "cell_type": "code",
   "execution_count": 15,
   "id": "aa5edece",
   "metadata": {},
   "outputs": [
    {
     "data": {
      "image/png": "[encoded data removed]",
      "text/plain": [
       "<Figure size 500x500 with 1 Axes>"
      ]
     },
     "metadata": {},
     "output_type": "display_data"
    }
   ],
   "source": [
    "# Historgram of BMI\n",
    "\n",
    "sns.displot(tbckills['BMI'],bins=15, color = 'pink')\n",
    "\n",
    "plt.xlabel('BMI Index',)\n",
    "plt.ylabel('Number of people')\n",
    "plt.title('Histogram of BMI')\n",
    "plt.xticks(np.arange(0, 90, step=5))\n",
    "\n",
    "plt.show()"
   ]
  },
  {
   "cell_type": "markdown",
   "id": "9aa31efa",
   "metadata": {},
   "source": [
    "**Sex**: The number of participants from both genders are quite equal\n",
    "- 52.47% of participants are female\n",
    "- 47.53% of participants are male"
   ]
  },
  {
   "cell_type": "code",
   "execution_count": 16,
   "id": "08159aa2",
   "metadata": {},
   "outputs": [
    {
     "data": {
      "text/html": [
       "<div>\n",
       "<style scoped>\n",
       "    .dataframe tbody tr th:only-of-type {\n",
       "        vertical-align: middle;\n",
       "    }\n",
       "\n",
       "    .dataframe tbody tr th {\n",
       "        vertical-align: top;\n",
       "    }\n",
       "\n",
       "    .dataframe thead th {\n",
       "        text-align: right;\n",
       "    }\n",
       "</style>\n",
       "<table border=\"1\" class=\"dataframe\">\n",
       "  <thead>\n",
       "    <tr style=\"text-align: right;\">\n",
       "      <th></th>\n",
       "      <th>Sex</th>\n",
       "      <th>Number of people</th>\n",
       "      <th>%</th>\n",
       "    </tr>\n",
       "  </thead>\n",
       "  <tbody>\n",
       "    <tr>\n",
       "      <th>0</th>\n",
       "      <td>Female</td>\n",
       "      <td>167805</td>\n",
       "      <td>52.472678</td>\n",
       "    </tr>\n",
       "    <tr>\n",
       "      <th>1</th>\n",
       "      <td>Male</td>\n",
       "      <td>151990</td>\n",
       "      <td>47.527322</td>\n",
       "    </tr>\n",
       "  </tbody>\n",
       "</table>\n",
       "</div>"
      ],
      "text/plain": [
       "      Sex  Number of people          %\n",
       "0  Female            167805  52.472678\n",
       "1    Male            151990  47.527322"
      ]
     },
     "execution_count": 16,
     "metadata": {},
     "output_type": "execute_result"
    }
   ],
   "source": [
    "\n",
    "tbckills_sex = tbckills['Sex'].value_counts().to_frame().reset_index()\n",
    "tbckills_sex.columns = ['Sex', 'Number of people']\n",
    "tbckills_sex['%'] = 100*(tbckills_sex['Number of people']/tbckills_sex['Number of people'].sum())\n",
    "tbckills_sex"
   ]
  },
  {
   "cell_type": "markdown",
   "id": "ba00b4d9",
   "metadata": {},
   "source": [
    "**Age**: \n"
   ]
  },
  {
   "cell_type": "code",
   "execution_count": 17,
   "id": "634896a4",
   "metadata": {},
   "outputs": [
    {
     "data": {
      "text/html": [
       "<div>\n",
       "<style scoped>\n",
       "    .dataframe tbody tr th:only-of-type {\n",
       "        vertical-align: middle;\n",
       "    }\n",
       "\n",
       "    .dataframe tbody tr th {\n",
       "        vertical-align: top;\n",
       "    }\n",
       "\n",
       "    .dataframe thead th {\n",
       "        text-align: right;\n",
       "    }\n",
       "</style>\n",
       "<table border=\"1\" class=\"dataframe\">\n",
       "  <thead>\n",
       "    <tr style=\"text-align: right;\">\n",
       "      <th></th>\n",
       "      <th>Age</th>\n",
       "      <th>Number of people</th>\n",
       "    </tr>\n",
       "  </thead>\n",
       "  <tbody>\n",
       "    <tr>\n",
       "      <th>0</th>\n",
       "      <td>80+</td>\n",
       "      <td>89352</td>\n",
       "    </tr>\n",
       "    <tr>\n",
       "      <th>1</th>\n",
       "      <td>65-79</td>\n",
       "      <td>86698</td>\n",
       "    </tr>\n",
       "    <tr>\n",
       "      <th>2</th>\n",
       "      <td>55-64</td>\n",
       "      <td>63443</td>\n",
       "    </tr>\n",
       "    <tr>\n",
       "      <th>4</th>\n",
       "      <td>45-54</td>\n",
       "      <td>21791</td>\n",
       "    </tr>\n",
       "    <tr>\n",
       "      <th>3</th>\n",
       "      <td>35-44</td>\n",
       "      <td>41556</td>\n",
       "    </tr>\n",
       "    <tr>\n",
       "      <th>5</th>\n",
       "      <td>25-34</td>\n",
       "      <td>16955</td>\n",
       "    </tr>\n",
       "  </tbody>\n",
       "</table>\n",
       "</div>"
      ],
      "text/plain": [
       "     Age  Number of people\n",
       "0    80+             89352\n",
       "1  65-79             86698\n",
       "2  55-64             63443\n",
       "4  45-54             21791\n",
       "3  35-44             41556\n",
       "5  25-34             16955"
      ]
     },
     "execution_count": 17,
     "metadata": {},
     "output_type": "execute_result"
    }
   ],
   "source": [
    "# Group participants by Age\n",
    "tbckills_age = tbckills['Age'].value_counts().to_frame().reset_index()\n",
    "tbckills_age.columns = ['Age', 'Number of people']\n",
    "tbckills_age = tbckills_age.sort_values(by=['Age'], ascending=False)\n",
    "tbckills_age"
   ]
  },
  {
   "cell_type": "code",
   "execution_count": 18,
   "id": "d17730a5",
   "metadata": {},
   "outputs": [
    {
     "data": {
      "text/plain": [
       "Text(0.5, 1.0, 'Pie chart of Age groups')"
      ]
     },
     "execution_count": 18,
     "metadata": {},
     "output_type": "execute_result"
    },
    {
     "data": {
      "image/png": "[encoded data removed]",
      "text/plain": [
       "<Figure size 600x600 with 1 Axes>"
      ]
     },
     "metadata": {},
     "output_type": "display_data"
    }
   ],
   "source": [
    "# Pie chart of Age groups\n",
    "\n",
    "fig, ax = plt.subplots(1,1, figsize=(6,6))\n",
    "\n",
    "plt.pie(tbckills_age['Number of people'], colors =  sns.color_palette('pastel')[4:10],\n",
    "        autopct = '%1.1f%%', startangle = 90)\n",
    "\n",
    "plt.legend(labels = tbckills_age['Age'], loc=\"center\")\n",
    "\n",
    "plt.title('Pie chart of Age groups', fontsize = 13, fontweight = 'bold')"
   ]
  },
  {
   "cell_type": "markdown",
   "id": "b8ef2d15",
   "metadata": {},
   "source": [
    "**Comments**:\n",
    "- More than half of participants are 65 years old or older. \n",
    "- Almost 1/5 of participants are from 55 to 64 years old.\n",
    "- About 1/4 of participants are from 25 to 54 years old."
   ]
  },
  {
   "cell_type": "code",
   "execution_count": 19,
   "id": "a617d469",
   "metadata": {},
   "outputs": [
    {
     "data": {
      "text/html": [
       "<div>\n",
       "<style scoped>\n",
       "    .dataframe tbody tr th:only-of-type {\n",
       "        vertical-align: middle;\n",
       "    }\n",
       "\n",
       "    .dataframe tbody tr th {\n",
       "        vertical-align: top;\n",
       "    }\n",
       "\n",
       "    .dataframe thead th {\n",
       "        text-align: right;\n",
       "    }\n",
       "</style>\n",
       "<table border=\"1\" class=\"dataframe\">\n",
       "  <thead>\n",
       "    <tr style=\"text-align: right;\">\n",
       "      <th></th>\n",
       "      <th>HeartDisease</th>\n",
       "      <th>BMI</th>\n",
       "      <th>Smoking</th>\n",
       "      <th>Alcohol</th>\n",
       "      <th>Stroke</th>\n",
       "      <th>Sex</th>\n",
       "      <th>Diabetic</th>\n",
       "      <th>PhysicalActivity</th>\n",
       "      <th>GenHealth</th>\n",
       "      <th>SleepTime</th>\n",
       "      <th>Asthma</th>\n",
       "      <th>KidneyDisease</th>\n",
       "      <th>Age</th>\n",
       "      <th>LifeStyle</th>\n",
       "      <th>BMI group</th>\n",
       "    </tr>\n",
       "  </thead>\n",
       "  <tbody>\n",
       "    <tr>\n",
       "      <th>0</th>\n",
       "      <td>No</td>\n",
       "      <td>16.60</td>\n",
       "      <td>Yes</td>\n",
       "      <td>No</td>\n",
       "      <td>No</td>\n",
       "      <td>Female</td>\n",
       "      <td>Yes</td>\n",
       "      <td>Yes</td>\n",
       "      <td>Very good</td>\n",
       "      <td>5</td>\n",
       "      <td>Yes</td>\n",
       "      <td>No</td>\n",
       "      <td>55-64</td>\n",
       "      <td>Unhealthy -</td>\n",
       "      <td>Underweight</td>\n",
       "    </tr>\n",
       "    <tr>\n",
       "      <th>1</th>\n",
       "      <td>No</td>\n",
       "      <td>20.34</td>\n",
       "      <td>No</td>\n",
       "      <td>No</td>\n",
       "      <td>Yes</td>\n",
       "      <td>Female</td>\n",
       "      <td>No</td>\n",
       "      <td>Yes</td>\n",
       "      <td>Very good</td>\n",
       "      <td>7</td>\n",
       "      <td>No</td>\n",
       "      <td>No</td>\n",
       "      <td>80+</td>\n",
       "      <td>Healthy +</td>\n",
       "      <td>Healthy weight</td>\n",
       "    </tr>\n",
       "    <tr>\n",
       "      <th>2</th>\n",
       "      <td>No</td>\n",
       "      <td>26.58</td>\n",
       "      <td>Yes</td>\n",
       "      <td>No</td>\n",
       "      <td>No</td>\n",
       "      <td>Male</td>\n",
       "      <td>Yes</td>\n",
       "      <td>Yes</td>\n",
       "      <td>Fair</td>\n",
       "      <td>8</td>\n",
       "      <td>Yes</td>\n",
       "      <td>No</td>\n",
       "      <td>65-79</td>\n",
       "      <td>Healthy +</td>\n",
       "      <td>Overweight</td>\n",
       "    </tr>\n",
       "  </tbody>\n",
       "</table>\n",
       "</div>"
      ],
      "text/plain": [
       "  HeartDisease    BMI Smoking Alcohol Stroke     Sex Diabetic  \\\n",
       "0           No  16.60     Yes      No     No  Female      Yes   \n",
       "1           No  20.34      No      No    Yes  Female       No   \n",
       "2           No  26.58     Yes      No     No    Male      Yes   \n",
       "\n",
       "  PhysicalActivity  GenHealth  SleepTime Asthma KidneyDisease    Age  \\\n",
       "0              Yes  Very good          5    Yes            No  55-64   \n",
       "1              Yes  Very good          7     No            No    80+   \n",
       "2              Yes       Fair          8    Yes            No  65-79   \n",
       "\n",
       "     LifeStyle       BMI group  \n",
       "0  Unhealthy -     Underweight  \n",
       "1    Healthy +  Healthy weight  \n",
       "2    Healthy +      Overweight  "
      ]
     },
     "execution_count": 19,
     "metadata": {},
     "output_type": "execute_result"
    }
   ],
   "source": [
    "tbckills.head(3)"
   ]
  },
  {
   "cell_type": "markdown",
   "id": "8a002ba0",
   "metadata": {},
   "source": [
    "**Independent variables: Category 2 = Conditions**\n",
    "\n",
    "**Smoking**\n",
    "- People who do not smoke take up 58.72% of participants\n",
    "- People who smoke take up 41.25% of participants\n"
   ]
  },
  {
   "cell_type": "code",
   "execution_count": 20,
   "id": "8bb503fd",
   "metadata": {},
   "outputs": [
    {
     "data": {
      "text/html": [
       "<div>\n",
       "<style scoped>\n",
       "    .dataframe tbody tr th:only-of-type {\n",
       "        vertical-align: middle;\n",
       "    }\n",
       "\n",
       "    .dataframe tbody tr th {\n",
       "        vertical-align: top;\n",
       "    }\n",
       "\n",
       "    .dataframe thead th {\n",
       "        text-align: right;\n",
       "    }\n",
       "</style>\n",
       "<table border=\"1\" class=\"dataframe\">\n",
       "  <thead>\n",
       "    <tr style=\"text-align: right;\">\n",
       "      <th></th>\n",
       "      <th>Smoking</th>\n",
       "      <th>Number of people</th>\n",
       "      <th>%</th>\n",
       "    </tr>\n",
       "  </thead>\n",
       "  <tbody>\n",
       "    <tr>\n",
       "      <th>0</th>\n",
       "      <td>No</td>\n",
       "      <td>187887</td>\n",
       "      <td>58.752326</td>\n",
       "    </tr>\n",
       "    <tr>\n",
       "      <th>1</th>\n",
       "      <td>Yes</td>\n",
       "      <td>131908</td>\n",
       "      <td>41.247674</td>\n",
       "    </tr>\n",
       "  </tbody>\n",
       "</table>\n",
       "</div>"
      ],
      "text/plain": [
       "  Smoking  Number of people          %\n",
       "0      No            187887  58.752326\n",
       "1     Yes            131908  41.247674"
      ]
     },
     "execution_count": 20,
     "metadata": {},
     "output_type": "execute_result"
    }
   ],
   "source": [
    "tbckills_smoke = tbckills['Smoking'].value_counts().to_frame().reset_index()\n",
    "tbckills_smoke.columns = ['Smoking', 'Number of people']\n",
    "tbckills_smoke['%'] = 100*(tbckills_smoke['Number of people']/tbckills_smoke['Number of people'].sum())\n",
    "tbckills_smoke"
   ]
  },
  {
   "cell_type": "markdown",
   "id": "5cdc365f",
   "metadata": {},
   "source": [
    "**Alcohol**\n",
    "\n",
    "Heavy drinkers are men who have > 14 drinks per week and women who have > 7 drinks per week.\n",
    "- The majority of participants (93.19%) are not heavy alcohol drinkers \n",
    "- Only 6.81% of participants are heavy alcohol drinkers"
   ]
  },
  {
   "cell_type": "code",
   "execution_count": 21,
   "id": "9e74a181",
   "metadata": {},
   "outputs": [
    {
     "data": {
      "text/html": [
       "<div>\n",
       "<style scoped>\n",
       "    .dataframe tbody tr th:only-of-type {\n",
       "        vertical-align: middle;\n",
       "    }\n",
       "\n",
       "    .dataframe tbody tr th {\n",
       "        vertical-align: top;\n",
       "    }\n",
       "\n",
       "    .dataframe thead th {\n",
       "        text-align: right;\n",
       "    }\n",
       "</style>\n",
       "<table border=\"1\" class=\"dataframe\">\n",
       "  <thead>\n",
       "    <tr style=\"text-align: right;\">\n",
       "      <th></th>\n",
       "      <th>Alcohol</th>\n",
       "      <th>Number of people</th>\n",
       "      <th>%</th>\n",
       "    </tr>\n",
       "  </thead>\n",
       "  <tbody>\n",
       "    <tr>\n",
       "      <th>0</th>\n",
       "      <td>No</td>\n",
       "      <td>298018</td>\n",
       "      <td>93.190325</td>\n",
       "    </tr>\n",
       "    <tr>\n",
       "      <th>1</th>\n",
       "      <td>Yes</td>\n",
       "      <td>21777</td>\n",
       "      <td>6.809675</td>\n",
       "    </tr>\n",
       "  </tbody>\n",
       "</table>\n",
       "</div>"
      ],
      "text/plain": [
       "  Alcohol  Number of people          %\n",
       "0      No            298018  93.190325\n",
       "1     Yes             21777   6.809675"
      ]
     },
     "execution_count": 21,
     "metadata": {},
     "output_type": "execute_result"
    }
   ],
   "source": [
    "tbckills_ach = tbckills['Alcohol'].value_counts().to_frame().reset_index()\n",
    "tbckills_ach.columns = ['Alcohol', 'Number of people']\n",
    "tbckills_ach['%'] = 100*(tbckills_ach['Number of people']/tbckills_ach['Number of people'].sum())\n",
    "tbckills_ach"
   ]
  },
  {
   "cell_type": "markdown",
   "id": "fc683f2e",
   "metadata": {},
   "source": [
    "**Life Style = Physical Activity + Sleep Time**\n",
    "\n",
    "- More than half of participants have a healthy lifestyle\n",
    "- Only 9.77% of participants have an unhealthy (+) lifestyle, which means they neither do exercise nor have adequate sleep"
   ]
  },
  {
   "cell_type": "code",
   "execution_count": 22,
   "id": "6a997507",
   "metadata": {},
   "outputs": [
    {
     "data": {
      "text/html": [
       "<div>\n",
       "<style scoped>\n",
       "    .dataframe tbody tr th:only-of-type {\n",
       "        vertical-align: middle;\n",
       "    }\n",
       "\n",
       "    .dataframe tbody tr th {\n",
       "        vertical-align: top;\n",
       "    }\n",
       "\n",
       "    .dataframe thead th {\n",
       "        text-align: right;\n",
       "    }\n",
       "</style>\n",
       "<table border=\"1\" class=\"dataframe\">\n",
       "  <thead>\n",
       "    <tr style=\"text-align: right;\">\n",
       "      <th></th>\n",
       "      <th>Life Style</th>\n",
       "      <th>Number of people</th>\n",
       "      <th>%</th>\n",
       "    </tr>\n",
       "  </thead>\n",
       "  <tbody>\n",
       "    <tr>\n",
       "      <th>1</th>\n",
       "      <td>Unhealthy -</td>\n",
       "      <td>77155</td>\n",
       "      <td>24.126393</td>\n",
       "    </tr>\n",
       "    <tr>\n",
       "      <th>3</th>\n",
       "      <td>Unhealthy +</td>\n",
       "      <td>31246</td>\n",
       "      <td>9.770634</td>\n",
       "    </tr>\n",
       "    <tr>\n",
       "      <th>2</th>\n",
       "      <td>Healthy -</td>\n",
       "      <td>40592</td>\n",
       "      <td>12.693132</td>\n",
       "    </tr>\n",
       "    <tr>\n",
       "      <th>0</th>\n",
       "      <td>Healthy +</td>\n",
       "      <td>170802</td>\n",
       "      <td>53.409841</td>\n",
       "    </tr>\n",
       "  </tbody>\n",
       "</table>\n",
       "</div>"
      ],
      "text/plain": [
       "    Life Style  Number of people          %\n",
       "1  Unhealthy -             77155  24.126393\n",
       "3  Unhealthy +             31246   9.770634\n",
       "2    Healthy -             40592  12.693132\n",
       "0    Healthy +            170802  53.409841"
      ]
     },
     "execution_count": 22,
     "metadata": {},
     "output_type": "execute_result"
    }
   ],
   "source": [
    "# Group participants by 'Life Style'\n",
    "tbckills_ls = tbckills['LifeStyle'].value_counts().to_frame().reset_index()\n",
    "tbckills_ls.columns = ['Life Style', 'Number of people']\n",
    "tbckills_ls['%'] = 100*(tbckills_ls['Number of people']/tbckills_ls['Number of people'].sum())\n",
    "tbckills_ls = tbckills_ls.sort_values(by=['Life Style'], ascending=False)\n",
    "tbckills_ls"
   ]
  },
  {
   "cell_type": "code",
   "execution_count": 23,
   "id": "b09b9cf1",
   "metadata": {},
   "outputs": [
    {
     "data": {
      "text/plain": [
       "Text(0.5, 1.0, 'Number of people')"
      ]
     },
     "execution_count": 23,
     "metadata": {},
     "output_type": "execute_result"
    },
    {
     "data": {
      "image/png": "[encoded data removed]",
      "text/plain": [
       "<Figure size 700x700 with 1 Axes>"
      ]
     },
     "metadata": {},
     "output_type": "display_data"
    }
   ],
   "source": [
    "fig, ax = plt.subplots(figsize=(7, 7))\n",
    "\n",
    "ax.bar(tbckills_ls['Life Style'], tbckills_ls['Number of people'], color = ('pink', '#c28cdb', '#9c906e','#e37a5f'))\n",
    "\n",
    "ax.set_ylabel('Life Style', fontweight = 'bold', fontsize = 10)\n",
    "ax.set_xlabel('Life Style', fontweight = 'bold', fontsize = 10)\n",
    "\n",
    "ax.set_title('Number of people', fontweight = 'bold', fontsize = 12)"
   ]
  },
  {
   "cell_type": "code",
   "execution_count": 24,
   "id": "0258c599",
   "metadata": {},
   "outputs": [
    {
     "data": {
      "text/html": [
       "<div>\n",
       "<style scoped>\n",
       "    .dataframe tbody tr th:only-of-type {\n",
       "        vertical-align: middle;\n",
       "    }\n",
       "\n",
       "    .dataframe tbody tr th {\n",
       "        vertical-align: top;\n",
       "    }\n",
       "\n",
       "    .dataframe thead th {\n",
       "        text-align: right;\n",
       "    }\n",
       "</style>\n",
       "<table border=\"1\" class=\"dataframe\">\n",
       "  <thead>\n",
       "    <tr style=\"text-align: right;\">\n",
       "      <th></th>\n",
       "      <th>HeartDisease</th>\n",
       "      <th>BMI</th>\n",
       "      <th>Smoking</th>\n",
       "      <th>Alcohol</th>\n",
       "      <th>Stroke</th>\n",
       "      <th>Sex</th>\n",
       "      <th>Diabetic</th>\n",
       "      <th>PhysicalActivity</th>\n",
       "      <th>GenHealth</th>\n",
       "      <th>SleepTime</th>\n",
       "      <th>Asthma</th>\n",
       "      <th>KidneyDisease</th>\n",
       "      <th>Age</th>\n",
       "      <th>LifeStyle</th>\n",
       "      <th>BMI group</th>\n",
       "    </tr>\n",
       "  </thead>\n",
       "  <tbody>\n",
       "    <tr>\n",
       "      <th>0</th>\n",
       "      <td>No</td>\n",
       "      <td>16.60</td>\n",
       "      <td>Yes</td>\n",
       "      <td>No</td>\n",
       "      <td>No</td>\n",
       "      <td>Female</td>\n",
       "      <td>Yes</td>\n",
       "      <td>Yes</td>\n",
       "      <td>Very good</td>\n",
       "      <td>5</td>\n",
       "      <td>Yes</td>\n",
       "      <td>No</td>\n",
       "      <td>55-64</td>\n",
       "      <td>Unhealthy -</td>\n",
       "      <td>Underweight</td>\n",
       "    </tr>\n",
       "    <tr>\n",
       "      <th>1</th>\n",
       "      <td>No</td>\n",
       "      <td>20.34</td>\n",
       "      <td>No</td>\n",
       "      <td>No</td>\n",
       "      <td>Yes</td>\n",
       "      <td>Female</td>\n",
       "      <td>No</td>\n",
       "      <td>Yes</td>\n",
       "      <td>Very good</td>\n",
       "      <td>7</td>\n",
       "      <td>No</td>\n",
       "      <td>No</td>\n",
       "      <td>80+</td>\n",
       "      <td>Healthy +</td>\n",
       "      <td>Healthy weight</td>\n",
       "    </tr>\n",
       "    <tr>\n",
       "      <th>2</th>\n",
       "      <td>No</td>\n",
       "      <td>26.58</td>\n",
       "      <td>Yes</td>\n",
       "      <td>No</td>\n",
       "      <td>No</td>\n",
       "      <td>Male</td>\n",
       "      <td>Yes</td>\n",
       "      <td>Yes</td>\n",
       "      <td>Fair</td>\n",
       "      <td>8</td>\n",
       "      <td>Yes</td>\n",
       "      <td>No</td>\n",
       "      <td>65-79</td>\n",
       "      <td>Healthy +</td>\n",
       "      <td>Overweight</td>\n",
       "    </tr>\n",
       "  </tbody>\n",
       "</table>\n",
       "</div>"
      ],
      "text/plain": [
       "  HeartDisease    BMI Smoking Alcohol Stroke     Sex Diabetic  \\\n",
       "0           No  16.60     Yes      No     No  Female      Yes   \n",
       "1           No  20.34      No      No    Yes  Female       No   \n",
       "2           No  26.58     Yes      No     No    Male      Yes   \n",
       "\n",
       "  PhysicalActivity  GenHealth  SleepTime Asthma KidneyDisease    Age  \\\n",
       "0              Yes  Very good          5    Yes            No  55-64   \n",
       "1              Yes  Very good          7     No            No    80+   \n",
       "2              Yes       Fair          8    Yes            No  65-79   \n",
       "\n",
       "     LifeStyle       BMI group  \n",
       "0  Unhealthy -     Underweight  \n",
       "1    Healthy +  Healthy weight  \n",
       "2    Healthy +      Overweight  "
      ]
     },
     "execution_count": 24,
     "metadata": {},
     "output_type": "execute_result"
    }
   ],
   "source": [
    "tbckills.head(3)"
   ]
  },
  {
   "cell_type": "markdown",
   "id": "c6502237",
   "metadata": {},
   "source": [
    "**Dependent variables: Category 3 = Consequences**\n",
    "- **HeartDisease**: Usually deathly\n",
    "- **Stroke**: Mostly deathly, caused by poor blood flow to the brain\n",
    "- **Diabetic**: The body functions badly to turn blood sugar into energy, leaving too much blood sugar in bloodstream.\n",
    "- **GenHealth**: Health status in general\n",
    "- **KidneyDisease**: Damaged kidney\n",
    "- **Asthma**: Difficulty in breathing, causing cough, wheeze"
   ]
  },
  {
   "cell_type": "markdown",
   "id": "df5508ca",
   "metadata": {},
   "source": [
    "**Heart Disease**"
   ]
  },
  {
   "cell_type": "code",
   "execution_count": 25,
   "id": "8d58f650",
   "metadata": {},
   "outputs": [
    {
     "data": {
      "text/html": [
       "<div>\n",
       "<style scoped>\n",
       "    .dataframe tbody tr th:only-of-type {\n",
       "        vertical-align: middle;\n",
       "    }\n",
       "\n",
       "    .dataframe tbody tr th {\n",
       "        vertical-align: top;\n",
       "    }\n",
       "\n",
       "    .dataframe thead th {\n",
       "        text-align: right;\n",
       "    }\n",
       "</style>\n",
       "<table border=\"1\" class=\"dataframe\">\n",
       "  <thead>\n",
       "    <tr style=\"text-align: right;\">\n",
       "      <th></th>\n",
       "      <th>Heart Disease</th>\n",
       "      <th>Number of people</th>\n",
       "      <th>%</th>\n",
       "    </tr>\n",
       "  </thead>\n",
       "  <tbody>\n",
       "    <tr>\n",
       "      <th>0</th>\n",
       "      <td>No</td>\n",
       "      <td>292422</td>\n",
       "      <td>91.440454</td>\n",
       "    </tr>\n",
       "    <tr>\n",
       "      <th>1</th>\n",
       "      <td>Yes</td>\n",
       "      <td>27373</td>\n",
       "      <td>8.559546</td>\n",
       "    </tr>\n",
       "  </tbody>\n",
       "</table>\n",
       "</div>"
      ],
      "text/plain": [
       "  Heart Disease  Number of people          %\n",
       "0            No            292422  91.440454\n",
       "1           Yes             27373   8.559546"
      ]
     },
     "execution_count": 25,
     "metadata": {},
     "output_type": "execute_result"
    }
   ],
   "source": [
    "tbckills_heartdisease = tbckills['HeartDisease'].value_counts().to_frame().reset_index()\n",
    "tbckills_heartdisease.columns = ['Heart Disease', 'Number of people']\n",
    "tbckills_heartdisease['%'] = 100*(tbckills_heartdisease['Number of people']/tbckills_heartdisease['Number of people'].sum())\n",
    "tbckills_heartdisease"
   ]
  },
  {
   "cell_type": "markdown",
   "id": "237ced03",
   "metadata": {},
   "source": [
    "**Stroke**"
   ]
  },
  {
   "cell_type": "code",
   "execution_count": 26,
   "id": "49dc6f1e",
   "metadata": {},
   "outputs": [
    {
     "data": {
      "text/html": [
       "<div>\n",
       "<style scoped>\n",
       "    .dataframe tbody tr th:only-of-type {\n",
       "        vertical-align: middle;\n",
       "    }\n",
       "\n",
       "    .dataframe tbody tr th {\n",
       "        vertical-align: top;\n",
       "    }\n",
       "\n",
       "    .dataframe thead th {\n",
       "        text-align: right;\n",
       "    }\n",
       "</style>\n",
       "<table border=\"1\" class=\"dataframe\">\n",
       "  <thead>\n",
       "    <tr style=\"text-align: right;\">\n",
       "      <th></th>\n",
       "      <th>Stroke</th>\n",
       "      <th>Number of people</th>\n",
       "      <th>%</th>\n",
       "    </tr>\n",
       "  </thead>\n",
       "  <tbody>\n",
       "    <tr>\n",
       "      <th>0</th>\n",
       "      <td>No</td>\n",
       "      <td>307726</td>\n",
       "      <td>96.22602</td>\n",
       "    </tr>\n",
       "    <tr>\n",
       "      <th>1</th>\n",
       "      <td>Yes</td>\n",
       "      <td>12069</td>\n",
       "      <td>3.77398</td>\n",
       "    </tr>\n",
       "  </tbody>\n",
       "</table>\n",
       "</div>"
      ],
      "text/plain": [
       "  Stroke  Number of people         %\n",
       "0     No            307726  96.22602\n",
       "1    Yes             12069   3.77398"
      ]
     },
     "execution_count": 26,
     "metadata": {},
     "output_type": "execute_result"
    }
   ],
   "source": [
    "\n",
    "tbckills_stroke = tbckills['Stroke'].value_counts().to_frame().reset_index()\n",
    "tbckills_stroke.columns = ['Stroke', 'Number of people']\n",
    "tbckills_stroke['%'] = 100*(tbckills_stroke['Number of people']/tbckills_stroke['Number of people'].sum())\n",
    "tbckills_stroke"
   ]
  },
  {
   "cell_type": "markdown",
   "id": "71acc6f0",
   "metadata": {},
   "source": [
    "**Diabetes**"
   ]
  },
  {
   "cell_type": "code",
   "execution_count": 27,
   "id": "29128711",
   "metadata": {},
   "outputs": [
    {
     "data": {
      "text/plain": [
       "array(['Yes', 'No', 'No, borderline diabetes', 'Yes (during pregnancy)'],\n",
       "      dtype=object)"
      ]
     },
     "execution_count": 27,
     "metadata": {},
     "output_type": "execute_result"
    }
   ],
   "source": [
    "tbckills['Diabetic'].unique()"
   ]
  },
  {
   "cell_type": "markdown",
   "id": "cba4b664",
   "metadata": {},
   "source": [
    "- Because this study focuses on health problems caused by bad habits such as smoking, **people who have diabete during pregnancy are considered to NOT have diabetes** because they wouldn't smoke. So the number of people who have diabete during pregnancy is added to the 'No' value.\n",
    "- Borderline diabetes are prediabetes"
   ]
  },
  {
   "cell_type": "code",
   "execution_count": 28,
   "id": "4eb210f4",
   "metadata": {
    "scrolled": true
   },
   "outputs": [
    {
     "data": {
      "text/html": [
       "<div>\n",
       "<style scoped>\n",
       "    .dataframe tbody tr th:only-of-type {\n",
       "        vertical-align: middle;\n",
       "    }\n",
       "\n",
       "    .dataframe tbody tr th {\n",
       "        vertical-align: top;\n",
       "    }\n",
       "\n",
       "    .dataframe thead th {\n",
       "        text-align: right;\n",
       "    }\n",
       "</style>\n",
       "<table border=\"1\" class=\"dataframe\">\n",
       "  <thead>\n",
       "    <tr style=\"text-align: right;\">\n",
       "      <th></th>\n",
       "      <th>Diabetic</th>\n",
       "      <th>Number of people</th>\n",
       "      <th>%</th>\n",
       "    </tr>\n",
       "  </thead>\n",
       "  <tbody>\n",
       "    <tr>\n",
       "      <th>0</th>\n",
       "      <td>No</td>\n",
       "      <td>272212</td>\n",
       "      <td>85.120781</td>\n",
       "    </tr>\n",
       "    <tr>\n",
       "      <th>1</th>\n",
       "      <td>Yes</td>\n",
       "      <td>40802</td>\n",
       "      <td>12.758799</td>\n",
       "    </tr>\n",
       "    <tr>\n",
       "      <th>2</th>\n",
       "      <td>Prediabetes</td>\n",
       "      <td>6781</td>\n",
       "      <td>2.120421</td>\n",
       "    </tr>\n",
       "  </tbody>\n",
       "</table>\n",
       "</div>"
      ],
      "text/plain": [
       "      Diabetic  Number of people          %\n",
       "0           No            272212  85.120781\n",
       "1          Yes             40802  12.758799\n",
       "2  Prediabetes              6781   2.120421"
      ]
     },
     "execution_count": 28,
     "metadata": {},
     "output_type": "execute_result"
    }
   ],
   "source": [
    "\n",
    "tbckills_diabetic = tbckills['Diabetic'].value_counts().to_frame().reset_index()\n",
    "tbckills_diabetic.columns = ['Diabetic', 'Number of people']\n",
    "\n",
    "# No = Sum(No + Yes(during pregnancy))\n",
    "tbckills_diabetic.loc[tbckills_diabetic.Diabetic == \"No\", \"Number of people\"] = tbckills_diabetic['Number of people'].iloc[0] + tbckills_diabetic['Number of people'].iloc[3] \n",
    "\n",
    "#Delete row \"Yes (during pregnancy)\"\n",
    "tbckills_diabetic.drop(labels = 3, axis = 0, inplace = True)\n",
    "\n",
    "#Change the name \"No, borderline diabetes\" to \"Prediabetes\" for easier understanding\n",
    "tbckills_diabetic['Diabetic'] = tbckills_diabetic['Diabetic'].replace({\"No, borderline diabetes\":\"Prediabetes\"})\n",
    "\n",
    "#Percentage\n",
    "tbckills_diabetic['%'] = 100*(tbckills_diabetic['Number of people']/tbckills_diabetic['Number of people'].sum())\n",
    "\n",
    "tbckills_diabetic"
   ]
  },
  {
   "cell_type": "markdown",
   "id": "0cd9ba39",
   "metadata": {},
   "source": [
    "**Health status in general**"
   ]
  },
  {
   "cell_type": "code",
   "execution_count": 29,
   "id": "53d4ce93",
   "metadata": {},
   "outputs": [
    {
     "data": {
      "text/plain": [
       "array(['Very good', 'Fair', 'Good', 'Poor', 'Excellent'], dtype=object)"
      ]
     },
     "execution_count": 29,
     "metadata": {},
     "output_type": "execute_result"
    }
   ],
   "source": [
    "tbckills['GenHealth'].unique()"
   ]
  },
  {
   "cell_type": "code",
   "execution_count": 30,
   "id": "9a5bb61b",
   "metadata": {},
   "outputs": [
    {
     "data": {
      "text/html": [
       "<div>\n",
       "<style scoped>\n",
       "    .dataframe tbody tr th:only-of-type {\n",
       "        vertical-align: middle;\n",
       "    }\n",
       "\n",
       "    .dataframe tbody tr th {\n",
       "        vertical-align: top;\n",
       "    }\n",
       "\n",
       "    .dataframe thead th {\n",
       "        text-align: right;\n",
       "    }\n",
       "</style>\n",
       "<table border=\"1\" class=\"dataframe\">\n",
       "  <thead>\n",
       "    <tr style=\"text-align: right;\">\n",
       "      <th></th>\n",
       "      <th>General Health</th>\n",
       "      <th>Number of people</th>\n",
       "    </tr>\n",
       "  </thead>\n",
       "  <tbody>\n",
       "    <tr>\n",
       "      <th>0</th>\n",
       "      <td>Very good</td>\n",
       "      <td>113858</td>\n",
       "    </tr>\n",
       "    <tr>\n",
       "      <th>1</th>\n",
       "      <td>Good</td>\n",
       "      <td>93129</td>\n",
       "    </tr>\n",
       "    <tr>\n",
       "      <th>2</th>\n",
       "      <td>Excellent</td>\n",
       "      <td>66842</td>\n",
       "    </tr>\n",
       "    <tr>\n",
       "      <th>3</th>\n",
       "      <td>Fair</td>\n",
       "      <td>34677</td>\n",
       "    </tr>\n",
       "    <tr>\n",
       "      <th>4</th>\n",
       "      <td>Poor</td>\n",
       "      <td>11289</td>\n",
       "    </tr>\n",
       "  </tbody>\n",
       "</table>\n",
       "</div>"
      ],
      "text/plain": [
       "  General Health  Number of people\n",
       "0      Very good            113858\n",
       "1           Good             93129\n",
       "2      Excellent             66842\n",
       "3           Fair             34677\n",
       "4           Poor             11289"
      ]
     },
     "execution_count": 30,
     "metadata": {},
     "output_type": "execute_result"
    }
   ],
   "source": [
    "tbckills_gen = tbckills['GenHealth'].value_counts().to_frame().reset_index()\n",
    "tbckills_gen.columns = ['General Health', 'Number of people']\n",
    "\n",
    "tbckills_gen\n"
   ]
  },
  {
   "cell_type": "markdown",
   "id": "056e8acd",
   "metadata": {},
   "source": [
    "Ranking general health status:\n",
    "- 5 = Excellent\n",
    "- 4 = Very good\n",
    "- 3 = Good\n",
    "- 2 = Fair\n",
    "- 1 = Poor"
   ]
  },
  {
   "cell_type": "code",
   "execution_count": 31,
   "id": "8be8cded",
   "metadata": {},
   "outputs": [
    {
     "data": {
      "text/html": [
       "<div>\n",
       "<style scoped>\n",
       "    .dataframe tbody tr th:only-of-type {\n",
       "        vertical-align: middle;\n",
       "    }\n",
       "\n",
       "    .dataframe tbody tr th {\n",
       "        vertical-align: top;\n",
       "    }\n",
       "\n",
       "    .dataframe thead th {\n",
       "        text-align: right;\n",
       "    }\n",
       "</style>\n",
       "<table border=\"1\" class=\"dataframe\">\n",
       "  <thead>\n",
       "    <tr style=\"text-align: right;\">\n",
       "      <th></th>\n",
       "      <th>General Health</th>\n",
       "      <th>Number of people</th>\n",
       "    </tr>\n",
       "  </thead>\n",
       "  <tbody>\n",
       "    <tr>\n",
       "      <th>4</th>\n",
       "      <td>1</td>\n",
       "      <td>11289</td>\n",
       "    </tr>\n",
       "    <tr>\n",
       "      <th>3</th>\n",
       "      <td>2</td>\n",
       "      <td>34677</td>\n",
       "    </tr>\n",
       "    <tr>\n",
       "      <th>1</th>\n",
       "      <td>3</td>\n",
       "      <td>93129</td>\n",
       "    </tr>\n",
       "    <tr>\n",
       "      <th>0</th>\n",
       "      <td>4</td>\n",
       "      <td>113858</td>\n",
       "    </tr>\n",
       "    <tr>\n",
       "      <th>2</th>\n",
       "      <td>5</td>\n",
       "      <td>66842</td>\n",
       "    </tr>\n",
       "  </tbody>\n",
       "</table>\n",
       "</div>"
      ],
      "text/plain": [
       "  General Health  Number of people\n",
       "4              1             11289\n",
       "3              2             34677\n",
       "1              3             93129\n",
       "0              4            113858\n",
       "2              5             66842"
      ]
     },
     "execution_count": 31,
     "metadata": {},
     "output_type": "execute_result"
    }
   ],
   "source": [
    "tbckills_gen['General Health'].replace({'Excellent':'5', 'Very good':'4', 'Good':'3', \n",
    "                                        'Fair':'2', 'Poor':'1'}, inplace=True)\n",
    "\n",
    "tbckills_gen = tbckills_gen.sort_values(by=['General Health'], ascending=True)\n",
    "tbckills_gen"
   ]
  },
  {
   "cell_type": "markdown",
   "id": "4fb0600a",
   "metadata": {},
   "source": [
    "**Kidney Disease**"
   ]
  },
  {
   "cell_type": "code",
   "execution_count": 32,
   "id": "33049831",
   "metadata": {},
   "outputs": [
    {
     "data": {
      "text/html": [
       "<div>\n",
       "<style scoped>\n",
       "    .dataframe tbody tr th:only-of-type {\n",
       "        vertical-align: middle;\n",
       "    }\n",
       "\n",
       "    .dataframe tbody tr th {\n",
       "        vertical-align: top;\n",
       "    }\n",
       "\n",
       "    .dataframe thead th {\n",
       "        text-align: right;\n",
       "    }\n",
       "</style>\n",
       "<table border=\"1\" class=\"dataframe\">\n",
       "  <thead>\n",
       "    <tr style=\"text-align: right;\">\n",
       "      <th></th>\n",
       "      <th>Kidney Disease</th>\n",
       "      <th>Number of people</th>\n",
       "      <th>%</th>\n",
       "    </tr>\n",
       "  </thead>\n",
       "  <tbody>\n",
       "    <tr>\n",
       "      <th>0</th>\n",
       "      <td>No</td>\n",
       "      <td>308016</td>\n",
       "      <td>96.316703</td>\n",
       "    </tr>\n",
       "    <tr>\n",
       "      <th>1</th>\n",
       "      <td>Yes</td>\n",
       "      <td>11779</td>\n",
       "      <td>3.683297</td>\n",
       "    </tr>\n",
       "  </tbody>\n",
       "</table>\n",
       "</div>"
      ],
      "text/plain": [
       "  Kidney Disease  Number of people          %\n",
       "0             No            308016  96.316703\n",
       "1            Yes             11779   3.683297"
      ]
     },
     "execution_count": 32,
     "metadata": {},
     "output_type": "execute_result"
    }
   ],
   "source": [
    "tbckills_kidney = tbckills['KidneyDisease'].value_counts().to_frame().reset_index()\n",
    "tbckills_kidney.columns = ['Kidney Disease', 'Number of people']\n",
    "tbckills_kidney['%'] = 100*(tbckills_kidney['Number of people']/tbckills_kidney['Number of people'].sum())\n",
    "tbckills_kidney"
   ]
  },
  {
   "cell_type": "code",
   "execution_count": 33,
   "id": "d01b8ff1",
   "metadata": {},
   "outputs": [
    {
     "data": {
      "text/html": [
       "<div>\n",
       "<style scoped>\n",
       "    .dataframe tbody tr th:only-of-type {\n",
       "        vertical-align: middle;\n",
       "    }\n",
       "\n",
       "    .dataframe tbody tr th {\n",
       "        vertical-align: top;\n",
       "    }\n",
       "\n",
       "    .dataframe thead th {\n",
       "        text-align: right;\n",
       "    }\n",
       "</style>\n",
       "<table border=\"1\" class=\"dataframe\">\n",
       "  <thead>\n",
       "    <tr style=\"text-align: right;\">\n",
       "      <th></th>\n",
       "      <th>HeartDisease</th>\n",
       "      <th>BMI</th>\n",
       "      <th>Smoking</th>\n",
       "      <th>Alcohol</th>\n",
       "      <th>Stroke</th>\n",
       "      <th>Sex</th>\n",
       "      <th>Diabetic</th>\n",
       "      <th>PhysicalActivity</th>\n",
       "      <th>GenHealth</th>\n",
       "      <th>SleepTime</th>\n",
       "      <th>Asthma</th>\n",
       "      <th>KidneyDisease</th>\n",
       "      <th>Age</th>\n",
       "      <th>LifeStyle</th>\n",
       "      <th>BMI group</th>\n",
       "    </tr>\n",
       "  </thead>\n",
       "  <tbody>\n",
       "    <tr>\n",
       "      <th>0</th>\n",
       "      <td>No</td>\n",
       "      <td>16.60</td>\n",
       "      <td>Yes</td>\n",
       "      <td>No</td>\n",
       "      <td>No</td>\n",
       "      <td>Female</td>\n",
       "      <td>Yes</td>\n",
       "      <td>Yes</td>\n",
       "      <td>Very good</td>\n",
       "      <td>5</td>\n",
       "      <td>Yes</td>\n",
       "      <td>No</td>\n",
       "      <td>55-64</td>\n",
       "      <td>Unhealthy -</td>\n",
       "      <td>Underweight</td>\n",
       "    </tr>\n",
       "    <tr>\n",
       "      <th>1</th>\n",
       "      <td>No</td>\n",
       "      <td>20.34</td>\n",
       "      <td>No</td>\n",
       "      <td>No</td>\n",
       "      <td>Yes</td>\n",
       "      <td>Female</td>\n",
       "      <td>No</td>\n",
       "      <td>Yes</td>\n",
       "      <td>Very good</td>\n",
       "      <td>7</td>\n",
       "      <td>No</td>\n",
       "      <td>No</td>\n",
       "      <td>80+</td>\n",
       "      <td>Healthy +</td>\n",
       "      <td>Healthy weight</td>\n",
       "    </tr>\n",
       "    <tr>\n",
       "      <th>2</th>\n",
       "      <td>No</td>\n",
       "      <td>26.58</td>\n",
       "      <td>Yes</td>\n",
       "      <td>No</td>\n",
       "      <td>No</td>\n",
       "      <td>Male</td>\n",
       "      <td>Yes</td>\n",
       "      <td>Yes</td>\n",
       "      <td>Fair</td>\n",
       "      <td>8</td>\n",
       "      <td>Yes</td>\n",
       "      <td>No</td>\n",
       "      <td>65-79</td>\n",
       "      <td>Healthy +</td>\n",
       "      <td>Overweight</td>\n",
       "    </tr>\n",
       "    <tr>\n",
       "      <th>3</th>\n",
       "      <td>No</td>\n",
       "      <td>24.21</td>\n",
       "      <td>No</td>\n",
       "      <td>No</td>\n",
       "      <td>No</td>\n",
       "      <td>Female</td>\n",
       "      <td>No</td>\n",
       "      <td>No</td>\n",
       "      <td>Good</td>\n",
       "      <td>6</td>\n",
       "      <td>No</td>\n",
       "      <td>No</td>\n",
       "      <td>65-79</td>\n",
       "      <td>Unhealthy +</td>\n",
       "      <td>Healthy weight</td>\n",
       "    </tr>\n",
       "    <tr>\n",
       "      <th>4</th>\n",
       "      <td>No</td>\n",
       "      <td>23.71</td>\n",
       "      <td>No</td>\n",
       "      <td>No</td>\n",
       "      <td>No</td>\n",
       "      <td>Female</td>\n",
       "      <td>No</td>\n",
       "      <td>Yes</td>\n",
       "      <td>Very good</td>\n",
       "      <td>8</td>\n",
       "      <td>No</td>\n",
       "      <td>No</td>\n",
       "      <td>35-44</td>\n",
       "      <td>Healthy +</td>\n",
       "      <td>Healthy weight</td>\n",
       "    </tr>\n",
       "  </tbody>\n",
       "</table>\n",
       "</div>"
      ],
      "text/plain": [
       "  HeartDisease    BMI Smoking Alcohol Stroke     Sex Diabetic  \\\n",
       "0           No  16.60     Yes      No     No  Female      Yes   \n",
       "1           No  20.34      No      No    Yes  Female       No   \n",
       "2           No  26.58     Yes      No     No    Male      Yes   \n",
       "3           No  24.21      No      No     No  Female       No   \n",
       "4           No  23.71      No      No     No  Female       No   \n",
       "\n",
       "  PhysicalActivity  GenHealth  SleepTime Asthma KidneyDisease    Age  \\\n",
       "0              Yes  Very good          5    Yes            No  55-64   \n",
       "1              Yes  Very good          7     No            No    80+   \n",
       "2              Yes       Fair          8    Yes            No  65-79   \n",
       "3               No       Good          6     No            No  65-79   \n",
       "4              Yes  Very good          8     No            No  35-44   \n",
       "\n",
       "     LifeStyle       BMI group  \n",
       "0  Unhealthy -     Underweight  \n",
       "1    Healthy +  Healthy weight  \n",
       "2    Healthy +      Overweight  \n",
       "3  Unhealthy +  Healthy weight  \n",
       "4    Healthy +  Healthy weight  "
      ]
     },
     "execution_count": 33,
     "metadata": {},
     "output_type": "execute_result"
    }
   ],
   "source": [
    "tbckills.head(5)"
   ]
  },
  {
   "cell_type": "markdown",
   "id": "9578a4dd",
   "metadata": {},
   "source": [
    "**Step 2: Correlations**"
   ]
  },
  {
   "cell_type": "markdown",
   "id": "09c62854",
   "metadata": {},
   "source": [
    "Dropping PhysicalActivity, BMI group"
   ]
  },
  {
   "cell_type": "code",
   "execution_count": 34,
   "id": "933babac",
   "metadata": {
    "scrolled": true
   },
   "outputs": [
    {
     "data": {
      "text/html": [
       "<div>\n",
       "<style scoped>\n",
       "    .dataframe tbody tr th:only-of-type {\n",
       "        vertical-align: middle;\n",
       "    }\n",
       "\n",
       "    .dataframe tbody tr th {\n",
       "        vertical-align: top;\n",
       "    }\n",
       "\n",
       "    .dataframe thead th {\n",
       "        text-align: right;\n",
       "    }\n",
       "</style>\n",
       "<table border=\"1\" class=\"dataframe\">\n",
       "  <thead>\n",
       "    <tr style=\"text-align: right;\">\n",
       "      <th></th>\n",
       "      <th>Age</th>\n",
       "      <th>BMI</th>\n",
       "      <th>Sex</th>\n",
       "      <th>Smoking</th>\n",
       "      <th>Alcohol</th>\n",
       "      <th>SleepTime</th>\n",
       "      <th>LifeStyle</th>\n",
       "      <th>HeartDisease</th>\n",
       "      <th>Stroke</th>\n",
       "      <th>Diabetic</th>\n",
       "      <th>GenHealth</th>\n",
       "      <th>KidneyDisease</th>\n",
       "      <th>Asthma</th>\n",
       "    </tr>\n",
       "  </thead>\n",
       "  <tbody>\n",
       "    <tr>\n",
       "      <th>0</th>\n",
       "      <td>55-64</td>\n",
       "      <td>16.60</td>\n",
       "      <td>Female</td>\n",
       "      <td>Yes</td>\n",
       "      <td>No</td>\n",
       "      <td>5</td>\n",
       "      <td>Unhealthy -</td>\n",
       "      <td>No</td>\n",
       "      <td>No</td>\n",
       "      <td>Yes</td>\n",
       "      <td>Very good</td>\n",
       "      <td>No</td>\n",
       "      <td>Yes</td>\n",
       "    </tr>\n",
       "    <tr>\n",
       "      <th>1</th>\n",
       "      <td>80+</td>\n",
       "      <td>20.34</td>\n",
       "      <td>Female</td>\n",
       "      <td>No</td>\n",
       "      <td>No</td>\n",
       "      <td>7</td>\n",
       "      <td>Healthy +</td>\n",
       "      <td>No</td>\n",
       "      <td>Yes</td>\n",
       "      <td>No</td>\n",
       "      <td>Very good</td>\n",
       "      <td>No</td>\n",
       "      <td>No</td>\n",
       "    </tr>\n",
       "    <tr>\n",
       "      <th>2</th>\n",
       "      <td>65-79</td>\n",
       "      <td>26.58</td>\n",
       "      <td>Male</td>\n",
       "      <td>Yes</td>\n",
       "      <td>No</td>\n",
       "      <td>8</td>\n",
       "      <td>Healthy +</td>\n",
       "      <td>No</td>\n",
       "      <td>No</td>\n",
       "      <td>Yes</td>\n",
       "      <td>Fair</td>\n",
       "      <td>No</td>\n",
       "      <td>Yes</td>\n",
       "    </tr>\n",
       "    <tr>\n",
       "      <th>3</th>\n",
       "      <td>65-79</td>\n",
       "      <td>24.21</td>\n",
       "      <td>Female</td>\n",
       "      <td>No</td>\n",
       "      <td>No</td>\n",
       "      <td>6</td>\n",
       "      <td>Unhealthy +</td>\n",
       "      <td>No</td>\n",
       "      <td>No</td>\n",
       "      <td>No</td>\n",
       "      <td>Good</td>\n",
       "      <td>No</td>\n",
       "      <td>No</td>\n",
       "    </tr>\n",
       "    <tr>\n",
       "      <th>4</th>\n",
       "      <td>35-44</td>\n",
       "      <td>23.71</td>\n",
       "      <td>Female</td>\n",
       "      <td>No</td>\n",
       "      <td>No</td>\n",
       "      <td>8</td>\n",
       "      <td>Healthy +</td>\n",
       "      <td>No</td>\n",
       "      <td>No</td>\n",
       "      <td>No</td>\n",
       "      <td>Very good</td>\n",
       "      <td>No</td>\n",
       "      <td>No</td>\n",
       "    </tr>\n",
       "  </tbody>\n",
       "</table>\n",
       "</div>"
      ],
      "text/plain": [
       "     Age    BMI     Sex Smoking Alcohol  SleepTime    LifeStyle HeartDisease  \\\n",
       "0  55-64  16.60  Female     Yes      No          5  Unhealthy -           No   \n",
       "1    80+  20.34  Female      No      No          7    Healthy +           No   \n",
       "2  65-79  26.58    Male     Yes      No          8    Healthy +           No   \n",
       "3  65-79  24.21  Female      No      No          6  Unhealthy +           No   \n",
       "4  35-44  23.71  Female      No      No          8    Healthy +           No   \n",
       "\n",
       "  Stroke Diabetic  GenHealth KidneyDisease Asthma  \n",
       "0     No      Yes  Very good            No    Yes  \n",
       "1    Yes       No  Very good            No     No  \n",
       "2     No      Yes       Fair            No    Yes  \n",
       "3     No       No       Good            No     No  \n",
       "4     No       No  Very good            No     No  "
      ]
     },
     "execution_count": 34,
     "metadata": {},
     "output_type": "execute_result"
    }
   ],
   "source": [
    "tbckills_corr = tbckills[['Age','BMI', 'Sex','Smoking','Alcohol','SleepTime','LifeStyle', 'HeartDisease','Stroke',\n",
    "                         'Diabetic','GenHealth','KidneyDisease', 'Asthma']]\n",
    "tbckills_corr.head()"
   ]
  },
  {
   "cell_type": "markdown",
   "id": "5ec9f7a3",
   "metadata": {},
   "source": [
    "Numeralizing categorical variables"
   ]
  },
  {
   "cell_type": "code",
   "execution_count": 35,
   "id": "cfc38452",
   "metadata": {},
   "outputs": [],
   "source": [
    "pd.set_option('chained',None)"
   ]
  },
  {
   "cell_type": "code",
   "execution_count": 36,
   "id": "0669fdb9",
   "metadata": {},
   "outputs": [
    {
     "data": {
      "text/html": [
       "<div>\n",
       "<style scoped>\n",
       "    .dataframe tbody tr th:only-of-type {\n",
       "        vertical-align: middle;\n",
       "    }\n",
       "\n",
       "    .dataframe tbody tr th {\n",
       "        vertical-align: top;\n",
       "    }\n",
       "\n",
       "    .dataframe thead th {\n",
       "        text-align: right;\n",
       "    }\n",
       "</style>\n",
       "<table border=\"1\" class=\"dataframe\">\n",
       "  <thead>\n",
       "    <tr style=\"text-align: right;\">\n",
       "      <th></th>\n",
       "      <th>Age</th>\n",
       "      <th>BMI</th>\n",
       "      <th>Sex</th>\n",
       "      <th>Smoking</th>\n",
       "      <th>Alcohol</th>\n",
       "      <th>SleepTime</th>\n",
       "      <th>LifeStyle</th>\n",
       "      <th>HeartDisease</th>\n",
       "      <th>Stroke</th>\n",
       "      <th>Diabetic</th>\n",
       "      <th>GenHealth</th>\n",
       "      <th>KidneyDisease</th>\n",
       "      <th>Asthma</th>\n",
       "    </tr>\n",
       "  </thead>\n",
       "  <tbody>\n",
       "    <tr>\n",
       "      <th>0</th>\n",
       "      <td>55-64</td>\n",
       "      <td>16.60</td>\n",
       "      <td>Female</td>\n",
       "      <td>1</td>\n",
       "      <td>0</td>\n",
       "      <td>5</td>\n",
       "      <td>Unhealthy -</td>\n",
       "      <td>0</td>\n",
       "      <td>0</td>\n",
       "      <td>Yes</td>\n",
       "      <td>Very good</td>\n",
       "      <td>0</td>\n",
       "      <td>1</td>\n",
       "    </tr>\n",
       "    <tr>\n",
       "      <th>1</th>\n",
       "      <td>80+</td>\n",
       "      <td>20.34</td>\n",
       "      <td>Female</td>\n",
       "      <td>0</td>\n",
       "      <td>0</td>\n",
       "      <td>7</td>\n",
       "      <td>Healthy +</td>\n",
       "      <td>0</td>\n",
       "      <td>1</td>\n",
       "      <td>No</td>\n",
       "      <td>Very good</td>\n",
       "      <td>0</td>\n",
       "      <td>0</td>\n",
       "    </tr>\n",
       "    <tr>\n",
       "      <th>2</th>\n",
       "      <td>65-79</td>\n",
       "      <td>26.58</td>\n",
       "      <td>Male</td>\n",
       "      <td>1</td>\n",
       "      <td>0</td>\n",
       "      <td>8</td>\n",
       "      <td>Healthy +</td>\n",
       "      <td>0</td>\n",
       "      <td>0</td>\n",
       "      <td>Yes</td>\n",
       "      <td>Fair</td>\n",
       "      <td>0</td>\n",
       "      <td>1</td>\n",
       "    </tr>\n",
       "  </tbody>\n",
       "</table>\n",
       "</div>"
      ],
      "text/plain": [
       "     Age    BMI     Sex  Smoking  Alcohol  SleepTime    LifeStyle  \\\n",
       "0  55-64  16.60  Female        1        0          5  Unhealthy -   \n",
       "1    80+  20.34  Female        0        0          7    Healthy +   \n",
       "2  65-79  26.58    Male        1        0          8    Healthy +   \n",
       "\n",
       "   HeartDisease  Stroke Diabetic  GenHealth  KidneyDisease  Asthma  \n",
       "0             0       0      Yes  Very good              0       1  \n",
       "1             0       1       No  Very good              0       0  \n",
       "2             0       0      Yes       Fair              0       1  "
      ]
     },
     "execution_count": 36,
     "metadata": {},
     "output_type": "execute_result"
    }
   ],
   "source": [
    "yes_no_cols = ['Smoking','Alcohol', 'HeartDisease','Stroke','KidneyDisease','Asthma']\n",
    "yes_no = {'Yes':1, 'No':0}\n",
    "\n",
    "for i in range(len(yes_no_cols)):\n",
    "    column = yes_no_cols[i]\n",
    "    tbckills_corr[column].replace(yes_no, inplace = True)\n",
    "    \n",
    "tbckills_corr.head(3)"
   ]
  },
  {
   "cell_type": "code",
   "execution_count": 37,
   "id": "1fcd765a",
   "metadata": {},
   "outputs": [
    {
     "data": {
      "text/html": [
       "<div>\n",
       "<style scoped>\n",
       "    .dataframe tbody tr th:only-of-type {\n",
       "        vertical-align: middle;\n",
       "    }\n",
       "\n",
       "    .dataframe tbody tr th {\n",
       "        vertical-align: top;\n",
       "    }\n",
       "\n",
       "    .dataframe thead th {\n",
       "        text-align: right;\n",
       "    }\n",
       "</style>\n",
       "<table border=\"1\" class=\"dataframe\">\n",
       "  <thead>\n",
       "    <tr style=\"text-align: right;\">\n",
       "      <th></th>\n",
       "      <th>Age</th>\n",
       "      <th>BMI</th>\n",
       "      <th>Sex</th>\n",
       "      <th>Smoking</th>\n",
       "      <th>Alcohol</th>\n",
       "      <th>SleepTime</th>\n",
       "      <th>LifeStyle</th>\n",
       "      <th>HeartDisease</th>\n",
       "      <th>Stroke</th>\n",
       "      <th>Diabetic</th>\n",
       "      <th>GenHealth</th>\n",
       "      <th>KidneyDisease</th>\n",
       "      <th>Asthma</th>\n",
       "    </tr>\n",
       "  </thead>\n",
       "  <tbody>\n",
       "    <tr>\n",
       "      <th>0</th>\n",
       "      <td>4</td>\n",
       "      <td>16.60</td>\n",
       "      <td>0</td>\n",
       "      <td>1</td>\n",
       "      <td>0</td>\n",
       "      <td>5</td>\n",
       "      <td>2</td>\n",
       "      <td>0</td>\n",
       "      <td>0</td>\n",
       "      <td>2</td>\n",
       "      <td>4</td>\n",
       "      <td>0</td>\n",
       "      <td>1</td>\n",
       "    </tr>\n",
       "    <tr>\n",
       "      <th>1</th>\n",
       "      <td>6</td>\n",
       "      <td>20.34</td>\n",
       "      <td>0</td>\n",
       "      <td>0</td>\n",
       "      <td>0</td>\n",
       "      <td>7</td>\n",
       "      <td>4</td>\n",
       "      <td>0</td>\n",
       "      <td>1</td>\n",
       "      <td>0</td>\n",
       "      <td>4</td>\n",
       "      <td>0</td>\n",
       "      <td>0</td>\n",
       "    </tr>\n",
       "    <tr>\n",
       "      <th>2</th>\n",
       "      <td>5</td>\n",
       "      <td>26.58</td>\n",
       "      <td>1</td>\n",
       "      <td>1</td>\n",
       "      <td>0</td>\n",
       "      <td>8</td>\n",
       "      <td>4</td>\n",
       "      <td>0</td>\n",
       "      <td>0</td>\n",
       "      <td>2</td>\n",
       "      <td>2</td>\n",
       "      <td>0</td>\n",
       "      <td>1</td>\n",
       "    </tr>\n",
       "  </tbody>\n",
       "</table>\n",
       "</div>"
      ],
      "text/plain": [
       "   Age    BMI  Sex  Smoking  Alcohol  SleepTime  LifeStyle  HeartDisease  \\\n",
       "0    4  16.60    0        1        0          5          2             0   \n",
       "1    6  20.34    0        0        0          7          4             0   \n",
       "2    5  26.58    1        1        0          8          4             0   \n",
       "\n",
       "   Stroke  Diabetic  GenHealth  KidneyDisease  Asthma  \n",
       "0       0         2          4              0       1  \n",
       "1       1         0          4              0       0  \n",
       "2       0         2          2              0       1  "
      ]
     },
     "execution_count": 37,
     "metadata": {},
     "output_type": "execute_result"
    }
   ],
   "source": [
    "conditions_GenHealth = {'Excellent':5, 'Very good':4, 'Good':3,'Fair':2, 'Poor':1}\n",
    "conditions_Age = {'80+':6, '65-79':5, '55-64':4,'45-54':3, '35-44':2, '25-34':1 }\n",
    "conditions_Sex =  {'Male':1, 'Female':0}\n",
    "conditions_Diabetic  = {'Yes': 2, 'No, borderline diabetes': 1, 'No': 0, 'Yes (during pregnancy)': 0}\n",
    "conditions_LifeStyle = {'Unhealthy -': 2, 'Unhealthy +': 1, 'Healthy +': 4, 'Healthy -':3}\n",
    "\n",
    "cols = ['GenHealth', 'Age', 'Sex', 'Diabetic', 'LifeStyle']\n",
    "conditions = [conditions_GenHealth, conditions_Age, conditions_Sex, conditions_Diabetic, conditions_LifeStyle ]\n",
    "\n",
    "for i in range(len(cols)):\n",
    "    col = cols[i]\n",
    "    condition = conditions[i]\n",
    "    tbckills_corr[col].replace(condition, inplace = True)\n",
    "\n",
    "tbckills_corr.head(3)\n",
    "\n"
   ]
  },
  {
   "cell_type": "code",
   "execution_count": 38,
   "id": "78507368",
   "metadata": {},
   "outputs": [],
   "source": [
    "for col in list(tbckills_corr.columns):\n",
    "    tbckills_corr[col] = tbckills_corr[col].astype(int)"
   ]
  },
  {
   "cell_type": "code",
   "execution_count": 39,
   "id": "71b4ea3c",
   "metadata": {},
   "outputs": [
    {
     "data": {
      "text/html": [
       "<div>\n",
       "<style scoped>\n",
       "    .dataframe tbody tr th:only-of-type {\n",
       "        vertical-align: middle;\n",
       "    }\n",
       "\n",
       "    .dataframe tbody tr th {\n",
       "        vertical-align: top;\n",
       "    }\n",
       "\n",
       "    .dataframe thead th {\n",
       "        text-align: right;\n",
       "    }\n",
       "</style>\n",
       "<table border=\"1\" class=\"dataframe\">\n",
       "  <thead>\n",
       "    <tr style=\"text-align: right;\">\n",
       "      <th></th>\n",
       "      <th>Age</th>\n",
       "      <th>BMI</th>\n",
       "      <th>Sex</th>\n",
       "      <th>Smoking</th>\n",
       "      <th>Alcohol</th>\n",
       "      <th>SleepTime</th>\n",
       "      <th>LifeStyle</th>\n",
       "      <th>HeartDisease</th>\n",
       "      <th>Stroke</th>\n",
       "      <th>Diabetic</th>\n",
       "      <th>GenHealth</th>\n",
       "      <th>KidneyDisease</th>\n",
       "      <th>Asthma</th>\n",
       "    </tr>\n",
       "  </thead>\n",
       "  <tbody>\n",
       "    <tr>\n",
       "      <th>Age</th>\n",
       "      <td>1.000000</td>\n",
       "      <td>-0.067122</td>\n",
       "      <td>-0.020086</td>\n",
       "      <td>-0.007067</td>\n",
       "      <td>-0.040977</td>\n",
       "      <td>0.076808</td>\n",
       "      <td>0.014859</td>\n",
       "      <td>0.111750</td>\n",
       "      <td>0.062786</td>\n",
       "      <td>0.085507</td>\n",
       "      <td>-0.073393</td>\n",
       "      <td>0.055458</td>\n",
       "      <td>-0.021325</td>\n",
       "    </tr>\n",
       "    <tr>\n",
       "      <th>BMI</th>\n",
       "      <td>-0.067122</td>\n",
       "      <td>1.000000</td>\n",
       "      <td>0.027203</td>\n",
       "      <td>0.023216</td>\n",
       "      <td>-0.038646</td>\n",
       "      <td>-0.051663</td>\n",
       "      <td>-0.139085</td>\n",
       "      <td>0.051628</td>\n",
       "      <td>0.019840</td>\n",
       "      <td>0.211452</td>\n",
       "      <td>-0.230434</td>\n",
       "      <td>0.050792</td>\n",
       "      <td>0.092211</td>\n",
       "    </tr>\n",
       "    <tr>\n",
       "      <th>Sex</th>\n",
       "      <td>-0.020086</td>\n",
       "      <td>0.027203</td>\n",
       "      <td>1.000000</td>\n",
       "      <td>0.085052</td>\n",
       "      <td>0.004200</td>\n",
       "      <td>-0.015704</td>\n",
       "      <td>0.019096</td>\n",
       "      <td>0.070040</td>\n",
       "      <td>-0.003091</td>\n",
       "      <td>0.019574</td>\n",
       "      <td>0.025947</td>\n",
       "      <td>-0.009084</td>\n",
       "      <td>-0.069191</td>\n",
       "    </tr>\n",
       "    <tr>\n",
       "      <th>Smoking</th>\n",
       "      <td>-0.007067</td>\n",
       "      <td>0.023216</td>\n",
       "      <td>0.085052</td>\n",
       "      <td>1.000000</td>\n",
       "      <td>0.111768</td>\n",
       "      <td>-0.030336</td>\n",
       "      <td>-0.104355</td>\n",
       "      <td>0.107764</td>\n",
       "      <td>0.061226</td>\n",
       "      <td>0.059318</td>\n",
       "      <td>-0.174717</td>\n",
       "      <td>0.034920</td>\n",
       "      <td>0.024149</td>\n",
       "    </tr>\n",
       "    <tr>\n",
       "      <th>Alcohol</th>\n",
       "      <td>-0.040977</td>\n",
       "      <td>-0.038646</td>\n",
       "      <td>0.004200</td>\n",
       "      <td>0.111768</td>\n",
       "      <td>1.000000</td>\n",
       "      <td>-0.005065</td>\n",
       "      <td>-0.001715</td>\n",
       "      <td>-0.032080</td>\n",
       "      <td>-0.019858</td>\n",
       "      <td>-0.059313</td>\n",
       "      <td>0.029780</td>\n",
       "      <td>-0.028280</td>\n",
       "      <td>-0.002202</td>\n",
       "    </tr>\n",
       "    <tr>\n",
       "      <th>SleepTime</th>\n",
       "      <td>0.076808</td>\n",
       "      <td>-0.051663</td>\n",
       "      <td>-0.015704</td>\n",
       "      <td>-0.030336</td>\n",
       "      <td>-0.005065</td>\n",
       "      <td>1.000000</td>\n",
       "      <td>0.443540</td>\n",
       "      <td>0.008327</td>\n",
       "      <td>0.011900</td>\n",
       "      <td>0.005100</td>\n",
       "      <td>0.063071</td>\n",
       "      <td>0.006238</td>\n",
       "      <td>-0.048245</td>\n",
       "    </tr>\n",
       "    <tr>\n",
       "      <th>LifeStyle</th>\n",
       "      <td>0.014859</td>\n",
       "      <td>-0.139085</td>\n",
       "      <td>0.019096</td>\n",
       "      <td>-0.104355</td>\n",
       "      <td>-0.001715</td>\n",
       "      <td>0.443540</td>\n",
       "      <td>1.000000</td>\n",
       "      <td>-0.074470</td>\n",
       "      <td>-0.064550</td>\n",
       "      <td>-0.105880</td>\n",
       "      <td>0.261051</td>\n",
       "      <td>-0.061307</td>\n",
       "      <td>-0.075911</td>\n",
       "    </tr>\n",
       "    <tr>\n",
       "      <th>HeartDisease</th>\n",
       "      <td>0.111750</td>\n",
       "      <td>0.051628</td>\n",
       "      <td>0.070040</td>\n",
       "      <td>0.107764</td>\n",
       "      <td>-0.032080</td>\n",
       "      <td>0.008327</td>\n",
       "      <td>-0.074470</td>\n",
       "      <td>1.000000</td>\n",
       "      <td>0.196835</td>\n",
       "      <td>0.184519</td>\n",
       "      <td>-0.243182</td>\n",
       "      <td>0.145197</td>\n",
       "      <td>0.041444</td>\n",
       "    </tr>\n",
       "    <tr>\n",
       "      <th>Stroke</th>\n",
       "      <td>0.062786</td>\n",
       "      <td>0.019840</td>\n",
       "      <td>-0.003091</td>\n",
       "      <td>0.061226</td>\n",
       "      <td>-0.019858</td>\n",
       "      <td>0.011900</td>\n",
       "      <td>-0.064550</td>\n",
       "      <td>0.196835</td>\n",
       "      <td>1.000000</td>\n",
       "      <td>0.109603</td>\n",
       "      <td>-0.168090</td>\n",
       "      <td>0.091167</td>\n",
       "      <td>0.038866</td>\n",
       "    </tr>\n",
       "    <tr>\n",
       "      <th>Diabetic</th>\n",
       "      <td>0.085507</td>\n",
       "      <td>0.211452</td>\n",
       "      <td>0.019574</td>\n",
       "      <td>0.059318</td>\n",
       "      <td>-0.059313</td>\n",
       "      <td>0.005100</td>\n",
       "      <td>-0.105880</td>\n",
       "      <td>0.184519</td>\n",
       "      <td>0.109603</td>\n",
       "      <td>1.000000</td>\n",
       "      <td>-0.284155</td>\n",
       "      <td>0.153639</td>\n",
       "      <td>0.047653</td>\n",
       "    </tr>\n",
       "    <tr>\n",
       "      <th>GenHealth</th>\n",
       "      <td>-0.073393</td>\n",
       "      <td>-0.230434</td>\n",
       "      <td>0.025947</td>\n",
       "      <td>-0.174717</td>\n",
       "      <td>0.029780</td>\n",
       "      <td>0.063071</td>\n",
       "      <td>0.261051</td>\n",
       "      <td>-0.243182</td>\n",
       "      <td>-0.168090</td>\n",
       "      <td>-0.284155</td>\n",
       "      <td>1.000000</td>\n",
       "      <td>-0.174642</td>\n",
       "      <td>-0.137342</td>\n",
       "    </tr>\n",
       "    <tr>\n",
       "      <th>KidneyDisease</th>\n",
       "      <td>0.055458</td>\n",
       "      <td>0.050792</td>\n",
       "      <td>-0.009084</td>\n",
       "      <td>0.034920</td>\n",
       "      <td>-0.028280</td>\n",
       "      <td>0.006238</td>\n",
       "      <td>-0.061307</td>\n",
       "      <td>0.145197</td>\n",
       "      <td>0.091167</td>\n",
       "      <td>0.153639</td>\n",
       "      <td>-0.174642</td>\n",
       "      <td>1.000000</td>\n",
       "      <td>0.039707</td>\n",
       "    </tr>\n",
       "    <tr>\n",
       "      <th>Asthma</th>\n",
       "      <td>-0.021325</td>\n",
       "      <td>0.092211</td>\n",
       "      <td>-0.069191</td>\n",
       "      <td>0.024149</td>\n",
       "      <td>-0.002202</td>\n",
       "      <td>-0.048245</td>\n",
       "      <td>-0.075911</td>\n",
       "      <td>0.041444</td>\n",
       "      <td>0.038866</td>\n",
       "      <td>0.047653</td>\n",
       "      <td>-0.137342</td>\n",
       "      <td>0.039707</td>\n",
       "      <td>1.000000</td>\n",
       "    </tr>\n",
       "  </tbody>\n",
       "</table>\n",
       "</div>"
      ],
      "text/plain": [
       "                    Age       BMI       Sex   Smoking   Alcohol  SleepTime  \\\n",
       "Age            1.000000 -0.067122 -0.020086 -0.007067 -0.040977   0.076808   \n",
       "BMI           -0.067122  1.000000  0.027203  0.023216 -0.038646  -0.051663   \n",
       "Sex           -0.020086  0.027203  1.000000  0.085052  0.004200  -0.015704   \n",
       "Smoking       -0.007067  0.023216  0.085052  1.000000  0.111768  -0.030336   \n",
       "Alcohol       -0.040977 -0.038646  0.004200  0.111768  1.000000  -0.005065   \n",
       "SleepTime      0.076808 -0.051663 -0.015704 -0.030336 -0.005065   1.000000   \n",
       "LifeStyle      0.014859 -0.139085  0.019096 -0.104355 -0.001715   0.443540   \n",
       "HeartDisease   0.111750  0.051628  0.070040  0.107764 -0.032080   0.008327   \n",
       "Stroke         0.062786  0.019840 -0.003091  0.061226 -0.019858   0.011900   \n",
       "Diabetic       0.085507  0.211452  0.019574  0.059318 -0.059313   0.005100   \n",
       "GenHealth     -0.073393 -0.230434  0.025947 -0.174717  0.029780   0.063071   \n",
       "KidneyDisease  0.055458  0.050792 -0.009084  0.034920 -0.028280   0.006238   \n",
       "Asthma        -0.021325  0.092211 -0.069191  0.024149 -0.002202  -0.048245   \n",
       "\n",
       "               LifeStyle  HeartDisease    Stroke  Diabetic  GenHealth  \\\n",
       "Age             0.014859      0.111750  0.062786  0.085507  -0.073393   \n",
       "BMI            -0.139085      0.051628  0.019840  0.211452  -0.230434   \n",
       "Sex             0.019096      0.070040 -0.003091  0.019574   0.025947   \n",
       "Smoking        -0.104355      0.107764  0.061226  0.059318  -0.174717   \n",
       "Alcohol        -0.001715     -0.032080 -0.019858 -0.059313   0.029780   \n",
       "SleepTime       0.443540      0.008327  0.011900  0.005100   0.063071   \n",
       "LifeStyle       1.000000     -0.074470 -0.064550 -0.105880   0.261051   \n",
       "HeartDisease   -0.074470      1.000000  0.196835  0.184519  -0.243182   \n",
       "Stroke         -0.064550      0.196835  1.000000  0.109603  -0.168090   \n",
       "Diabetic       -0.105880      0.184519  0.109603  1.000000  -0.284155   \n",
       "GenHealth       0.261051     -0.243182 -0.168090 -0.284155   1.000000   \n",
       "KidneyDisease  -0.061307      0.145197  0.091167  0.153639  -0.174642   \n",
       "Asthma         -0.075911      0.041444  0.038866  0.047653  -0.137342   \n",
       "\n",
       "               KidneyDisease    Asthma  \n",
       "Age                 0.055458 -0.021325  \n",
       "BMI                 0.050792  0.092211  \n",
       "Sex                -0.009084 -0.069191  \n",
       "Smoking             0.034920  0.024149  \n",
       "Alcohol            -0.028280 -0.002202  \n",
       "SleepTime           0.006238 -0.048245  \n",
       "LifeStyle          -0.061307 -0.075911  \n",
       "HeartDisease        0.145197  0.041444  \n",
       "Stroke              0.091167  0.038866  \n",
       "Diabetic            0.153639  0.047653  \n",
       "GenHealth          -0.174642 -0.137342  \n",
       "KidneyDisease       1.000000  0.039707  \n",
       "Asthma              0.039707  1.000000  "
      ]
     },
     "execution_count": 39,
     "metadata": {},
     "output_type": "execute_result"
    }
   ],
   "source": [
    "correlation = tbckills_corr.corr()\n",
    "correlation"
   ]
  },
  {
   "cell_type": "code",
   "execution_count": 40,
   "id": "be016f51",
   "metadata": {
    "scrolled": false
   },
   "outputs": [
    {
     "data": {
      "image/png": "[encoded data removed]",
      "text/plain": [
       "<Figure size 1600x1000 with 2 Axes>"
      ]
     },
     "metadata": {},
     "output_type": "display_data"
    }
   ],
   "source": [
    "plt.figure(figsize=(16, 10))\n",
    "\n",
    "heatmap = sns.heatmap(tbckills_corr.corr(), vmin=-1, vmax=1, annot=True)\n",
    "heatmap.set_title('Correlation Heatmap', fontdict={'fontsize':12}, pad=12);"
   ]
  },
  {
   "cell_type": "markdown",
   "id": "0932b603",
   "metadata": {},
   "source": [
    "**Results:**\n",
    "Using the correlation matrix, it can be seen that there is **no significant correlations** between the variables being studied (Except for the correlation coefficient of 0.44 between Sleep Time and Life Style, but this is because Life Style is built upon Sleep Time)\n",
    "\n",
    "- **Life Style and General Health** are slight positively correlated with a coefficient of +0.26, which means the higher quality of life style, the better one's general health, to a certain extent.\n",
    "- **BMI and Diabeti**c are slight positively correlated with a coefficient of +0.21, which is easy to understand since the higher the BMI, the higher risk of having obesity and hence, the higher risk of have diabetes.\n",
    "- **BMI and General Health** are slight negatively correlated with a coefficient of -0.23. However, whereas it is common knowledge that high BMI indicates high body fatness, which is not good for one's general health, it does not necessarily mean that a low BMI would lead to low index of general health.\n",
    "- **Heart Disease and Stroke** are slightly positively correlated with a coefficient of +0.2\n",
    "- **Heart Disease, Kidney Disease and Diabetic** all share very slight correlations with each other.\n",
    "\n",
    "In general, these figures can be used to propose hypotheses for further studies, but do not give specific answers because the correlations received are weak. It would be more precise to use Pearson correlation if the dependent variables of the chosen dataset were continuous ones, for example, the number of strokes or indices of specific cardiovascular illnesses. However, since 7/8 of our dependent variables are binary, the received results aren't enough to draw concrete conclusions just yet. "
   ]
  },
  {
   "cell_type": "markdown",
   "id": "88991b90",
   "metadata": {},
   "source": [
    "# Stage 5: Visualization"
   ]
  },
  {
   "cell_type": "markdown",
   "id": "011ea3d6",
   "metadata": {},
   "source": [
    "**Visualization 1**: Box and whisker plot of **BMI and Heart Disease**\n"
   ]
  },
  {
   "cell_type": "code",
   "execution_count": 41,
   "id": "31d61503",
   "metadata": {},
   "outputs": [
    {
     "data": {
      "image/png": "[encoded data removed]",
      "text/plain": [
       "<Figure size 800x600 with 1 Axes>"
      ]
     },
     "metadata": {},
     "output_type": "display_data"
    }
   ],
   "source": [
    "fig, ax = plt.subplots(figsize=(8, 6))\n",
    "\n",
    "BMI_HD = sns.boxplot(x='HeartDisease', y='BMI', \n",
    "                     data=tbckills_corr,\n",
    "                     palette = ['#a1ad80', '#638a65'],\n",
    "                     width=0.8)\n",
    "\n",
    "\n",
    "BMI_HD.axes.set_title(\"BMI and Heart Disease\", fontsize=16, fontweight = 'bold')\n",
    "BMI_HD.set_xlabel(\"Heart Disease\", fontsize=12, fontweight = 'bold')\n",
    "BMI_HD.set_ylabel(\"BMI\", fontsize=12, fontweight = 'bold')\n",
    "\n",
    "medians1 = tbckills_corr.groupby(['HeartDisease'])['BMI'].median()\n",
    "vertical_offset1 = tbckills_corr['HeartDisease'].median() * 0.05\n",
    "\n",
    "for xtick in BMI_HD.get_xticks():\n",
    "    BMI_HD.text(xtick,medians1[xtick] + vertical_offset1,medians1[xtick], \n",
    "            horizontalalignment='center',size='medium',color='white',weight='semibold')"
   ]
  },
  {
   "cell_type": "markdown",
   "id": "312d47e9",
   "metadata": {},
   "source": [
    "**Comments**:\n",
    " - In our dataset, BMI of people who 'ARE DIAGNOSED' with heart disease are **sligtly higher** than those of people who 'ARE NOT DIAGNOSED' with heart disease:\n",
    "    + Half the number of participants who ARE NOT DIAGNOSED with heart disease have a BMI of 27.26\n",
    "    + Half the number of participants who ARE DIAGNOSED with heart disease have a BMI of 28.34\n",
    " - Result: In general, people who have heart disease may have a higher BMI than those who do not have heart disease.\n",
    " - Hypothesis: **Higher BMI (which means higher body fat) might cause higher risk of Heart Disease**."
   ]
  },
  {
   "cell_type": "markdown",
   "id": "45d30355",
   "metadata": {},
   "source": [
    "**Visualization 2**: Box and whisker plot of **BMI and Diabetic**"
   ]
  },
  {
   "cell_type": "code",
   "execution_count": 42,
   "id": "ab0d2293",
   "metadata": {},
   "outputs": [
    {
     "data": {
      "image/png": "[encoded data removed]",
      "text/plain": [
       "<Figure size 800x600 with 1 Axes>"
      ]
     },
     "metadata": {},
     "output_type": "display_data"
    }
   ],
   "source": [
    "fig, ax = plt.subplots(figsize=(8, 6))\n",
    "\n",
    "BMI_Db = sns.boxplot(x='Diabetic', y='BMI', \n",
    "                     palette = ['pink', '#a4e2eb'],\n",
    "                     width=0.8,\n",
    "                     data=tbckills_corr)\n",
    "\n",
    "BMI_Db.axes.set_title(\"BMI and Diabete\", fontsize=16, fontweight = 'bold')\n",
    "BMI_Db.set_xlabel(\"Diabete\", fontsize=12, fontweight = 'bold')\n",
    "BMI_Db.set_ylabel(\"BMI\", fontsize=12, fontweight = 'bold')\n",
    "\n",
    "medians2 = tbckills_corr.groupby(['Diabetic'])['BMI'].median()\n",
    "vertical_offset2 = tbckills_corr['Diabetic'].median() * 0.05\n",
    "\n",
    "for xtick in BMI_Db.get_xticks():\n",
    "    BMI_Db.text(xtick, medians2[xtick] + vertical_offset2, medians2[xtick], \n",
    "            horizontalalignment='center',size='medium',color='black',weight='semibold')"
   ]
  },
  {
   "cell_type": "markdown",
   "id": "37892981",
   "metadata": {},
   "source": [
    "**Comments**:\n",
    " - In our dataset, BMI of people who 'ARE DIAGNOSED' with diabete are **significantly higher** than those of people who 'ARE NOT DIAGNOSED' with diabete:\n",
    "    + Half the number of participants who ARE NOT DIAGNOSED with diabete have a BMI of 26.63\n",
    "    + Half the number of participants who ARE DIAGNOSED with diabete have a BMI of 30.41\n",
    " - Result: In general, people who have diabete have a higher BMI than those who do not have diabete.  \n",
    " - Hypothesis: **Higher BMI (which means higher body fat) means higher risk of Diabete**"
   ]
  },
  {
   "cell_type": "markdown",
   "id": "e6e122fe",
   "metadata": {},
   "source": [
    "**Visualization 3**: Box and whisker plot of **BMI and General Health**\n"
   ]
  },
  {
   "cell_type": "code",
   "execution_count": 43,
   "id": "11b6746b",
   "metadata": {},
   "outputs": [
    {
     "data": {
      "text/plain": [
       "Text(0, 0.5, 'BMI')"
      ]
     },
     "execution_count": 43,
     "metadata": {},
     "output_type": "execute_result"
    },
    {
     "data": {
      "image/png": "[encoded data removed]",
      "text/plain": [
       "<Figure size 800x600 with 1 Axes>"
      ]
     },
     "metadata": {},
     "output_type": "display_data"
    }
   ],
   "source": [
    "fig, ax = plt.subplots(figsize=(8, 6))\n",
    "\n",
    "colors = sns.color_palette(\"pastel\")\n",
    "\n",
    "BMI_GenH = sns.boxplot(x='GenHealth', y='BMI', \n",
    "                       data=tbckills_corr, \n",
    "                       palette=colors, \n",
    "                       showmeans=True,\n",
    "                       meanprops={\"marker\": \"+\", \"markeredgecolor\": \"black\",\"markersize\": \"10\"}, \n",
    "                       width=0.8,\n",
    "                       linewidth=2.4)\n",
    "\n",
    "BMI_GenH.axes.set_title(\"General Health vs BMI\", fontsize=16, fontweight = 'bold')\n",
    "BMI_GenH.set_xlabel(\"General Health Ranking\", fontsize=14, fontweight = 'bold')\n",
    "BMI_GenH.set_ylabel(\"BMI\", fontsize=14, fontweight = 'bold')"
   ]
  },
  {
   "cell_type": "markdown",
   "id": "759d02ac",
   "metadata": {},
   "source": [
    "**Comments**:\n",
    " - In our dataset: BMI of participants experience downward trend as the level of General Health go up.\n",
    " - Result: In general, people who have a high level of general health have a lower BMI than the others.\n",
    " - Hypothesis: **Lower BMI (which means lower body fat) means higher level of general health**"
   ]
  },
  {
   "cell_type": "markdown",
   "id": "87af1ffd",
   "metadata": {},
   "source": [
    "**Visualization 4**: Box and whisker plot of **BMI, Sex, Heart Disease and Diabetic**\n",
    "\n"
   ]
  },
  {
   "cell_type": "code",
   "execution_count": 44,
   "id": "70d4ffb4",
   "metadata": {
    "scrolled": true
   },
   "outputs": [
    {
     "data": {
      "text/html": [
       "<div>\n",
       "<style scoped>\n",
       "    .dataframe tbody tr th:only-of-type {\n",
       "        vertical-align: middle;\n",
       "    }\n",
       "\n",
       "    .dataframe tbody tr th {\n",
       "        vertical-align: top;\n",
       "    }\n",
       "\n",
       "    .dataframe thead th {\n",
       "        text-align: right;\n",
       "    }\n",
       "</style>\n",
       "<table border=\"1\" class=\"dataframe\">\n",
       "  <thead>\n",
       "    <tr style=\"text-align: right;\">\n",
       "      <th></th>\n",
       "      <th>BMI</th>\n",
       "      <th>HeartDisease</th>\n",
       "      <th>Diabetic</th>\n",
       "      <th>Sex</th>\n",
       "      <th>Age</th>\n",
       "      <th>Illness</th>\n",
       "    </tr>\n",
       "  </thead>\n",
       "  <tbody>\n",
       "    <tr>\n",
       "      <th>5</th>\n",
       "      <td>28</td>\n",
       "      <td>1</td>\n",
       "      <td>0</td>\n",
       "      <td>0</td>\n",
       "      <td>5</td>\n",
       "      <td>Heart</td>\n",
       "    </tr>\n",
       "    <tr>\n",
       "      <th>8</th>\n",
       "      <td>26</td>\n",
       "      <td>0</td>\n",
       "      <td>1</td>\n",
       "      <td>0</td>\n",
       "      <td>6</td>\n",
       "      <td>Diabete</td>\n",
       "    </tr>\n",
       "    <tr>\n",
       "      <th>17</th>\n",
       "      <td>22</td>\n",
       "      <td>0</td>\n",
       "      <td>1</td>\n",
       "      <td>1</td>\n",
       "      <td>5</td>\n",
       "      <td>Diabete</td>\n",
       "    </tr>\n",
       "    <tr>\n",
       "      <th>20</th>\n",
       "      <td>21</td>\n",
       "      <td>0</td>\n",
       "      <td>1</td>\n",
       "      <td>0</td>\n",
       "      <td>6</td>\n",
       "      <td>Diabete</td>\n",
       "    </tr>\n",
       "    <tr>\n",
       "      <th>44</th>\n",
       "      <td>30</td>\n",
       "      <td>0</td>\n",
       "      <td>1</td>\n",
       "      <td>1</td>\n",
       "      <td>4</td>\n",
       "      <td>Diabete</td>\n",
       "    </tr>\n",
       "    <tr>\n",
       "      <th>45</th>\n",
       "      <td>20</td>\n",
       "      <td>1</td>\n",
       "      <td>0</td>\n",
       "      <td>0</td>\n",
       "      <td>5</td>\n",
       "      <td>Heart</td>\n",
       "    </tr>\n",
       "    <tr>\n",
       "      <th>77</th>\n",
       "      <td>34</td>\n",
       "      <td>1</td>\n",
       "      <td>0</td>\n",
       "      <td>0</td>\n",
       "      <td>4</td>\n",
       "      <td>Heart</td>\n",
       "    </tr>\n",
       "    <tr>\n",
       "      <th>100</th>\n",
       "      <td>24</td>\n",
       "      <td>0</td>\n",
       "      <td>1</td>\n",
       "      <td>0</td>\n",
       "      <td>6</td>\n",
       "      <td>Diabete</td>\n",
       "    </tr>\n",
       "    <tr>\n",
       "      <th>101</th>\n",
       "      <td>24</td>\n",
       "      <td>1</td>\n",
       "      <td>0</td>\n",
       "      <td>1</td>\n",
       "      <td>5</td>\n",
       "      <td>Heart</td>\n",
       "    </tr>\n",
       "    <tr>\n",
       "      <th>105</th>\n",
       "      <td>58</td>\n",
       "      <td>0</td>\n",
       "      <td>1</td>\n",
       "      <td>1</td>\n",
       "      <td>5</td>\n",
       "      <td>Diabete</td>\n",
       "    </tr>\n",
       "  </tbody>\n",
       "</table>\n",
       "</div>"
      ],
      "text/plain": [
       "     BMI  HeartDisease  Diabetic  Sex  Age  Illness\n",
       "5     28             1         0    0    5    Heart\n",
       "8     26             0         1    0    6  Diabete\n",
       "17    22             0         1    1    5  Diabete\n",
       "20    21             0         1    0    6  Diabete\n",
       "44    30             0         1    1    4  Diabete\n",
       "45    20             1         0    0    5    Heart\n",
       "77    34             1         0    0    4    Heart\n",
       "100   24             0         1    0    6  Diabete\n",
       "101   24             1         0    1    5    Heart\n",
       "105   58             0         1    1    5  Diabete"
      ]
     },
     "execution_count": 44,
     "metadata": {},
     "output_type": "execute_result"
    }
   ],
   "source": [
    "# Create a new dataframe\n",
    "boxplot_mix = tbckills_corr[['BMI', 'HeartDisease', 'Diabetic', 'Sex', 'Age']]\n",
    "\n",
    "# Choose only participants who say Yes to Heart Disease or/and Diabete\n",
    "# Create a new column combining Heart Disease + Diabetic\n",
    "def Disease(x):\n",
    "    if x['HeartDisease'] == 1 and x['Diabetic'] == 0:\n",
    "        return 'Heart'\n",
    "    elif x['Diabetic'] == 1 and x['HeartDisease'] == 0:\n",
    "        return 'Diabete'\n",
    "    elif x['HeartDisease'] == 1 and x['Diabetic'] == 1:\n",
    "        return 'Both'\n",
    "    else:\n",
    "        return 'None'\n",
    "\n",
    "boxplot_mix = boxplot_mix.assign(Illness = boxplot_mix.apply(Disease, axis = 1))\n",
    "\n",
    "# Delete participants who say No to both Heart Disease and Diabete\n",
    "boxplot_mix.drop(boxplot_mix[boxplot_mix.Illness == 'None'].index, inplace=True)\n",
    "\n",
    "boxplot_mix.head(10)"
   ]
  },
  {
   "cell_type": "code",
   "execution_count": 45,
   "id": "12819375",
   "metadata": {},
   "outputs": [],
   "source": [
    "# Transfrom values in Sex\n",
    "boxplot_mix['Sex'] = boxplot_mix['Sex'].apply(lambda x: (x == 1 and 'Male') or 'Female')\n"
   ]
  },
  {
   "cell_type": "code",
   "execution_count": 46,
   "id": "144e701b",
   "metadata": {
    "scrolled": false
   },
   "outputs": [
    {
     "data": {
      "text/plain": [
       "Text(0.5, 1.0, 'Box and Whisker: Comparison of Male and Female for different types of illnesses based on BMI')"
      ]
     },
     "execution_count": 46,
     "metadata": {},
     "output_type": "execute_result"
    },
    {
     "data": {
      "image/png": "[encoded data removed]",
      "text/plain": [
       "<Figure size 1200x800 with 1 Axes>"
      ]
     },
     "metadata": {},
     "output_type": "display_data"
    }
   ],
   "source": [
    "# Build the plot\n",
    "fig, ax = plt.subplots(figsize=(12, 8))\n",
    "\n",
    "bp1 = sns.boxplot(x=\"Illness\", y=\"BMI\",\n",
    "            hue = 'Sex', \n",
    "            palette= sns.color_palette(\"pastel\"),\n",
    "            data=boxplot_mix,\n",
    "            linewidth=2)\n",
    "\n",
    "bp1.set_xlabel(\"Illness\", fontsize = 15, fontweight = 'bold')\n",
    "bp1.set_ylabel(\"BMI\", fontsize = 15, fontweight = 'bold')\n",
    "bp1.axes.set_title(\"Box and Whisker: Comparison of Male and Female for different types of illnesses based on BMI\", fontsize=16, fontweight = 'bold')\n",
    "\n",
    "\n"
   ]
  },
  {
   "cell_type": "markdown",
   "id": "37fe0453",
   "metadata": {},
   "source": [
    "**Comments**:\n",
    "- Result: On average, there is **no significant difference** between BMI index of men and women for diabete, heart disease or both.\n",
    "\n",
    "- Hypothesis: **Heart disease or/and Diabete can be diagnosed for any gender**"
   ]
  },
  {
   "cell_type": "markdown",
   "id": "75bb8c72",
   "metadata": {},
   "source": [
    "**Visualization 5**: Box and whisker plot of **BMI, Age, Heart Disease and Diabetic**"
   ]
  },
  {
   "cell_type": "code",
   "execution_count": 47,
   "id": "db781d17",
   "metadata": {},
   "outputs": [
    {
     "data": {
      "text/html": [
       "<div>\n",
       "<style scoped>\n",
       "    .dataframe tbody tr th:only-of-type {\n",
       "        vertical-align: middle;\n",
       "    }\n",
       "\n",
       "    .dataframe tbody tr th {\n",
       "        vertical-align: top;\n",
       "    }\n",
       "\n",
       "    .dataframe thead th {\n",
       "        text-align: right;\n",
       "    }\n",
       "</style>\n",
       "<table border=\"1\" class=\"dataframe\">\n",
       "  <thead>\n",
       "    <tr style=\"text-align: right;\">\n",
       "      <th></th>\n",
       "      <th>BMI</th>\n",
       "      <th>HeartDisease</th>\n",
       "      <th>Diabetic</th>\n",
       "      <th>Sex</th>\n",
       "      <th>Age</th>\n",
       "      <th>Illness</th>\n",
       "    </tr>\n",
       "  </thead>\n",
       "  <tbody>\n",
       "    <tr>\n",
       "      <th>5</th>\n",
       "      <td>28</td>\n",
       "      <td>1</td>\n",
       "      <td>0</td>\n",
       "      <td>Female</td>\n",
       "      <td>65-79</td>\n",
       "      <td>Heart</td>\n",
       "    </tr>\n",
       "    <tr>\n",
       "      <th>8</th>\n",
       "      <td>26</td>\n",
       "      <td>0</td>\n",
       "      <td>1</td>\n",
       "      <td>Female</td>\n",
       "      <td>80+</td>\n",
       "      <td>Diabete</td>\n",
       "    </tr>\n",
       "    <tr>\n",
       "      <th>17</th>\n",
       "      <td>22</td>\n",
       "      <td>0</td>\n",
       "      <td>1</td>\n",
       "      <td>Male</td>\n",
       "      <td>65-79</td>\n",
       "      <td>Diabete</td>\n",
       "    </tr>\n",
       "    <tr>\n",
       "      <th>20</th>\n",
       "      <td>21</td>\n",
       "      <td>0</td>\n",
       "      <td>1</td>\n",
       "      <td>Female</td>\n",
       "      <td>80+</td>\n",
       "      <td>Diabete</td>\n",
       "    </tr>\n",
       "    <tr>\n",
       "      <th>44</th>\n",
       "      <td>30</td>\n",
       "      <td>0</td>\n",
       "      <td>1</td>\n",
       "      <td>Male</td>\n",
       "      <td>55-64</td>\n",
       "      <td>Diabete</td>\n",
       "    </tr>\n",
       "  </tbody>\n",
       "</table>\n",
       "</div>"
      ],
      "text/plain": [
       "    BMI  HeartDisease  Diabetic     Sex    Age  Illness\n",
       "5    28             1         0  Female  65-79    Heart\n",
       "8    26             0         1  Female    80+  Diabete\n",
       "17   22             0         1    Male  65-79  Diabete\n",
       "20   21             0         1  Female    80+  Diabete\n",
       "44   30             0         1    Male  55-64  Diabete"
      ]
     },
     "execution_count": 47,
     "metadata": {},
     "output_type": "execute_result"
    }
   ],
   "source": [
    "# Transfrom values in Age\n",
    "\n",
    "boxplot_mix['Age'].replace({6:'80+', 5:'65-79', 4:'55-64', \n",
    "                            3:'45-54', 2:'35-44', 1:'25-34'}, inplace=True)\n",
    "boxplot_mix.head(5)\n"
   ]
  },
  {
   "cell_type": "code",
   "execution_count": 48,
   "id": "cf532f70",
   "metadata": {
    "scrolled": false
   },
   "outputs": [
    {
     "data": {
      "text/plain": [
       "Text(0.5, 1.0, 'Box and Whisker: Comparison between age groups for different types of illnesses based on BMI')"
      ]
     },
     "execution_count": 48,
     "metadata": {},
     "output_type": "execute_result"
    },
    {
     "data": {
      "image/png": "[encoded data removed]",
      "text/plain": [
       "<Figure size 1200x800 with 1 Axes>"
      ]
     },
     "metadata": {},
     "output_type": "display_data"
    }
   ],
   "source": [
    "\n",
    "fig, ax = plt.subplots(figsize=(12, 8))\n",
    "\n",
    "order2 = ['25-34', '35-44', '45-54', '55-64', '65-79', '80+']\n",
    "\n",
    "bp2 = sns.boxplot(x=\"Illness\", y=\"BMI\",\n",
    "            hue = 'Age',\n",
    "            hue_order = order2,\n",
    "            palette=sns.color_palette(\"rocket\"),\n",
    "            showmeans=True,\n",
    "            meanprops={\"marker\": \"+\", \"markeredgecolor\": \"white\",\"markersize\": \"10\"},\n",
    "            data=boxplot_mix,\n",
    "            linewidth=2)\n",
    "\n",
    "bp2.set_xlabel(\"Illness\", fontsize = 15, fontweight = 'bold')\n",
    "bp2.set_ylabel(\"BMI\", fontsize = 15, fontweight = 'bold')\n",
    "bp2.axes.set_title(\"Box and Whisker: Comparison between age groups for different types of illnesses based on BMI\", fontsize=16, fontweight = 'bold')\n",
    "\n"
   ]
  },
  {
   "cell_type": "markdown",
   "id": "d40f87c5",
   "metadata": {},
   "source": [
    "**Comments**:\n",
    "- Result: On average, all participants who have diabete and/or heart disease have their BMI > 25, which means most of them are overweight and/or obese. The younger half of participants (25-54 years old) have more BMI (body fat) than the older half.\n",
    "- Hypothesis: **Heart disease or/and Diabete can be diagnosed at any age, but young people are more likely to have diabete(s)**"
   ]
  },
  {
   "cell_type": "markdown",
   "id": "fbc9d25c",
   "metadata": {},
   "source": [
    "**Visualization 6**: Grouped bar chart of Heart Disease, Diabetic, Kidney Disease, Stroke to compare between Male & Female\n",
    "\n",
    "**Step 1**: Count values. (For example: male_heart = the number of 'male' participants who have heart disease)\n",
    "\n",
    "**Step 2**: Create a dataframe of necessary variables\n",
    "\n",
    "**Step 3**: Export into Excel for better visualization\n",
    "\n",
    "**Step 4**: Excel"
   ]
  },
  {
   "cell_type": "code",
   "execution_count": 49,
   "id": "ef5918d3",
   "metadata": {},
   "outputs": [],
   "source": [
    "# Step 1\n",
    "male_heart = tbckills_corr[(tbckills_corr.HeartDisease == 1) & (tbckills_corr.Sex ==1)].shape[0]\n",
    "male_db = tbckills_corr[(tbckills_corr.Diabetic == 1) & (tbckills_corr.Sex ==1)].shape[0]\n",
    "male_kidney = tbckills_corr[(tbckills_corr.KidneyDisease == 1) & (tbckills_corr.Sex ==1)].shape[0]\n",
    "male_stroke = tbckills_corr[(tbckills_corr.Stroke == 1) & (tbckills_corr.Sex ==1)].shape[0]\n",
    "\n",
    "female_heart = tbckills_corr[(tbckills_corr.HeartDisease == 1) & (tbckills_corr.Sex == 0)].shape[0]\n",
    "female_db = tbckills_corr[(tbckills_corr.Diabetic == 1) & (tbckills_corr.Sex == 0)].shape[0]\n",
    "female_kidney = tbckills_corr[(tbckills_corr.KidneyDisease == 1) & (tbckills_corr.Sex == 0)].shape[0]\n",
    "female_stroke = tbckills_corr[(tbckills_corr.Stroke == 1) & (tbckills_corr.Sex == 0)].shape[0]\n"
   ]
  },
  {
   "cell_type": "code",
   "execution_count": 50,
   "id": "99e50851",
   "metadata": {},
   "outputs": [
    {
     "data": {
      "text/html": [
       "<div>\n",
       "<style scoped>\n",
       "    .dataframe tbody tr th:only-of-type {\n",
       "        vertical-align: middle;\n",
       "    }\n",
       "\n",
       "    .dataframe tbody tr th {\n",
       "        vertical-align: top;\n",
       "    }\n",
       "\n",
       "    .dataframe thead th {\n",
       "        text-align: right;\n",
       "    }\n",
       "</style>\n",
       "<table border=\"1\" class=\"dataframe\">\n",
       "  <thead>\n",
       "    <tr style=\"text-align: right;\">\n",
       "      <th></th>\n",
       "      <th>Male</th>\n",
       "      <th>Female</th>\n",
       "    </tr>\n",
       "  </thead>\n",
       "  <tbody>\n",
       "    <tr>\n",
       "      <th>Heart</th>\n",
       "      <td>16139</td>\n",
       "      <td>11234</td>\n",
       "    </tr>\n",
       "    <tr>\n",
       "      <th>Kidney</th>\n",
       "      <td>5325</td>\n",
       "      <td>6454</td>\n",
       "    </tr>\n",
       "    <tr>\n",
       "      <th>Diabete</th>\n",
       "      <td>3124</td>\n",
       "      <td>3657</td>\n",
       "    </tr>\n",
       "    <tr>\n",
       "      <th>Stroke</th>\n",
       "      <td>5642</td>\n",
       "      <td>6427</td>\n",
       "    </tr>\n",
       "  </tbody>\n",
       "</table>\n",
       "</div>"
      ],
      "text/plain": [
       "          Male  Female\n",
       "Heart    16139   11234\n",
       "Kidney    5325    6454\n",
       "Diabete   3124    3657\n",
       "Stroke    5642    6427"
      ]
     },
     "execution_count": 50,
     "metadata": {},
     "output_type": "execute_result"
    }
   ],
   "source": [
    "# Step 2\n",
    "\n",
    "cols6 = {'Male': [male_heart, male_kidney, male_db, male_stroke],\n",
    "         'Female': [female_heart, female_kidney, female_db, female_stroke]}\n",
    "    \n",
    "vs6 = pd.DataFrame(cols6, index = ['Heart', 'Kidney', 'Diabete', 'Stroke'])\n",
    "vs6\n"
   ]
  },
  {
   "cell_type": "code",
   "execution_count": 51,
   "id": "68d36e58",
   "metadata": {},
   "outputs": [
    {
     "name": "stderr",
     "output_type": "stream",
     "text": [
      "C:\\Users\\thutr\\anaconda3\\Lib\\site-packages\\pandas\\util\\_decorators.py:211: FutureWarning: the 'encoding' keyword is deprecated and will be removed in a future version. Please take steps to stop the use of 'encoding'\n",
      "  return func(*args, **kwargs)\n",
      "C:\\Users\\thutr\\AppData\\Local\\Temp\\ipykernel_19948\\417226908.py:6: FutureWarning: save is not part of the public API, usage can give unexpected results and will be removed in a future version\n",
      "  writer6.save()\n"
     ]
    }
   ],
   "source": [
    "# Step 3\n",
    "\n",
    "from pandas import ExcelWriter\n",
    "writer6 = ExcelWriter('Фам_Visualization6.xlsx')\n",
    "vs6.to_excel(writer6, encoding='utf8', index = True)\n",
    "writer6.save()\n",
    "\n"
   ]
  },
  {
   "cell_type": "code",
   "execution_count": 52,
   "id": "1f0af27f",
   "metadata": {},
   "outputs": [
    {
     "data": {
      "text/html": [
       "<img src=\"Vs6.png\" width=\"600\" height=\"600\"/>"
      ],
      "text/plain": [
       "<IPython.core.display.Image object>"
      ]
     },
     "execution_count": 52,
     "metadata": {},
     "output_type": "execute_result"
    }
   ],
   "source": [
    "# Step 4\n",
    "\n",
    "from IPython.display import Image\n",
    "  \n",
    "Image(url=\"Vs6.png\", width=600, height=600)"
   ]
  },
  {
   "cell_type": "markdown",
   "id": "fb890152",
   "metadata": {},
   "source": [
    "**Comments**:\n",
    "- Disclaimer: The original dataset contain a quite equal number of men and women(which is good)\n",
    "- Result: \n",
    "    + Stroke, Diabete, Kidney: The difference in the number of women and men that are diagnosed with these diseases is not significant.\n",
    "    + Heart: More men have heart disease than women.\n",
    "- Hypothesis: **Heart disease might more easily happen to men than to women**"
   ]
  },
  {
   "cell_type": "markdown",
   "id": "1d9b282a",
   "metadata": {},
   "source": [
    "**Visualization 7**: Grouped bar chart of **Heart Disease, Diabetic** to compare between **BMI groups**\n",
    "\n",
    "**Step 1**: Create BMI groups from BMI + Count values. (For example: weightu_heart = the number of 'underweight' participants who have heart disease)\n",
    "\n",
    "**Step 2**: Create a dataframe of necessary variables\n",
    "\n",
    "**Step 3**: Export into Excel for better visualization\n",
    "\n",
    "**Step 4**: Excel"
   ]
  },
  {
   "cell_type": "code",
   "execution_count": 53,
   "id": "3fbb4fc4",
   "metadata": {},
   "outputs": [
    {
     "data": {
      "text/html": [
       "<div>\n",
       "<style scoped>\n",
       "    .dataframe tbody tr th:only-of-type {\n",
       "        vertical-align: middle;\n",
       "    }\n",
       "\n",
       "    .dataframe tbody tr th {\n",
       "        vertical-align: top;\n",
       "    }\n",
       "\n",
       "    .dataframe thead th {\n",
       "        text-align: right;\n",
       "    }\n",
       "</style>\n",
       "<table border=\"1\" class=\"dataframe\">\n",
       "  <thead>\n",
       "    <tr style=\"text-align: right;\">\n",
       "      <th></th>\n",
       "      <th>BMI</th>\n",
       "      <th>BMIGroup</th>\n",
       "    </tr>\n",
       "  </thead>\n",
       "  <tbody>\n",
       "    <tr>\n",
       "      <th>0</th>\n",
       "      <td>16</td>\n",
       "      <td>Underweight</td>\n",
       "    </tr>\n",
       "    <tr>\n",
       "      <th>1</th>\n",
       "      <td>20</td>\n",
       "      <td>Healthy weight</td>\n",
       "    </tr>\n",
       "    <tr>\n",
       "      <th>2</th>\n",
       "      <td>26</td>\n",
       "      <td>Overweight</td>\n",
       "    </tr>\n",
       "    <tr>\n",
       "      <th>3</th>\n",
       "      <td>24</td>\n",
       "      <td>Healthy weight</td>\n",
       "    </tr>\n",
       "  </tbody>\n",
       "</table>\n",
       "</div>"
      ],
      "text/plain": [
       "   BMI        BMIGroup\n",
       "0   16     Underweight\n",
       "1   20  Healthy weight\n",
       "2   26      Overweight\n",
       "3   24  Healthy weight"
      ]
     },
     "execution_count": 53,
     "metadata": {},
     "output_type": "execute_result"
    }
   ],
   "source": [
    "# Step 1\n",
    "tbckills_corr['BMIGroup'] = tbckills_corr['BMI'].apply(lambda x: (x<18.5 and 'Underweight') or \n",
    "                                  (18.5<=x<25 and 'Healthy weight') or\n",
    "                                  (25<=x<30 and 'Overweight')\n",
    "                                  or 'Obesity')\n",
    "tbckills_corr[['BMI', 'BMIGroup']].head(4)"
   ]
  },
  {
   "cell_type": "code",
   "execution_count": 54,
   "id": "c0d33db7",
   "metadata": {},
   "outputs": [
    {
     "data": {
      "text/plain": [
       "<bound method DataFrame.groupby of         Age  BMI  Sex  Smoking  Alcohol  SleepTime  LifeStyle  HeartDisease  \\\n",
       "0         4   16    0        1        0          5          2             0   \n",
       "1         6   20    0        0        0          7          4             0   \n",
       "2         5   26    1        1        0          8          4             0   \n",
       "3         5   24    0        0        0          6          1             0   \n",
       "4         2   23    0        0        0          8          4             0   \n",
       "...     ...  ...  ...      ...      ...        ...        ...           ...   \n",
       "319790    4   27    1        1        0          6          1             1   \n",
       "319791    2   29    1        1        0          5          2             0   \n",
       "319792    3   24    0        0        0          6          2             0   \n",
       "319793    1   32    0        0        0         12          1             0   \n",
       "319794    6   46    0        0        0          8          4             0   \n",
       "\n",
       "        Stroke  Diabetic  GenHealth  KidneyDisease  Asthma        BMIGroup  \n",
       "0            0         2          4              0       1     Underweight  \n",
       "1            1         0          4              0       0  Healthy weight  \n",
       "2            0         2          2              0       1      Overweight  \n",
       "3            0         0          3              0       0  Healthy weight  \n",
       "4            0         0          4              0       0  Healthy weight  \n",
       "...        ...       ...        ...            ...     ...             ...  \n",
       "319790       0         2          2              0       1      Overweight  \n",
       "319791       0         0          4              0       1      Overweight  \n",
       "319792       0         0          3              0       0  Healthy weight  \n",
       "319793       0         0          3              0       0         Obesity  \n",
       "319794       0         0          3              0       0         Obesity  \n",
       "\n",
       "[319795 rows x 14 columns]>"
      ]
     },
     "execution_count": 54,
     "metadata": {},
     "output_type": "execute_result"
    }
   ],
   "source": [
    "tbckills_corr.groupby"
   ]
  },
  {
   "cell_type": "code",
   "execution_count": 55,
   "id": "e9919e50",
   "metadata": {},
   "outputs": [],
   "source": [
    "# Step 1\n",
    "\n",
    "weightu_heart = tbckills_corr[(tbckills_corr.HeartDisease == 1) & (tbckills_corr.BMIGroup == 'Underweight')].shape[0]\n",
    "weightu_db = tbckills_corr[(tbckills_corr.Diabetic == 1) & (tbckills_corr.BMIGroup == 'Underweight')].shape[0]\n",
    "\n",
    "weighth_heart = tbckills_corr[(tbckills_corr.HeartDisease == 1) & (tbckills_corr.BMIGroup == 'Healthy weight')].shape[0]\n",
    "weighth_db = tbckills_corr[(tbckills_corr.Diabetic == 1) & (tbckills_corr.BMIGroup == 'Healthy weight')].shape[0]\n",
    "\n",
    "weighto_heart = tbckills_corr[(tbckills_corr.HeartDisease == 1) & (tbckills_corr.BMIGroup == 'Overweight')].shape[0]\n",
    "weighto_db = tbckills_corr[(tbckills_corr.Diabetic == 1) & (tbckills_corr.BMIGroup == 'Overweight')].shape[0]\n",
    "\n",
    "obs_heart = tbckills_corr[(tbckills_corr.HeartDisease == 1) & (tbckills_corr.BMIGroup == 'Obesity')].shape[0]\n",
    "obs_db = tbckills_corr[(tbckills_corr.Diabetic == 1) & (tbckills_corr.BMIGroup == 'Obesity')].shape[0]"
   ]
  },
  {
   "cell_type": "code",
   "execution_count": 56,
   "id": "1571600e",
   "metadata": {},
   "outputs": [
    {
     "data": {
      "text/html": [
       "<div>\n",
       "<style scoped>\n",
       "    .dataframe tbody tr th:only-of-type {\n",
       "        vertical-align: middle;\n",
       "    }\n",
       "\n",
       "    .dataframe tbody tr th {\n",
       "        vertical-align: top;\n",
       "    }\n",
       "\n",
       "    .dataframe thead th {\n",
       "        text-align: right;\n",
       "    }\n",
       "</style>\n",
       "<table border=\"1\" class=\"dataframe\">\n",
       "  <thead>\n",
       "    <tr style=\"text-align: right;\">\n",
       "      <th></th>\n",
       "      <th>Underweight</th>\n",
       "      <th>Healthy weight</th>\n",
       "      <th>Overweight</th>\n",
       "      <th>Obesity</th>\n",
       "    </tr>\n",
       "  </thead>\n",
       "  <tbody>\n",
       "    <tr>\n",
       "      <th>Heart</th>\n",
       "      <td>554</td>\n",
       "      <td>6156</td>\n",
       "      <td>9991</td>\n",
       "      <td>10672</td>\n",
       "    </tr>\n",
       "    <tr>\n",
       "      <th>Diabete</th>\n",
       "      <td>108</td>\n",
       "      <td>1302</td>\n",
       "      <td>2212</td>\n",
       "      <td>3159</td>\n",
       "    </tr>\n",
       "  </tbody>\n",
       "</table>\n",
       "</div>"
      ],
      "text/plain": [
       "         Underweight  Healthy weight  Overweight  Obesity\n",
       "Heart            554            6156        9991    10672\n",
       "Diabete          108            1302        2212     3159"
      ]
     },
     "execution_count": 56,
     "metadata": {},
     "output_type": "execute_result"
    }
   ],
   "source": [
    "# Step 2\n",
    "\n",
    "cols7 = {'Underweight': [weightu_heart, weightu_db],\n",
    "         'Healthy weight': [weighth_heart, weighth_db],\n",
    "         'Overweight': [weighto_heart, weighto_db],\n",
    "         'Obesity': [obs_heart, obs_db]}\n",
    "    \n",
    "vs7 = pd.DataFrame(cols7, index = ['Heart', 'Diabete'])\n",
    "vs7"
   ]
  },
  {
   "cell_type": "code",
   "execution_count": 57,
   "id": "928d4b95",
   "metadata": {},
   "outputs": [
    {
     "name": "stderr",
     "output_type": "stream",
     "text": [
      "C:\\Users\\thutr\\anaconda3\\Lib\\site-packages\\pandas\\util\\_decorators.py:211: FutureWarning: the 'encoding' keyword is deprecated and will be removed in a future version. Please take steps to stop the use of 'encoding'\n",
      "  return func(*args, **kwargs)\n",
      "C:\\Users\\thutr\\AppData\\Local\\Temp\\ipykernel_19948\\3483732696.py:6: FutureWarning: save is not part of the public API, usage can give unexpected results and will be removed in a future version\n",
      "  writer7.save()\n"
     ]
    }
   ],
   "source": [
    "# Step 3\n",
    "\n",
    "from pandas import ExcelWriter\n",
    "writer7 = ExcelWriter('Фам_Visualization7.xlsx')\n",
    "vs7.to_excel(writer7, encoding='utf8', index = True)\n",
    "writer7.save()\n",
    "\n"
   ]
  },
  {
   "cell_type": "code",
   "execution_count": 58,
   "id": "407d4e40",
   "metadata": {},
   "outputs": [
    {
     "data": {
      "text/html": [
       "<img src=\"Vs7.png\" width=\"500\" height=\"500\"/>"
      ],
      "text/plain": [
       "<IPython.core.display.Image object>"
      ]
     },
     "execution_count": 58,
     "metadata": {},
     "output_type": "execute_result"
    }
   ],
   "source": [
    "# Step 4\n",
    "\n",
    "from IPython.display import Image\n",
    "  \n",
    "Image(url=\"Vs7.png\", width=500, height=500)"
   ]
  },
  {
   "cell_type": "markdown",
   "id": "e2e55987",
   "metadata": {},
   "source": [
    "**Comments**:\n",
    "- Result: \n",
    "    + Diabete: (1) In the original dataset, the number of ppl who have obesity are lesst than that of ppl who are overweight. However, when it comes to Diabete, the number of obese people surge up, significantly higher than any other BMI group. (2) In the original dataset, the amount of overweight, obese, healthy people are quite qual. However, with diabete, it is clear that the number of obese and overweight people are much more.\n",
    "    + Heart: The obese and overweight groups are still larger in number compared to the healthy group.\n",
    "- Hypothesis: \n",
    "     + **Diabete and Heart Disease can occur to all types of BMI groups including ones with healthy weight, but very rare to underweight ones**\n",
    "     + **People in the overweight and obesity ranages are more likely to have diabete and/or heart disease**"
   ]
  },
  {
   "cell_type": "markdown",
   "id": "93ec8098",
   "metadata": {},
   "source": [
    "**Visualization 8**: Grouped bar chart of **Heart Disease, Diabetic** to compare between **Smokers and Non-smokers**\n",
    "\n",
    "**Step 1**: Count values. (For example: smoke_heart = the number of participants who smoke and have heart disease)\n",
    "\n",
    "**Step 2**: Create a dataframe of necessary variables\n",
    "\n",
    "**Step 3**: Export into Excel for better visualization\n",
    "\n",
    "**Step 4**: Excel"
   ]
  },
  {
   "cell_type": "code",
   "execution_count": 59,
   "id": "9d243159",
   "metadata": {},
   "outputs": [],
   "source": [
    "# Step 1\n",
    "\n",
    "smoke_heart = tbckills_corr[(tbckills_corr.HeartDisease == 1) & (tbckills_corr.Smoking ==1)].shape[0]\n",
    "smoke_db = tbckills_corr[(tbckills_corr.Diabetic == 1) & (tbckills_corr.Smoking ==1)].shape[0]\n",
    "smoke_kidney = tbckills_corr[(tbckills_corr.KidneyDisease == 1) & (tbckills_corr.Smoking ==1)].shape[0]\n",
    "smoke_stroke = tbckills_corr[(tbckills_corr.Stroke == 1) & (tbckills_corr.Smoking ==1)].shape[0]\n",
    "smoke_asthma = tbckills_corr[(tbckills_corr.Asthma == 1) & (tbckills_corr.Smoking ==1)].shape[0]\n",
    "\n",
    "nosmoke_heart = tbckills_corr[(tbckills_corr.HeartDisease == 1) & (tbckills_corr.Smoking == 0)].shape[0]\n",
    "nosmoke_db = tbckills_corr[(tbckills_corr.Diabetic == 1) & (tbckills_corr.Smoking == 0)].shape[0]\n",
    "nosmoke_kidney = tbckills_corr[(tbckills_corr.KidneyDisease == 1) & (tbckills_corr.Smoking == 0)].shape[0]\n",
    "nosmoke_stroke = tbckills_corr[(tbckills_corr.Stroke == 1) & (tbckills_corr.Smoking == 0)].shape[0]\n",
    "nosmoke_asthma = tbckills_corr[(tbckills_corr.Asthma == 1) & (tbckills_corr.Smoking == 0)].shape[0]"
   ]
  },
  {
   "cell_type": "code",
   "execution_count": 60,
   "id": "4d2247fa",
   "metadata": {},
   "outputs": [
    {
     "data": {
      "text/html": [
       "<div>\n",
       "<style scoped>\n",
       "    .dataframe tbody tr th:only-of-type {\n",
       "        vertical-align: middle;\n",
       "    }\n",
       "\n",
       "    .dataframe tbody tr th {\n",
       "        vertical-align: top;\n",
       "    }\n",
       "\n",
       "    .dataframe thead th {\n",
       "        text-align: right;\n",
       "    }\n",
       "</style>\n",
       "<table border=\"1\" class=\"dataframe\">\n",
       "  <thead>\n",
       "    <tr style=\"text-align: right;\">\n",
       "      <th></th>\n",
       "      <th>Smokers</th>\n",
       "      <th>Non-smokers</th>\n",
       "    </tr>\n",
       "  </thead>\n",
       "  <tbody>\n",
       "    <tr>\n",
       "      <th>Heart</th>\n",
       "      <td>16037</td>\n",
       "      <td>11336</td>\n",
       "    </tr>\n",
       "    <tr>\n",
       "      <th>Kidney</th>\n",
       "      <td>5894</td>\n",
       "      <td>5885</td>\n",
       "    </tr>\n",
       "    <tr>\n",
       "      <th>Diabete</th>\n",
       "      <td>2959</td>\n",
       "      <td>3822</td>\n",
       "    </tr>\n",
       "    <tr>\n",
       "      <th>Stroke</th>\n",
       "      <td>6815</td>\n",
       "      <td>5254</td>\n",
       "    </tr>\n",
       "    <tr>\n",
       "      <th>Asthma</th>\n",
       "      <td>18979</td>\n",
       "      <td>23893</td>\n",
       "    </tr>\n",
       "  </tbody>\n",
       "</table>\n",
       "</div>"
      ],
      "text/plain": [
       "         Smokers  Non-smokers\n",
       "Heart      16037        11336\n",
       "Kidney      5894         5885\n",
       "Diabete     2959         3822\n",
       "Stroke      6815         5254\n",
       "Asthma     18979        23893"
      ]
     },
     "execution_count": 60,
     "metadata": {},
     "output_type": "execute_result"
    }
   ],
   "source": [
    "# Step 2\n",
    "\n",
    "cols8 = {'Smokers': [smoke_heart, smoke_kidney, smoke_db, smoke_stroke, smoke_asthma],\n",
    "         'Non-smokers': [nosmoke_heart, nosmoke_kidney, nosmoke_db, nosmoke_stroke, nosmoke_asthma]}\n",
    "\n",
    "vs8 = pd.DataFrame(cols8, index = ['Heart', 'Kidney', 'Diabete', 'Stroke', 'Asthma'])\n",
    "vs8"
   ]
  },
  {
   "cell_type": "code",
   "execution_count": 61,
   "id": "52b84a02",
   "metadata": {},
   "outputs": [
    {
     "name": "stderr",
     "output_type": "stream",
     "text": [
      "C:\\Users\\thutr\\anaconda3\\Lib\\site-packages\\pandas\\util\\_decorators.py:211: FutureWarning: the 'encoding' keyword is deprecated and will be removed in a future version. Please take steps to stop the use of 'encoding'\n",
      "  return func(*args, **kwargs)\n",
      "C:\\Users\\thutr\\AppData\\Local\\Temp\\ipykernel_19948\\895372933.py:6: FutureWarning: save is not part of the public API, usage can give unexpected results and will be removed in a future version\n",
      "  writer8.save()\n"
     ]
    }
   ],
   "source": [
    "# Step 3\n",
    "\n",
    "from pandas import ExcelWriter\n",
    "writer8 = ExcelWriter('Фам_Visualization8.xlsx')\n",
    "vs8.to_excel(writer8, encoding='utf8', index = True)\n",
    "writer8.save()\n",
    "\n"
   ]
  },
  {
   "cell_type": "code",
   "execution_count": 62,
   "id": "903eaf8c",
   "metadata": {},
   "outputs": [
    {
     "data": {
      "text/html": [
       "<img src=\"Vs8.png\" width=\"600\" height=\"600\"/>"
      ],
      "text/plain": [
       "<IPython.core.display.Image object>"
      ]
     },
     "execution_count": 62,
     "metadata": {},
     "output_type": "execute_result"
    }
   ],
   "source": [
    "# Step 4\n",
    "\n",
    "from IPython.display import Image\n",
    "  \n",
    "Image(url=\"Vs8.png\", width=600, height=600)"
   ]
  },
  {
   "cell_type": "markdown",
   "id": "be11896a",
   "metadata": {},
   "source": [
    "**Comments**:\n",
    "- Results:\n",
    "    + Heart: The number of smokers are moderately higher than non-smokers.\n",
    "    + Asthma: Surprising, ppl who have asthma are more non-smokers than smokers. However, it is important to know that non-smokers can also be passive smokers (who smell the smokes), and it is more dangerous to be passive smokers than active smokers.\n",
    "    + There are no significant differences in the number of smokers and non-smokers for ppl who have kidney disease, stroke or diabete\n",
    "- Hypotheses: **Smoking DOES affect heart and leads to heart disease(s)**"
   ]
  },
  {
   "cell_type": "markdown",
   "id": "cfa71125",
   "metadata": {},
   "source": [
    "**Visualization 9**: Grouped bar chart of **Heart Disease, Diabetic** to compare between **Age groups**\n",
    "\n",
    "**Step 1**: Create Age groups from Age. Count values. (For example: age1_heart = the number of participants who are from 25 - 34 years old and have heart disease)\n",
    "- 25-34: 1\n",
    "- 35-44: 2\n",
    "- 45-54: 3\n",
    "- 55-64: 4\n",
    "- 65-79: 5\n",
    "- 80+: 6\n",
    "\n",
    "**Step 2**: Create a dataframe of necessary variables\n",
    "\n",
    "**Step 3**: Export into Excel for better visualization\n",
    "\n",
    "**Step 4**: Excel"
   ]
  },
  {
   "cell_type": "code",
   "execution_count": 63,
   "id": "d31a1b71",
   "metadata": {},
   "outputs": [],
   "source": [
    "# Step 1\n",
    "\n",
    "age1_heart = tbckills_corr[(tbckills_corr.HeartDisease == 1) & (tbckills_corr.Age == 1)].shape[0]\n",
    "age1_db = tbckills_corr[(tbckills_corr.Diabetic == 1) & (tbckills_corr.Age == 1)].shape[0]\n",
    "\n",
    "age2_heart = tbckills_corr[(tbckills_corr.HeartDisease == 1) & (tbckills_corr.Age == 2)].shape[0]\n",
    "age2_db = tbckills_corr[(tbckills_corr.Diabetic == 1) & (tbckills_corr.Age == 2)].shape[0]\n",
    "\n",
    "age3_heart = tbckills_corr[(tbckills_corr.HeartDisease == 1) & (tbckills_corr.Age == 3)].shape[0]\n",
    "age3_db = tbckills_corr[(tbckills_corr.Diabetic == 1) & (tbckills_corr.Age == 3)].shape[0]\n",
    "\n",
    "age4_heart = tbckills_corr[(tbckills_corr.HeartDisease == 1) & (tbckills_corr.Age == 4)].shape[0]\n",
    "age4_db = tbckills_corr[(tbckills_corr.Diabetic == 1) & (tbckills_corr.Age == 4)].shape[0]\n",
    "\n",
    "age5_heart = tbckills_corr[(tbckills_corr.HeartDisease == 1) & (tbckills_corr.Age == 5)].shape[0]\n",
    "age5_db = tbckills_corr[(tbckills_corr.Diabetic == 1) & (tbckills_corr.Age == 5)].shape[0]\n",
    "\n",
    "age6_heart = tbckills_corr[(tbckills_corr.HeartDisease == 1) & (tbckills_corr.Age == 6)].shape[0]\n",
    "age6_db = tbckills_corr[(tbckills_corr.Diabetic == 1) & (tbckills_corr.Age == 6)].shape[0]\n"
   ]
  },
  {
   "cell_type": "code",
   "execution_count": 64,
   "id": "4c7d8b9b",
   "metadata": {},
   "outputs": [
    {
     "data": {
      "text/html": [
       "<div>\n",
       "<style scoped>\n",
       "    .dataframe tbody tr th:only-of-type {\n",
       "        vertical-align: middle;\n",
       "    }\n",
       "\n",
       "    .dataframe tbody tr th {\n",
       "        vertical-align: top;\n",
       "    }\n",
       "\n",
       "    .dataframe thead th {\n",
       "        text-align: right;\n",
       "    }\n",
       "</style>\n",
       "<table border=\"1\" class=\"dataframe\">\n",
       "  <thead>\n",
       "    <tr style=\"text-align: right;\">\n",
       "      <th></th>\n",
       "      <th>25-34</th>\n",
       "      <th>35-44</th>\n",
       "      <th>45-54</th>\n",
       "      <th>55-64</th>\n",
       "      <th>65-79</th>\n",
       "      <th>80+</th>\n",
       "    </tr>\n",
       "  </thead>\n",
       "  <tbody>\n",
       "    <tr>\n",
       "      <th>Heart</th>\n",
       "      <td>133</td>\n",
       "      <td>782</td>\n",
       "      <td>744</td>\n",
       "      <td>5529</td>\n",
       "      <td>12997</td>\n",
       "      <td>7188</td>\n",
       "    </tr>\n",
       "    <tr>\n",
       "      <th>Diabete</th>\n",
       "      <td>175</td>\n",
       "      <td>573</td>\n",
       "      <td>398</td>\n",
       "      <td>1615</td>\n",
       "      <td>2424</td>\n",
       "      <td>1596</td>\n",
       "    </tr>\n",
       "  </tbody>\n",
       "</table>\n",
       "</div>"
      ],
      "text/plain": [
       "         25-34  35-44  45-54  55-64  65-79   80+\n",
       "Heart      133    782    744   5529  12997  7188\n",
       "Diabete    175    573    398   1615   2424  1596"
      ]
     },
     "execution_count": 64,
     "metadata": {},
     "output_type": "execute_result"
    }
   ],
   "source": [
    "# Step 2\n",
    "\n",
    "cols9 = {'25-34': [age1_heart, age1_db],\n",
    "         '35-44': [age2_heart, age2_db],\n",
    "         '45-54': [age3_heart, age3_db],\n",
    "         '55-64': [age4_heart, age4_db],\n",
    "         '65-79': [age5_heart, age5_db],\n",
    "         '80+': [age6_heart, age6_db]}\n",
    "\n",
    "vs9 = pd.DataFrame(cols9, index = ['Heart', 'Diabete'])\n",
    "vs9"
   ]
  },
  {
   "cell_type": "code",
   "execution_count": 65,
   "id": "e75665a6",
   "metadata": {},
   "outputs": [
    {
     "name": "stderr",
     "output_type": "stream",
     "text": [
      "C:\\Users\\thutr\\anaconda3\\Lib\\site-packages\\pandas\\util\\_decorators.py:211: FutureWarning: the 'encoding' keyword is deprecated and will be removed in a future version. Please take steps to stop the use of 'encoding'\n",
      "  return func(*args, **kwargs)\n",
      "C:\\Users\\thutr\\AppData\\Local\\Temp\\ipykernel_19948\\3332632524.py:6: FutureWarning: save is not part of the public API, usage can give unexpected results and will be removed in a future version\n",
      "  writer9.save()\n"
     ]
    }
   ],
   "source": [
    "# Step 3\n",
    "\n",
    "from pandas import ExcelWriter\n",
    "writer9 = ExcelWriter('Фам_Visualization9.xlsx')\n",
    "vs9.to_excel(writer9, encoding='utf8', index = True)\n",
    "writer9.save()\n",
    "\n"
   ]
  },
  {
   "cell_type": "code",
   "execution_count": 66,
   "id": "0539a4ab",
   "metadata": {},
   "outputs": [
    {
     "data": {
      "text/html": [
       "<img src=\"Vs91.png\" width=\"600\" height=\"600\"/>"
      ],
      "text/plain": [
       "<IPython.core.display.Image object>"
      ]
     },
     "execution_count": 66,
     "metadata": {},
     "output_type": "execute_result"
    }
   ],
   "source": [
    "# Step 4\n",
    "\n",
    "from IPython.display import Image\n",
    "  \n",
    "Image(url=\"Vs91.png\", width=600, height=600)\n"
   ]
  },
  {
   "cell_type": "code",
   "execution_count": 67,
   "id": "42db6bc4",
   "metadata": {},
   "outputs": [
    {
     "data": {
      "text/html": [
       "<img src=\"Vs93.png\" width=\"400\" height=\"400\"/>"
      ],
      "text/plain": [
       "<IPython.core.display.Image object>"
      ]
     },
     "execution_count": 67,
     "metadata": {},
     "output_type": "execute_result"
    }
   ],
   "source": [
    "# This photo is taken from Stage 4\n",
    "Image(url=\"Vs93.png\", width=400, height=400)"
   ]
  },
  {
   "cell_type": "code",
   "execution_count": 68,
   "id": "b661ca2f",
   "metadata": {},
   "outputs": [
    {
     "data": {
      "text/html": [
       "<img src=\"Vs92.png\" width=\"400\" height=\"400\"/>"
      ],
      "text/plain": [
       "<IPython.core.display.Image object>"
      ]
     },
     "execution_count": 68,
     "metadata": {},
     "output_type": "execute_result"
    }
   ],
   "source": [
    "Image(url=\"Vs92.png\", width=400, height=400)\n"
   ]
  },
  {
   "cell_type": "markdown",
   "id": "7ed08b0d",
   "metadata": {},
   "source": [
    "**Comments**:\n",
    "- Orginal data set: 'Older group' accounts for about 75% of the total number of participants. 'Younger group' - 1/4. \n",
    "\n",
    "- Results: The gap between the older group and younger group was about 75% - 25% = 50%, but\n",
    "    + Diabete: The gap betwwen the older group and younger group that HAVE diabete(s) is 88% - 12% = 70%, which means people who have diabete(s) tend to be in the older group.\n",
    "    + Heart Disease: The gap betwwen the older group and younger group that HAVE diabete(s) is 94% - 6% = 88%, which means people who have heart disease tend to be in the older group.\n",
    "    \n",
    "- Hypotheses: **People in the older range of age are more likely to have diabete(s) and heart disease**"
   ]
  },
  {
   "cell_type": "markdown",
   "id": "9f9af063",
   "metadata": {},
   "source": [
    "# Stage 6: Machine Learning"
   ]
  },
  {
   "cell_type": "code",
   "execution_count": 69,
   "id": "0041b4ca",
   "metadata": {},
   "outputs": [
    {
     "data": {
      "text/html": [
       "<div>\n",
       "<style scoped>\n",
       "    .dataframe tbody tr th:only-of-type {\n",
       "        vertical-align: middle;\n",
       "    }\n",
       "\n",
       "    .dataframe tbody tr th {\n",
       "        vertical-align: top;\n",
       "    }\n",
       "\n",
       "    .dataframe thead th {\n",
       "        text-align: right;\n",
       "    }\n",
       "</style>\n",
       "<table border=\"1\" class=\"dataframe\">\n",
       "  <thead>\n",
       "    <tr style=\"text-align: right;\">\n",
       "      <th></th>\n",
       "      <th>Age</th>\n",
       "      <th>BMI</th>\n",
       "      <th>Sex</th>\n",
       "      <th>Smoking</th>\n",
       "      <th>Alcohol</th>\n",
       "      <th>SleepTime</th>\n",
       "      <th>LifeStyle</th>\n",
       "      <th>HeartDisease</th>\n",
       "      <th>Stroke</th>\n",
       "      <th>Diabetic</th>\n",
       "      <th>GenHealth</th>\n",
       "      <th>KidneyDisease</th>\n",
       "      <th>Asthma</th>\n",
       "      <th>BMIGroup</th>\n",
       "    </tr>\n",
       "  </thead>\n",
       "  <tbody>\n",
       "    <tr>\n",
       "      <th>0</th>\n",
       "      <td>4</td>\n",
       "      <td>16</td>\n",
       "      <td>0</td>\n",
       "      <td>1</td>\n",
       "      <td>0</td>\n",
       "      <td>5</td>\n",
       "      <td>2</td>\n",
       "      <td>0</td>\n",
       "      <td>0</td>\n",
       "      <td>2</td>\n",
       "      <td>4</td>\n",
       "      <td>0</td>\n",
       "      <td>1</td>\n",
       "      <td>Underweight</td>\n",
       "    </tr>\n",
       "    <tr>\n",
       "      <th>1</th>\n",
       "      <td>6</td>\n",
       "      <td>20</td>\n",
       "      <td>0</td>\n",
       "      <td>0</td>\n",
       "      <td>0</td>\n",
       "      <td>7</td>\n",
       "      <td>4</td>\n",
       "      <td>0</td>\n",
       "      <td>1</td>\n",
       "      <td>0</td>\n",
       "      <td>4</td>\n",
       "      <td>0</td>\n",
       "      <td>0</td>\n",
       "      <td>Healthy weight</td>\n",
       "    </tr>\n",
       "    <tr>\n",
       "      <th>2</th>\n",
       "      <td>5</td>\n",
       "      <td>26</td>\n",
       "      <td>1</td>\n",
       "      <td>1</td>\n",
       "      <td>0</td>\n",
       "      <td>8</td>\n",
       "      <td>4</td>\n",
       "      <td>0</td>\n",
       "      <td>0</td>\n",
       "      <td>2</td>\n",
       "      <td>2</td>\n",
       "      <td>0</td>\n",
       "      <td>1</td>\n",
       "      <td>Overweight</td>\n",
       "    </tr>\n",
       "    <tr>\n",
       "      <th>3</th>\n",
       "      <td>5</td>\n",
       "      <td>24</td>\n",
       "      <td>0</td>\n",
       "      <td>0</td>\n",
       "      <td>0</td>\n",
       "      <td>6</td>\n",
       "      <td>1</td>\n",
       "      <td>0</td>\n",
       "      <td>0</td>\n",
       "      <td>0</td>\n",
       "      <td>3</td>\n",
       "      <td>0</td>\n",
       "      <td>0</td>\n",
       "      <td>Healthy weight</td>\n",
       "    </tr>\n",
       "    <tr>\n",
       "      <th>4</th>\n",
       "      <td>2</td>\n",
       "      <td>23</td>\n",
       "      <td>0</td>\n",
       "      <td>0</td>\n",
       "      <td>0</td>\n",
       "      <td>8</td>\n",
       "      <td>4</td>\n",
       "      <td>0</td>\n",
       "      <td>0</td>\n",
       "      <td>0</td>\n",
       "      <td>4</td>\n",
       "      <td>0</td>\n",
       "      <td>0</td>\n",
       "      <td>Healthy weight</td>\n",
       "    </tr>\n",
       "  </tbody>\n",
       "</table>\n",
       "</div>"
      ],
      "text/plain": [
       "   Age  BMI  Sex  Smoking  Alcohol  SleepTime  LifeStyle  HeartDisease  \\\n",
       "0    4   16    0        1        0          5          2             0   \n",
       "1    6   20    0        0        0          7          4             0   \n",
       "2    5   26    1        1        0          8          4             0   \n",
       "3    5   24    0        0        0          6          1             0   \n",
       "4    2   23    0        0        0          8          4             0   \n",
       "\n",
       "   Stroke  Diabetic  GenHealth  KidneyDisease  Asthma        BMIGroup  \n",
       "0       0         2          4              0       1     Underweight  \n",
       "1       1         0          4              0       0  Healthy weight  \n",
       "2       0         2          2              0       1      Overweight  \n",
       "3       0         0          3              0       0  Healthy weight  \n",
       "4       0         0          4              0       0  Healthy weight  "
      ]
     },
     "execution_count": 69,
     "metadata": {},
     "output_type": "execute_result"
    }
   ],
   "source": [
    "tbckills_corr.head(5)"
   ]
  },
  {
   "cell_type": "markdown",
   "id": "57b23aa5",
   "metadata": {},
   "source": [
    "**Step 1**: Create a constant copy of tbckills_corr[:]. Customize the new dataframe"
   ]
  },
  {
   "cell_type": "code",
   "execution_count": 70,
   "id": "52a416d0",
   "metadata": {},
   "outputs": [],
   "source": [
    "tbc_ml = tbckills_corr[:]"
   ]
  },
  {
   "cell_type": "code",
   "execution_count": 71,
   "id": "a06734c5",
   "metadata": {},
   "outputs": [],
   "source": [
    "# Drop columns BMIGroup, LifeStyle, GenHealth, and SleepTime\n",
    "tbc_ml = tbc_ml.drop(['BMIGroup', 'LifeStyle', 'GenHealth', \"SleepTime\"], axis=1)\n",
    "\n",
    "# Change the Age variable from categorical to numerical based on the mean of each age gap\n",
    "tbc_ml['Age'].replace({6: 90, 5: 70, 4: 60, 3: 50, 2: 40, 1: 30}, inplace=True)"
   ]
  },
  {
   "cell_type": "code",
   "execution_count": 72,
   "id": "bcc9f07a",
   "metadata": {},
   "outputs": [
    {
     "data": {
      "text/html": [
       "<div>\n",
       "<style scoped>\n",
       "    .dataframe tbody tr th:only-of-type {\n",
       "        vertical-align: middle;\n",
       "    }\n",
       "\n",
       "    .dataframe tbody tr th {\n",
       "        vertical-align: top;\n",
       "    }\n",
       "\n",
       "    .dataframe thead th {\n",
       "        text-align: right;\n",
       "    }\n",
       "</style>\n",
       "<table border=\"1\" class=\"dataframe\">\n",
       "  <thead>\n",
       "    <tr style=\"text-align: right;\">\n",
       "      <th></th>\n",
       "      <th>Age</th>\n",
       "      <th>BMI</th>\n",
       "      <th>Sex</th>\n",
       "      <th>Smoking</th>\n",
       "      <th>Alcohol</th>\n",
       "      <th>HeartDisease</th>\n",
       "      <th>Stroke</th>\n",
       "      <th>Diabetic</th>\n",
       "      <th>KidneyDisease</th>\n",
       "      <th>Asthma</th>\n",
       "    </tr>\n",
       "  </thead>\n",
       "  <tbody>\n",
       "    <tr>\n",
       "      <th>0</th>\n",
       "      <td>60</td>\n",
       "      <td>16</td>\n",
       "      <td>0</td>\n",
       "      <td>1</td>\n",
       "      <td>0</td>\n",
       "      <td>0</td>\n",
       "      <td>0</td>\n",
       "      <td>2</td>\n",
       "      <td>0</td>\n",
       "      <td>1</td>\n",
       "    </tr>\n",
       "    <tr>\n",
       "      <th>1</th>\n",
       "      <td>90</td>\n",
       "      <td>20</td>\n",
       "      <td>0</td>\n",
       "      <td>0</td>\n",
       "      <td>0</td>\n",
       "      <td>0</td>\n",
       "      <td>1</td>\n",
       "      <td>0</td>\n",
       "      <td>0</td>\n",
       "      <td>0</td>\n",
       "    </tr>\n",
       "    <tr>\n",
       "      <th>2</th>\n",
       "      <td>70</td>\n",
       "      <td>26</td>\n",
       "      <td>1</td>\n",
       "      <td>1</td>\n",
       "      <td>0</td>\n",
       "      <td>0</td>\n",
       "      <td>0</td>\n",
       "      <td>2</td>\n",
       "      <td>0</td>\n",
       "      <td>1</td>\n",
       "    </tr>\n",
       "    <tr>\n",
       "      <th>3</th>\n",
       "      <td>70</td>\n",
       "      <td>24</td>\n",
       "      <td>0</td>\n",
       "      <td>0</td>\n",
       "      <td>0</td>\n",
       "      <td>0</td>\n",
       "      <td>0</td>\n",
       "      <td>0</td>\n",
       "      <td>0</td>\n",
       "      <td>0</td>\n",
       "    </tr>\n",
       "    <tr>\n",
       "      <th>4</th>\n",
       "      <td>40</td>\n",
       "      <td>23</td>\n",
       "      <td>0</td>\n",
       "      <td>0</td>\n",
       "      <td>0</td>\n",
       "      <td>0</td>\n",
       "      <td>0</td>\n",
       "      <td>0</td>\n",
       "      <td>0</td>\n",
       "      <td>0</td>\n",
       "    </tr>\n",
       "  </tbody>\n",
       "</table>\n",
       "</div>"
      ],
      "text/plain": [
       "   Age  BMI  Sex  Smoking  Alcohol  HeartDisease  Stroke  Diabetic  \\\n",
       "0   60   16    0        1        0             0       0         2   \n",
       "1   90   20    0        0        0             0       1         0   \n",
       "2   70   26    1        1        0             0       0         2   \n",
       "3   70   24    0        0        0             0       0         0   \n",
       "4   40   23    0        0        0             0       0         0   \n",
       "\n",
       "   KidneyDisease  Asthma  \n",
       "0              0       1  \n",
       "1              0       0  \n",
       "2              0       1  \n",
       "3              0       0  \n",
       "4              0       0  "
      ]
     },
     "execution_count": 72,
     "metadata": {},
     "output_type": "execute_result"
    }
   ],
   "source": [
    "tbc_ml.head()"
   ]
  },
  {
   "cell_type": "markdown",
   "id": "718164ab",
   "metadata": {},
   "source": [
    "**Step 2**: Determin target variable: Heart Disease"
   ]
  },
  {
   "cell_type": "code",
   "execution_count": 73,
   "id": "9aa53772",
   "metadata": {},
   "outputs": [],
   "source": [
    "from sklearn.model_selection import train_test_split\n",
    "from sklearn.preprocessing import StandardScaler\n",
    "np.random.seed(123)"
   ]
  },
  {
   "cell_type": "code",
   "execution_count": 74,
   "id": "733071c9",
   "metadata": {},
   "outputs": [],
   "source": [
    "# X = all variables except for 'HeartDisease'\n",
    "X = tbc_ml.drop('HeartDisease', axis=1)\n",
    "\n",
    "# y = 'HeartDisease'\n",
    "y = tbc_ml['HeartDisease']\n"
   ]
  },
  {
   "cell_type": "markdown",
   "id": "20d14c10",
   "metadata": {},
   "source": [
    "**Step 3**: Check if logistic regression is necessary.\n",
    "- Yellow dots indicate Heart Disease = 0 ('No')\n",
    "- Purple dots indicate Heart Disease = 1 ('Yes')\n",
    "\n",
    "These dots overlap and are not linearly separatable => We need logistic regression to study further"
   ]
  },
  {
   "cell_type": "code",
   "execution_count": 75,
   "id": "00725c42",
   "metadata": {},
   "outputs": [],
   "source": [
    "X_train, X_test, y_train, y_test = train_test_split(X, y, test_size = 0.3)\n",
    "\n",
    "ss = StandardScaler()\n",
    "X_train = ss.fit_transform(X_train)\n",
    "X_test = ss.transform(X_test)\n"
   ]
  },
  {
   "cell_type": "code",
   "execution_count": 76,
   "id": "8ebde19c",
   "metadata": {},
   "outputs": [
    {
     "data": {
      "text/plain": [
       "<matplotlib.collections.PathCollection at 0x139b7ecafd0>"
      ]
     },
     "execution_count": 76,
     "metadata": {},
     "output_type": "execute_result"
    },
    {
     "data": {
      "image/png": "[encoded data removed]",
      "text/plain": [
       "<Figure size 1000x700 with 1 Axes>"
      ]
     },
     "metadata": {},
     "output_type": "display_data"
    }
   ],
   "source": [
    "fig, ax = plt.subplots(figsize=(10, 7))\n",
    "\n",
    "plt.scatter(X_train[:, 0], X_train[:, 1], c = y_train)"
   ]
  },
  {
   "cell_type": "markdown",
   "id": "c7364085",
   "metadata": {},
   "source": [
    "**Step 4**: Logistic Regression\n"
   ]
  },
  {
   "cell_type": "code",
   "execution_count": 77,
   "id": "f143bcbc",
   "metadata": {},
   "outputs": [],
   "source": [
    "from sklearn.linear_model import LogisticRegression"
   ]
  },
  {
   "cell_type": "code",
   "execution_count": 78,
   "id": "8ee5ed3a",
   "metadata": {},
   "outputs": [
    {
     "name": "stdout",
     "output_type": "stream",
     "text": [
      "Coefficients of dependent variables in the Logistic Regression model: [[ 0.35349475  0.06086625  0.25642686  0.3318975  -0.11638571  0.30789711\n",
      "   0.35386429  0.20911276  0.0990976 ]]\n"
     ]
    }
   ],
   "source": [
    "lr = LogisticRegression()\n",
    "\n",
    "lr.fit(X_train, y_train)\n",
    "\n",
    "# printing the coefficients of tLogisticRegressionhe dependent variables in the log reg model\n",
    "print(f'Coefficients of dependent variables in the Logistic Regression model: {lr.coef_}')"
   ]
  },
  {
   "cell_type": "code",
   "execution_count": 79,
   "id": "43e12f44",
   "metadata": {},
   "outputs": [
    {
     "name": "stdout",
     "output_type": "stream",
     "text": [
      "Binary classes of the target variables:\n",
      "0    292422\n",
      "1     27373\n",
      "Name: HeartDisease, dtype: int64\n",
      "There is around 1 in 10.682862674898622 people have a heart disease\n"
     ]
    }
   ],
   "source": [
    "print(f'Binary classes of the target variables:\\n{pd.Series(y).value_counts()}')\n",
    "a = 292422/27373\n",
    "print(f'There is around 1 in {a} people have a heart disease')\n"
   ]
  },
  {
   "cell_type": "code",
   "execution_count": 80,
   "id": "af896370",
   "metadata": {},
   "outputs": [
    {
     "name": "stdout",
     "output_type": "stream",
     "text": [
      "Train set:\n",
      "0    204876\n",
      "1     18980\n",
      "Name: HeartDisease, dtype: int64\n",
      "There is around 1 in 10.70856216329306 people have a heart disease\n"
     ]
    }
   ],
   "source": [
    "print(f'Train set:\\n{pd.Series(y_train).value_counts()}')\n",
    "b = 204737/19119\n",
    "print(f'There is around 1 in {b} people have a heart disease')"
   ]
  },
  {
   "cell_type": "code",
   "execution_count": 81,
   "id": "74fc75fd",
   "metadata": {},
   "outputs": [
    {
     "name": "stdout",
     "output_type": "stream",
     "text": [
      "Test set:\n",
      "0    87546\n",
      "1     8393\n",
      "Name: HeartDisease, dtype: int64\n",
      "There is around 1 in 10.623334141022534 people have a heart disease\n"
     ]
    }
   ],
   "source": [
    "print(f'Test set:\\n{pd.Series(y_test).value_counts()}')\n",
    "c = 87685/8254\n",
    "print(f'There is around 1 in {c} people have a heart disease')"
   ]
  },
  {
   "cell_type": "markdown",
   "id": "5c583c5c",
   "metadata": {},
   "source": [
    "**Step 5**: Metrics\n"
   ]
  },
  {
   "cell_type": "markdown",
   "id": "2656bc1d",
   "metadata": {},
   "source": [
    "Because there is only 1 person in  around 11 people have heart disease, we can see that the data is quite **imbalanced**. This imbalance will explain some of the metrics of the model accuracy."
   ]
  },
  {
   "cell_type": "code",
   "execution_count": 82,
   "id": "3c0520f3",
   "metadata": {},
   "outputs": [],
   "source": [
    "# y_pred = the predicted output of the log reg model on the test set\n",
    "y_pred = lr.predict(X_test) \n",
    "\n",
    "# y_true = the real values of the test set\n",
    "\n",
    "y_true = y_test "
   ]
  },
  {
   "cell_type": "code",
   "execution_count": 83,
   "id": "007ccd58",
   "metadata": {},
   "outputs": [],
   "source": [
    "from sklearn.metrics import \\\n",
    "    accuracy_score, precision_score, recall_score, f1_score, \\\n",
    "    confusion_matrix"
   ]
  },
  {
   "cell_type": "code",
   "execution_count": 84,
   "id": "010b3594",
   "metadata": {},
   "outputs": [
    {
     "name": "stdout",
     "output_type": "stream",
     "text": [
      "Accuracy score: 0.9130906096582203\n",
      "Precision score: 0.5286757038581856\n",
      "Recall score: 0.06040748242583105\n",
      "f1 score: 0.10842600513259197\n"
     ]
    }
   ],
   "source": [
    "print(f'Accuracy score: {accuracy_score(y_true,y_pred)}')\n",
    "\n",
    "#true positive / (true positive + false positive) \n",
    "print(f'Precision score: {precision_score(y_true,y_pred)}') \n",
    "\n",
    "# true positive / (true positive + false negative)\n",
    "print(f'Recall score: {recall_score(y_true,y_pred)}') \n",
    "\n",
    "print(f'f1 score: {f1_score(y_true,y_pred)}') \n",
    "\n",
    " #f1 âm tính nhiều nên predict âm tính tốt còn dương tính kém vì imbalanced"
   ]
  },
  {
   "cell_type": "markdown",
   "id": "91944d74",
   "metadata": {},
   "source": [
    "**Interpretation**:\n",
    "-  Based on our test set, we see that the **accuracy score is 91.47%**, which means the model **predicted very accurately** (correctly 91.47% of the time) whether a person has a heart disease based on their age, BMI, sex, whether they smoke, drink alcohol, is diabetic, had a stroke, has a kidney disease or asthma. \n",
    "- However, the **f1 score is very low**, around 10%, which is not good and this is caused by the imbalanced data. \n",
    "- More specifically, the **precision score is 53.9%**, which means among the positive results predicted, 53.9% of these people actually have a heart disease. \n",
    "- The **recall score is only 6%**, which means around 94% of people that actually have a heart disease were predicted to NOT have a heart disease. (This is backed up by the actual true/false positive/negative results from our model below, where the false negative number is very high compared to both the true/false positives)\n",
    "\n",
    "**In general**, it can be quite dangerous to predict false negative than false positive, where a person with heart disease is predicted to NOT have it."
   ]
  },
  {
   "cell_type": "code",
   "execution_count": 85,
   "id": "5bc1f7b3",
   "metadata": {},
   "outputs": [
    {
     "name": "stdout",
     "output_type": "stream",
     "text": [
      "True Negative: 87094\n",
      "False Positive: 452\n",
      "False Negative: 7886\n",
      "True Positive: 507\n"
     ]
    }
   ],
   "source": [
    "confu = confusion_matrix(y_true,y_pred)\n",
    "\n",
    "tn, fp, fn, tp = confu.ravel()\n",
    "print(\"True Negative:\", tn)\n",
    "print(\"False Positive:\", fp)\n",
    "print(\"False Negative:\", fn)\n",
    "print(\"True Positive:\", tp)\n",
    "\n"
   ]
  },
  {
   "cell_type": "markdown",
   "id": "dbcc3299",
   "metadata": {},
   "source": [
    "**Conclusion**:\n",
    "\n",
    "- Since predicting if a person has heart disease is very important, we should see a higher recall score. \n",
    "- The recall score we observed was very low while the accuracy score was very high, which means our model is better at predicting if a person does NOT have a heart disease compared to if a person actually has a heart disease. \n",
    "- Our model's poor performance is due to **the very imbalanced dataset** and due to the fact that most of our dependent variables are categorical."
   ]
  },
  {
   "cell_type": "markdown",
   "id": "6b2434c6",
   "metadata": {},
   "source": [
    "**Important Disclaimers**:\n",
    "- The chosen dataset is rather imbalanced (for example, the number of people who have heart disease/kidney disease/... account for a very low percentage of the total number of participants). This affects the results and model's performance.\n",
    "- The chosen dataset contains many binary variables. This affects the results and model's performance\n",
    "- However, I believe that the dataset is very realistic, because:\n",
    "    + 1. There cannot be too much people who have cardiovascular diseases in real life. It is normally that the majority of participants DO NOT have heart disease, as it would be a chaos if they do 🙂\n",
    "    + 2. The number of participants is big: 319795.\n",
    "    + 3. The dataset is extracted from a real survey in 2020.\n",
    "    "
   ]
  },
  {
   "cell_type": "markdown",
   "id": "cbc3acf8",
   "metadata": {},
   "source": [
    "# Thank you for your attention.\n",
    "\n",
    "**And stop smoking. Tobacco kills :D**"
   ]
  },
  {
   "cell_type": "code",
   "execution_count": null,
   "id": "c6be7e8e",
   "metadata": {},
   "outputs": [],
   "source": []
  },
  {
   "cell_type": "code",
   "execution_count": null,
   "id": "4ab29817",
   "metadata": {},
   "outputs": [],
   "source": []
  }
 ],
 "metadata": {
  "kernelspec": {
   "display_name": "Python 3 (ipykernel)",
   "language": "python",
   "name": "python3"
  },
  "language_info": {
   "codemirror_mode": {
    "name": "ipython",
    "version": 3
   },
   "file_extension": ".py",
   "mimetype": "text/x-python",
   "name": "python",
   "nbconvert_exporter": "python",
   "pygments_lexer": "ipython3",
   "version": "3.11.4"
  }
 },
 "nbformat": 4,
 "nbformat_minor": 5
}
